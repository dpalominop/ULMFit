{
 "cells": [
  {
   "cell_type": "code",
   "execution_count": 1,
   "metadata": {},
   "outputs": [],
   "source": [
    "from __future__ import division, print_function\n",
    "# !conda install gensim -y\n",
    "# !conda install nltk -y\n",
    "import lib.xmlreader as xml\n",
    "import lib.utils as ut\n",
    "import numpy as np\n",
    "\n",
    "import gensim.models.word2vec\n",
    "import itertools\n",
    "from collections import Counter\n",
    "from nltk.tokenize import word_tokenize\n",
    "\n",
    "import re\n",
    "from nltk.corpus import stopwords\n",
    "from nltk.stem import SnowballStemmer\n",
    "from string import punctuation\n",
    "\n",
    "from sklearn.decomposition import TruncatedSVD\n",
    "from sklearn.feature_extraction.text import CountVectorizer\n",
    "from sklearn.metrics import accuracy_score, confusion_matrix, classification_report, f1_score\n",
    "from sklearn.model_selection import KFold\n",
    "import collections\n",
    "import numpy as np\n",
    "import matplotlib.pyplot as plt\n",
    "import operator\n",
    "import os\n",
    "%matplotlib inline"
   ]
  },
  {
   "cell_type": "markdown",
   "metadata": {},
   "source": [
    "# New Getting Dataset"
   ]
  },
  {
   "cell_type": "code",
   "execution_count": 2,
   "metadata": {},
   "outputs": [],
   "source": [
    "%reload_ext autoreload\n",
    "%autoreload 2\n",
    "%matplotlib inline\n",
    "\n",
    "import sys\n",
    "import os\n",
    "# sys.path.insert(0, os.getcwd()+'/fastai/')\n",
    "sys.path.insert(0, os.getcwd()+'/ELMoForManyLangs/')\n",
    "from fastai.text import *\n",
    "import html\n",
    "import json\n",
    "\n",
    "import pandas as pd\n",
    "import numpy as np\n",
    "# from google_drive_downloader import GoogleDriveDownloader as gdd\n",
    "from sklearn.model_selection import train_test_split\n",
    "from sklearn.metrics import f1_score, confusion_matrix\n",
    "\n",
    "np.random.seed(52)"
   ]
  },
  {
   "cell_type": "code",
   "execution_count": 3,
   "metadata": {},
   "outputs": [],
   "source": [
    "YEAR='2017'\n",
    "DATA_PATH=Path('./DATA/'+YEAR)\n",
    "# DATA_PATH=Path('./data/election_tweets')\n",
    "\n",
    "WIKILM_PATH=Path('./WIKI_LM/es/models')\n",
    "PRE_FINETUNE_PATH=Path('./FINETUNE/'+YEAR)\n",
    "\n",
    "TWEETSLM_PATH=Path('./TWEETS_LM/'+YEAR)\n",
    "CLAS_PATH=Path('./TWEETS_CLAS/'+YEAR)\n",
    "\n",
    "BOS = 'xbos'  # beginning-of-sentence tag\n",
    "FLD = 'xfld'  # data field tag"
   ]
  },
  {
   "cell_type": "code",
   "execution_count": 4,
   "metadata": {},
   "outputs": [],
   "source": [
    "def flattern(A):\n",
    "    'Source: https://stackoverflow.com/a/17867797/7273299'\n",
    "    \n",
    "    'Flattens a list of lists and strings into a list.'\n",
    "    rt = []\n",
    "    for i in A:\n",
    "        if isinstance(i,list): rt.extend(flattern(i))\n",
    "        else: rt.append(i)\n",
    "    return rt\n",
    "\n",
    "def isInt(v):\n",
    "    'Source: https://stackoverflow.com/a/9859202/7273299'\n",
    "    \n",
    "    'Checks if a string is a number.'\n",
    "    try:     i = int(v)\n",
    "    except:  return False\n",
    "    return True\n",
    "\n",
    "def char_count(word, chars, lbound=2):\n",
    "    char_count = [word.count(char) for char in chars]\n",
    "    return all(i >= lbound for i in char_count)\n",
    "\n",
    "def replace_lol(repl_str, texts):\n",
    "    for string, chars in repl_str:\n",
    "        texts = [[[string] if char_count(i, set(chars), 2) else i for i in text.split()] for text in texts]\n",
    "        texts = np.array([flattern(text) for text in texts])\n",
    "        texts = np.array([' '.join(text) for text in texts])\n",
    "    return texts\n",
    "\n",
    "import unicodedata\n",
    "\n",
    "def strip_accents(text):\n",
    "    \"\"\"\n",
    "    Strip accents from input String.\n",
    "\n",
    "    :param text: The input string.\n",
    "    :type text: String.\n",
    "\n",
    "    :returns: The processed String.\n",
    "    :rtype: String.\n",
    "    \"\"\"\n",
    "    try:\n",
    "        text = unicode(text, 'utf-8')\n",
    "    except (TypeError, NameError): # unicode is a default on python 3 \n",
    "        pass\n",
    "    text = unicodedata.normalize('NFD', text)\n",
    "    text = text.encode('ascii', 'ignore')\n",
    "    text = text.decode(\"utf-8\")\n",
    "    return str(text)\n",
    "\n",
    "def preprocess_tweets(tweets):\n",
    "    \"\"\"\n",
    "    twitter specific text processing and shuffle\n",
    "    \"\"\"\n",
    "    # Remove \\n\n",
    "    tweets = np.array([str(i).replace('\\n','. ') for i in tweets])\n",
    "    tweets = np.array([str(i).replace('&lt;',' ') for i in tweets])\n",
    "    tweets = np.array([str(i).replace('&gt;',' ') for i in tweets])\n",
    "    tweets = np.array([str(i).replace('\\xa0',' ') for i in tweets])\n",
    "    \n",
    "    # Remove accents\n",
    "    tweets = np.array([strip_accents(i) for i in tweets])\n",
    "    \n",
    "    # Placeholders for hyperlinks and user references\n",
    "    tweets = [['hyp_link' if i.startswith('http') \n",
    "               else 'hyp_link' if i.startswith('.http') \n",
    "               else 'user_ref' if i.startswith('@')\n",
    "               else 'hash_tag' if i.startswith('#')\n",
    "               else i for i in tweet.split()] for tweet in tweets]\n",
    "    tweets = np.array([' '.join(i) for i in tweets])\n",
    "\n",
    "    # Prefix for integers\n",
    "    tweets = [[['int_string'] if isInt(i) \n",
    "               else i for i in tweet.split()] for tweet in tweets]\n",
    "    tweets = np.array([flattern(tweet) for tweet in tweets])\n",
    "    tweets = np.array([' '.join(i) for i in tweets])\n",
    "\n",
    "    # Prefix for slang\n",
    "    tweets = [[['que'] if i in ['q', 'k', 'qu', 'ke', 'qe'] \n",
    "               else ['por'] if i=='x' \n",
    "               else ['porque'] if i in ['xq', 'pq', 'porq'] \n",
    "               else ['de'] if i=='d' \n",
    "               else ['te'] if i=='t'\n",
    "               else ['también'] if i=='tb'\n",
    "               else ['Que'] if i in ['Q', 'K', 'Qu','Ke', 'Qe'] \n",
    "               else ['Por'] if i=='X'\n",
    "               else ['Porque'] if i in ['Xq', 'Pq', 'Porq'] \n",
    "               else ['De'] if i=='D' \n",
    "               else ['Te'] if i=='T'\n",
    "               else ['También'] if i=='Tb'\n",
    "               else i for i in tweet.split()] for tweet in tweets]\n",
    "    tweets = np.array([flattern(tweet) for tweet in tweets])\n",
    "    tweets = np.array([' '.join(i) for i in tweets])\n",
    "\n",
    "    # Lol type characters\n",
    "    repl_str = [('risa_ja','ja'), ('risa_ji','ji'), ('risa_je','je'), ('risa_jo','jo'), ('risa_ju', 'ju'),\n",
    "               ('risa_ja','aj'), ('risa_ji','ij'), ('risa_ju', 'uj'), ('risa_ja', 'lol')]\n",
    "\n",
    "    # Adding prefix to lol type characters\n",
    "    tweets = replace_lol(repl_str, tweets)\n",
    "\n",
    "    return tweets\n"
   ]
  },
  {
   "cell_type": "code",
   "execution_count": 5,
   "metadata": {},
   "outputs": [],
   "source": [
    "#!python -m spacy download es\n",
    "import spacy\n",
    "spacy.prefer_gpu()\n",
    "re1 = re.compile(r'  +')\n",
    "\n",
    "def fixup(x):\n",
    "    x = x.replace('#39;', \"'\").replace('amp;', '&').replace('#146;', \"'\").replace(\n",
    "        'nbsp;', ' ').replace('#36;', '$').replace('\\\\n', \"\\n\").replace('quot;', \"'\").replace(\n",
    "        '<br />', \"\\n\").replace('\\\\\"', '\"').replace('<unk>','u_n').replace(' @.@ ','.').replace(\n",
    "        ' @-@ ','-').replace('\\\\', ' \\\\ ')\n",
    "    return re1.sub(' ', html.unescape(x))\n",
    "\n",
    "def get_texts(df):\n",
    "    labels = df[0].values.astype(np.int64)\n",
    "    texts = f'{BOS} ' + df[1].astype(str)\n",
    "    texts = texts.apply(fixup).values.astype(str)\n",
    "\n",
    "    tok = Tokenizer(lang='es').proc_all_mp(partition_by_cores(texts), lang='es')\n",
    "    return tok, list(labels)\n",
    "\n",
    "def get_all(df):\n",
    "    tok, labels = [], []\n",
    "    tok_, labels_ = get_texts(df)\n",
    "    tok += tok_;\n",
    "    labels += labels_\n",
    "    return tok, labels"
   ]
  },
  {
   "cell_type": "code",
   "execution_count": 6,
   "metadata": {},
   "outputs": [],
   "source": [
    "df_trn = pd.read_csv(DATA_PATH/'train.csv', header=None)\n",
    "df_val = pd.read_csv(DATA_PATH/'validation.csv', header=None)\n",
    "df_tst = pd.read_csv(DATA_PATH/'test.csv', header=None)\n",
    "df_gen = pd.read_csv(DATA_PATH/'general.csv', header=None)"
   ]
  },
  {
   "cell_type": "code",
   "execution_count": 7,
   "metadata": {},
   "outputs": [
    {
     "data": {
      "text/plain": [
       "array([[3,\n",
       "        '-Me caes muy bien \\n-Tienes que jugar más partidas al lol con Russel y conmigo\\n-Por qué tan Otako, deja de ser otako\\n-Haber si me muero'],\n",
       "       [0,\n",
       "        '@myendlesshazza a. que puto mal escribo\\n\\nb. me sigo surrando help \\n\\n3. ha quedado raro el \"cómetelo\" ahí JAJAJAJA'],\n",
       "       [0,\n",
       "        '@estherct209 jajajaja la tuya y la d mucha gente seguro!! Pero yo no puedo sin mi melena me muero '],\n",
       "       [1, 'Quiero mogollón a @AlbaBenito99 pero sobretodo por lo rápido que contesta a los wasaps '],\n",
       "       [0, 'Vale he visto la tia bebiendose su regla y me hs dado muchs grima ']], dtype=object)"
      ]
     },
     "execution_count": 7,
     "metadata": {},
     "output_type": "execute_result"
    }
   ],
   "source": [
    "tweets_trn = np.concatenate([df_trn.values, df_gen.values]) #df_gen[df_gen[0]==2].values, df_gen[df_gen[0]==3].values]) #, df_gen.values])\n",
    "tweets_val = np.concatenate([df_val.values])\n",
    "tweets_tst = np.concatenate([df_tst.values])\n",
    "del df_trn, df_val, df_tst, df_gen\n",
    "\n",
    "tweets_trn[:5]"
   ]
  },
  {
   "cell_type": "code",
   "execution_count": 8,
   "metadata": {},
   "outputs": [],
   "source": [
    "tweets_trn[:,1] = preprocess_tweets(tweets_trn[:,1])\n",
    "tweets_val[:,1] = preprocess_tweets(tweets_val[:,1])\n",
    "tweets_tst[:,1] = preprocess_tweets(tweets_tst[:,1])\n",
    "\n",
    "corpus = np.concatenate([tweets_trn[:,1], tweets_val[:,1], tweets_tst[:,1]])"
   ]
  },
  {
   "cell_type": "code",
   "execution_count": 21,
   "metadata": {},
   "outputs": [],
   "source": [
    "col_names = ['label', 'tweet']\n",
    "\n",
    "df_trn = pd.DataFrame({'tweet':tweets_trn[:,1], 'label':tweets_trn[:,0]}, columns=col_names)\n",
    "df_val = pd.DataFrame({'tweet':tweets_val[:,1], 'label':tweets_val[:,0]}, columns=col_names)\n",
    "df_tst = pd.DataFrame({'tweet':tweets_tst[:,1], 'label':tweets_tst[:,0]}, columns=col_names)\n",
    "\n",
    "del tweets_trn, tweets_val, tweets_tst"
   ]
  },
  {
   "cell_type": "code",
   "execution_count": 22,
   "metadata": {},
   "outputs": [
    {
     "name": "stdout",
     "output_type": "stream",
     "text": [
      "0    418\n",
      "1    318\n",
      "3    139\n",
      "2    133\n",
      "Name: label, dtype: int64\n",
      "0    219\n",
      "1    156\n",
      "2     69\n",
      "3     62\n",
      "Name: label, dtype: int64\n",
      "Series([], Name: label, dtype: int64)\n"
     ]
    }
   ],
   "source": [
    "print(df_trn['label'].value_counts())\n",
    "print(df_val['label'].value_counts())\n",
    "print(df_tst['label'].value_counts())"
   ]
  },
  {
   "cell_type": "code",
   "execution_count": null,
   "metadata": {},
   "outputs": [],
   "source": [
    "def balance_df(df):\n",
    "    lst = [df]\n",
    "    max_size = df['label'].value_counts().max()\n",
    "    for class_index, group in df.groupby('label'):\n",
    "        lst.append(group.sample(max_size-len(group), replace=True))\n",
    "    df = pd.concat(lst)\n",
    "    return df\n",
    "\n",
    "df_trn = balance_df(df_trn)\n",
    "# df_val = balance_df(df_val)\n",
    "\n",
    "print(df_trn['label'].value_counts())\n",
    "print(df_val['label'].value_counts())\n",
    "print(df_tst['label'].value_counts())"
   ]
  },
  {
   "cell_type": "code",
   "execution_count": 23,
   "metadata": {},
   "outputs": [],
   "source": [
    "df_trn.to_csv(CLAS_PATH/'train.csv', header=False, index=False)\n",
    "df_val.to_csv(CLAS_PATH/'validation.csv', header=False, index=False)\n",
    "df_tst.to_csv(CLAS_PATH/'test.csv', header=False, index=False)\n",
    "df_trn.shape, df_val.shape\n",
    "\n",
    "del df_trn, df_val, df_tst"
   ]
  },
  {
   "cell_type": "markdown",
   "metadata": {},
   "source": [
    "## Classifier Tokens"
   ]
  },
  {
   "cell_type": "code",
   "execution_count": 24,
   "metadata": {},
   "outputs": [],
   "source": [
    "df_trn = pd.read_csv(CLAS_PATH/'train.csv', header=None)\n",
    "df_val = pd.read_csv(CLAS_PATH/'validation.csv', header=None)\n",
    "df_tst = pd.read_csv(CLAS_PATH/'test.csv', header=None)"
   ]
  },
  {
   "cell_type": "code",
   "execution_count": null,
   "metadata": {},
   "outputs": [],
   "source": [
    "tok_trn, trn_labels = get_all(df_trn)\n",
    "tok_val, val_labels = get_all(df_val)\n",
    "tok_tst, tst_labels = get_all(df_tst)"
   ]
  },
  {
   "cell_type": "code",
   "execution_count": null,
   "metadata": {},
   "outputs": [],
   "source": [
    "(CLAS_PATH/'tmp').mkdir(exist_ok=True)"
   ]
  },
  {
   "cell_type": "code",
   "execution_count": null,
   "metadata": {},
   "outputs": [],
   "source": [
    "np.save(CLAS_PATH/'tmp'/'tok_trn.npy', tok_trn)\n",
    "np.save(CLAS_PATH/'tmp'/'tok_val.npy', tok_val)\n",
    "np.save(CLAS_PATH/'tmp'/'tok_tst.npy', tok_tst)"
   ]
  },
  {
   "cell_type": "code",
   "execution_count": null,
   "metadata": {},
   "outputs": [],
   "source": [
    "np.save(CLAS_PATH/'tmp'/'trn_labels.npy', trn_labels)\n",
    "np.save(CLAS_PATH/'tmp'/'val_labels.npy', val_labels)\n",
    "# np.save(CLAS_PATH/'tmp'/'tst_labels.npy', tst_labels)\n",
    "\n",
    "# df = pd.read_csv(CLAS_PATH/'test_labels.csv')\n",
    "# df['label']=df['label'].replace(['N','P','NEU','NONE'],[0,1,2,3])\n",
    "# np.save(CLAS_PATH/'tmp'/'tst_labels.npy', df['label'].values)"
   ]
  },
  {
   "cell_type": "code",
   "execution_count": null,
   "metadata": {},
   "outputs": [],
   "source": [
    "tok_trn = np.load(CLAS_PATH/'tmp'/'tok_trn.npy')\n",
    "tok_val = np.load(CLAS_PATH/'tmp'/'tok_val.npy')\n",
    "tok_tst = np.load(CLAS_PATH/'tmp'/'tok_tst.npy')"
   ]
  },
  {
   "cell_type": "code",
   "execution_count": null,
   "metadata": {},
   "outputs": [],
   "source": [
    "itos = pickle.load((TWEETSLM_PATH/'tmp'/'itos.pkl').open('rb'))\n",
    "stoi = collections.defaultdict(lambda:0, {v:k for k,v in enumerate(itos)})\n",
    "len(itos)"
   ]
  },
  {
   "cell_type": "code",
   "execution_count": null,
   "metadata": {},
   "outputs": [],
   "source": [
    "trn_clas = np.array([[stoi[o] for o in p] for p in tok_trn])\n",
    "val_clas = np.array([[stoi[o] for o in p] for p in tok_val])\n",
    "tst_clas = np.array([[stoi[o] for o in p] for p in tok_tst])"
   ]
  },
  {
   "cell_type": "code",
   "execution_count": null,
   "metadata": {},
   "outputs": [],
   "source": [
    "np.save(CLAS_PATH/'tmp'/'trn_ids.npy', trn_clas)\n",
    "np.save(CLAS_PATH/'tmp'/'val_ids.npy', val_clas)\n",
    "np.save(CLAS_PATH/'tmp'/'tst_ids.npy', tst_clas)"
   ]
  },
  {
   "cell_type": "markdown",
   "metadata": {},
   "source": [
    "## Load Tokens and Embeddings"
   ]
  },
  {
   "cell_type": "code",
   "execution_count": null,
   "metadata": {},
   "outputs": [],
   "source": [
    "trn_clas = np.load(CLAS_PATH/'tmp'/'trn_ids.npy')\n",
    "val_clas = np.load(CLAS_PATH/'tmp'/'val_ids.npy')\n",
    "tst_clas = np.load(CLAS_PATH/'tmp/tst_ids.npy')"
   ]
  },
  {
   "cell_type": "code",
   "execution_count": 23,
   "metadata": {},
   "outputs": [],
   "source": [
    "trn_labels = np.squeeze(np.load(CLAS_PATH/'tmp'/'trn_labels.npy'))\n",
    "val_labels = np.squeeze(np.load(CLAS_PATH/'tmp'/'val_labels.npy'))\n",
    "tst_labels = np.load(CLAS_PATH/'tmp/tst_labels.npy').flatten()"
   ]
  },
  {
   "cell_type": "code",
   "execution_count": 22,
   "metadata": {},
   "outputs": [],
   "source": [
    "itos = pickle.load((TWEETSLM_PATH/'tmp'/'itos.pkl').open('rb'))\n",
    "stoi = collections.defaultdict(lambda:0, {v:k for k,v in enumerate(itos)})"
   ]
  },
  {
   "cell_type": "code",
   "execution_count": null,
   "metadata": {},
   "outputs": [],
   "source": [
    "print(trn_clas.shape)\n",
    "print(val_clas.shape)"
   ]
  },
  {
   "cell_type": "code",
   "execution_count": null,
   "metadata": {},
   "outputs": [],
   "source": [
    "len(trn_clas[1])"
   ]
  },
  {
   "cell_type": "code",
   "execution_count": 9,
   "metadata": {},
   "outputs": [],
   "source": [
    "BACKBONE_MODEL = TWEETSLM_PATH/'models/lm3_wgts.h5'"
   ]
  },
  {
   "cell_type": "code",
   "execution_count": 10,
   "metadata": {},
   "outputs": [],
   "source": [
    "wgts = torch.load(BACKBONE_MODEL, map_location=lambda storage, loc: storage)"
   ]
  },
  {
   "cell_type": "code",
   "execution_count": 11,
   "metadata": {},
   "outputs": [],
   "source": [
    "embedding_matrix = to_np(wgts['0.encoder.weight'])\n",
    "row_m = embedding_matrix.mean(0)"
   ]
  },
  {
   "cell_type": "code",
   "execution_count": 12,
   "metadata": {},
   "outputs": [
    {
     "name": "stdout",
     "output_type": "stream",
     "text": [
      "(40113, 400)\n",
      "torch.Size([40113, 400])\n"
     ]
    }
   ],
   "source": [
    "print(embedding_matrix.shape)\n",
    "print(wgts['1.decoder.weight'].shape)"
   ]
  },
  {
   "cell_type": "markdown",
   "metadata": {},
   "source": [
    "## Estimate Vocabulary Size"
   ]
  },
  {
   "cell_type": "code",
   "execution_count": 13,
   "metadata": {},
   "outputs": [],
   "source": [
    "counter = CountVectorizer(tokenizer=ut.tokenizer, min_df=1)"
   ]
  },
  {
   "cell_type": "code",
   "execution_count": 14,
   "metadata": {},
   "outputs": [
    {
     "name": "stdout",
     "output_type": "stream",
     "text": [
      "(10631, 20635)\n"
     ]
    }
   ],
   "source": [
    "X = counter.fit_transform(corpus)\n",
    "print(X.shape)"
   ]
  },
  {
   "cell_type": "code",
   "execution_count": 15,
   "metadata": {},
   "outputs": [
    {
     "data": {
      "image/png": "[encoded data removed]",
      "text/plain": [
       "<Figure size 432x288 with 1 Axes>"
      ]
     },
     "metadata": {
      "needs_background": "light"
     },
     "output_type": "display_data"
    }
   ],
   "source": [
    "counts = np.sum(X, axis=0).tolist()\n",
    "counts = sorted(counts[0], reverse=True)\n",
    "plt.plot(np.arange(len(counts)), counts)\n",
    "plt.title(\"word count distribution in corpus\")\n",
    "plt.ylabel(\"counts\")\n",
    "plt.xlabel(\"words\")\n",
    "acc = []"
   ]
  },
  {
   "cell_type": "markdown",
   "metadata": {},
   "source": [
    "## Compute Baseline Embedding (BoW)\n",
    "\n",
    "<a href=\"https://www.codecogs.com/eqnedit.php?latex=v_s&space;=&space;\\frac{1}{\\left&space;\\|&space;S&space;\\right&space;\\|}&space;\\sum_{w&space;\\in&space;S}&space;v_w\" target=\"_blank\"><img src=\"https://latex.codecogs.com/gif.latex?v_s&space;=&space;\\frac{1}{\\left&space;\\|&space;S&space;\\right&space;\\|}&space;\\sum_{w&space;\\in&space;S}&space;v_w\" title=\"v_s = \\frac{1}{\\left \\| S \\right \\|} \\sum_{w \\in S} v_w\" /></a>"
   ]
  },
  {
   "cell_type": "code",
   "execution_count": 16,
   "metadata": {},
   "outputs": [
    {
     "name": "stdout",
     "output_type": "stream",
     "text": [
      "(10631, 20635)\n"
     ]
    }
   ],
   "source": [
    "# VOCAB_SIZE = 3000\n",
    "VOCAB_SIZE = X.shape[1]\n",
    "# counter = CountVectorizer(strip_accents=\"unicode\", max_features=VOCAB_SIZE)\n",
    "# counter = CountVectorizer(max_features=VOCAB_SIZE, tokenizer=ut.tokenizer)\n",
    "\n",
    "caption_texts = corpus\n",
    "Xc = counter.fit_transform(caption_texts).todense().astype(\"float\")\n",
    "print(Xc.shape)"
   ]
  },
  {
   "cell_type": "code",
   "execution_count": 17,
   "metadata": {},
   "outputs": [
    {
     "name": "stdout",
     "output_type": "stream",
     "text": [
      "(10631, 1)\n"
     ]
    }
   ],
   "source": [
    "sent_lens = np.sum(Xc, axis=1).astype(\"float\")\n",
    "sent_lens[sent_lens == 0] = 1e-14\n",
    "print(sent_lens.shape)"
   ]
  },
  {
   "cell_type": "code",
   "execution_count": 25,
   "metadata": {},
   "outputs": [
    {
     "name": "stdout",
     "output_type": "stream",
     "text": [
      "(20635, 400)\n"
     ]
    }
   ],
   "source": [
    "E = np.zeros((VOCAB_SIZE, 400))\n",
    "for word in counter.vocabulary_.keys():\n",
    "    try:\n",
    "        i = counter.vocabulary_[word]\n",
    "        E[i] = embedding_matrix[stoi[word]] \n",
    "#         E[i] = e.sents2elmo([[word]])[0].reshape(-1);\n",
    "    except KeyError:\n",
    "        pass\n",
    "print(E.shape)"
   ]
  },
  {
   "cell_type": "code",
   "execution_count": 26,
   "metadata": {},
   "outputs": [
    {
     "name": "stdout",
     "output_type": "stream",
     "text": [
      "(10631, 400)\n"
     ]
    }
   ],
   "source": [
    "Xb = np.divide(np.dot(Xc, E), sent_lens)\n",
    "print(Xb.shape)"
   ]
  },
  {
   "cell_type": "code",
   "execution_count": 27,
   "metadata": {},
   "outputs": [
    {
     "name": "stdout",
     "output_type": "stream",
     "text": [
      "(8732, 400) (8732,) (506, 400) (506,) (1899, 400) (1899,)\n"
     ]
    }
   ],
   "source": [
    "Xtrain, Xval, Xtest = Xb[0:(len(tweets_trn[:,1])+len(tweets_val[:,1]))], Xb[len(tweets_trn[:,1]):(len(tweets_trn[:,1])+len(tweets_val[:,1]))], Xb[(len(tweets_trn[:,1])+len(tweets_val[:,1])):]\n",
    "ytrain, yval, ytest = np.concatenate([tweets_trn[:,0], tweets_val[:,0]]).astype('int'), np.array(tweets_val[:,0]).astype('int'), tst_labels.astype('int')\n",
    "print(Xtrain.shape, ytrain.shape, Xval.shape, yval.shape, Xtest.shape, ytest.shape)"
   ]
  },
  {
   "cell_type": "code",
   "execution_count": 31,
   "metadata": {},
   "outputs": [],
   "source": [
    "def cross_val(Xtrain, ytrain, clf):\n",
    "    best_clf = None\n",
    "    best_score = 0.0\n",
    "    num_folds = 0\n",
    "    cv_scores = []\n",
    "    kfold = KFold(n_splits=10)\n",
    "    for train, val in kfold.split(Xtrain):\n",
    "        Xctrain, Xctest, yctrain, yctest = Xtrain[train], Xtrain[val], ytrain[train], ytrain[val]\n",
    "#         clf.fit(np.concatenate((Xctrain, Xctest), axis=0), np.concatenate((yctrain, yctest), axis=0))\n",
    "        clf.fit(Xctrain, yctrain)\n",
    "        # clf.fit(Xctrain, yctrain)\n",
    "        ytest_ = clf.predict(Xctest)\n",
    "        score = f1_score(yctest, ytest_, average='macro')\n",
    "#         score = clf.score(Xctest, yctest)\n",
    "        if score > best_score:\n",
    "            best_score = score\n",
    "            best_clf = clf\n",
    "        print(\"fold {:d}, score: {:.3f}\".format(num_folds, score))\n",
    "        cv_scores.append(score)\n",
    "        num_folds += 1\n",
    "    return best_clf, cv_scores\n",
    "\n",
    "def test_eval(Xtest, ytest, clf):\n",
    "    print(\"===\")\n",
    "    print(\"Test set results\")\n",
    "    ytest_ = clf.predict(Xtest)\n",
    "    accuracy = accuracy_score(ytest, ytest_)\n",
    "    acc.append(accuracy)\n",
    "    print(\"Accuracy: {:.3f}\".format(accuracy))\n",
    "    print(\"---\")\n",
    "    print(\"F1-M: {:.3f}\".format(f1_score(ytest, ytest_, average='macro')))\n",
    "    print(\"---\")\n",
    "    print(\"Confusion Matrix\")\n",
    "    cm = confusion_matrix(ytest, ytest_)\n",
    "    print(cm)\n",
    "    print(\"---\")\n",
    "    print(\"Classification Report\")\n",
    "    cr = classification_report(ytest, ytest_)\n",
    "    print(cr)"
   ]
  },
  {
   "cell_type": "code",
   "execution_count": 32,
   "metadata": {},
   "outputs": [
    {
     "name": "stdout",
     "output_type": "stream",
     "text": [
      "fold 0, score: 0.286\n",
      "fold 1, score: 0.351\n",
      "fold 2, score: 0.411\n",
      "fold 3, score: 0.380\n",
      "fold 4, score: 0.389\n",
      "fold 5, score: 0.407\n",
      "fold 6, score: 0.402\n",
      "fold 7, score: 0.374\n",
      "fold 8, score: 0.408\n",
      "fold 9, score: 0.341\n",
      "===\n",
      "Test set results\n",
      "Accuracy: 0.290\n",
      "---\n",
      "F1-M: 0.257\n",
      "---\n",
      "Confusion Matrix\n",
      "[[130 174 385  78]\n",
      " [ 65 293 223  61]\n",
      " [ 33  66  97  20]\n",
      " [ 47 107  90  30]]\n",
      "---\n",
      "Classification Report\n",
      "              precision    recall  f1-score   support\n",
      "\n",
      "           0       0.47      0.17      0.25       767\n",
      "           1       0.46      0.46      0.46       642\n",
      "           2       0.12      0.45      0.19       216\n",
      "           3       0.16      0.11      0.13       274\n",
      "\n",
      "    accuracy                           0.29      1899\n",
      "   macro avg       0.30      0.30      0.26      1899\n",
      "weighted avg       0.38      0.29      0.30      1899\n",
      "\n"
     ]
    }
   ],
   "source": [
    "from sklearn.naive_bayes import GaussianNB\n",
    "from keras.utils import to_categorical\n",
    "\n",
    "clf = GaussianNB()\n",
    "best_clf, scores_nb = cross_val(Xtrain, ytrain, clf)\n",
    "# clf.fit(Xtrain, ytrain.astype('int'))\n",
    "test_eval(Xtest, ytest, best_clf)"
   ]
  },
  {
   "cell_type": "code",
   "execution_count": 33,
   "metadata": {},
   "outputs": [
    {
     "name": "stdout",
     "output_type": "stream",
     "text": [
      "fold 0, score: 0.380\n",
      "fold 1, score: 0.451\n",
      "fold 2, score: 0.441\n",
      "fold 3, score: 0.487\n",
      "fold 4, score: 0.455\n",
      "fold 5, score: 0.462\n",
      "fold 6, score: 0.479\n",
      "fold 7, score: 0.466\n",
      "fold 8, score: 0.465\n",
      "fold 9, score: 0.429\n",
      "===\n",
      "Test set results\n",
      "Accuracy: 0.537\n",
      "---\n",
      "F1-M: 0.385\n",
      "---\n",
      "Confusion Matrix\n",
      "[[494 210  20  43]\n",
      " [117 470  10  45]\n",
      " [ 96  86  14  20]\n",
      " [ 87 134  12  41]]\n",
      "---\n",
      "Classification Report\n",
      "              precision    recall  f1-score   support\n",
      "\n",
      "           0       0.62      0.64      0.63       767\n",
      "           1       0.52      0.73      0.61       642\n",
      "           2       0.25      0.06      0.10       216\n",
      "           3       0.28      0.15      0.19       274\n",
      "\n",
      "    accuracy                           0.54      1899\n",
      "   macro avg       0.42      0.40      0.38      1899\n",
      "weighted avg       0.50      0.54      0.50      1899\n",
      "\n"
     ]
    }
   ],
   "source": [
    "from sklearn.svm import SVC\n",
    "\n",
    "clf = SVC(kernel='linear', C=11)\n",
    "best_clf, scores_svc = cross_val(Xtrain, ytrain, clf)\n",
    "test_eval(Xtest, ytest, best_clf)"
   ]
  },
  {
   "cell_type": "code",
   "execution_count": 75,
   "metadata": {},
   "outputs": [],
   "source": [
    "test_values = clf.predict(Xtest)"
   ]
  },
  {
   "cell_type": "code",
   "execution_count": 76,
   "metadata": {},
   "outputs": [
    {
     "data": {
      "text/plain": [
       "0.35764796892593687"
      ]
     },
     "execution_count": 76,
     "metadata": {},
     "output_type": "execute_result"
    }
   ],
   "source": [
    "from sklearn.metrics import f1_score\n",
    "\n",
    "f1_score(clf.predict(Xval), np.array(yval), average='macro')"
   ]
  },
  {
   "cell_type": "code",
   "execution_count": 59,
   "metadata": {},
   "outputs": [],
   "source": [
    "def getLabel(num):\n",
    "    if num == 0:\n",
    "        return 'N'\n",
    "    elif num == 1:\n",
    "        return 'P'\n",
    "    elif num == 2:\n",
    "        return 'NEU'\n",
    "    elif num == 3:\n",
    "        return 'NONE'\n",
    "    \n",
    "import xml.etree.ElementTree as ET\n",
    "\n",
    "def putTestValue(xmlFIle, out):\n",
    "    tree = ET.parse(xmlFIle)\n",
    "    root = tree.getroot()\n",
    "\n",
    "    tweets = []\n",
    "    file = open(out,\"w\") \n",
    "    print(len(test_values))\n",
    "    for i,tweet in enumerate(root.iter('tweet')): \n",
    "        #print(i)\n",
    "        val = getLabel(test_values[i])\n",
    "        ID = tweet.find('tweetid').text\n",
    "        file.write(ID + \"\\t\" + val + \"\\n\")\n",
    "    file.close() "
   ]
  },
  {
   "cell_type": "code",
   "execution_count": 61,
   "metadata": {},
   "outputs": [
    {
     "name": "stdout",
     "output_type": "stream",
     "text": [
      "1428\n"
     ]
    }
   ],
   "source": [
    "putTestValue(\"../database/TASS/TASS2018/task1-Test.xml\", \"output2018-2.txt\")"
   ]
  },
  {
   "cell_type": "markdown",
   "metadata": {},
   "source": [
    "## Smooth Inverse Frequency (SIF) Embedding\n",
    "\n",
    "<a href=\"https://www.codecogs.com/eqnedit.php?latex=v_s&space;=&space;\\frac{1}{\\left&space;\\|&space;S&space;\\right&space;\\|}&space;\\sum_{w&space;\\in&space;S}&space;\\frac{\\alpha}{\\alpha&space;&plus;&space;p_w}&space;v_w\" target=\"_blank\"><img src=\"https://latex.codecogs.com/gif.latex?v_s&space;=&space;\\frac{1}{\\left&space;\\|&space;S&space;\\right&space;\\|}&space;\\sum_{w&space;\\in&space;S}&space;\\frac{\\alpha}{\\alpha&space;&plus;&space;p_w}&space;v_w\" title=\"v_s = \\frac{1}{\\left \\| S \\right \\|} \\sum_{w \\in S} \\frac{\\alpha}{\\alpha + p_w} v_w\" /></a>"
   ]
  },
  {
   "cell_type": "code",
   "execution_count": 34,
   "metadata": {},
   "outputs": [],
   "source": [
    "# from paper\n",
    "ALPHA = 1e-3"
   ]
  },
  {
   "cell_type": "code",
   "execution_count": 35,
   "metadata": {},
   "outputs": [],
   "source": [
    "# # compute word probabilities from corpus\n",
    "freqs = np.sum(Xc, axis=0).astype(\"float\")\n",
    "probs = freqs / np.sum(freqs)"
   ]
  },
  {
   "cell_type": "code",
   "execution_count": 36,
   "metadata": {},
   "outputs": [],
   "source": [
    "# compute multiplier ALPHA / (ALPHA + probs)\n",
    "coeff = ALPHA / (ALPHA + probs)"
   ]
  },
  {
   "cell_type": "code",
   "execution_count": 37,
   "metadata": {},
   "outputs": [],
   "source": [
    "# compute weighted counts\n",
    "Xw = np.multiply(Xc, coeff)"
   ]
  },
  {
   "cell_type": "code",
   "execution_count": 38,
   "metadata": {},
   "outputs": [
    {
     "name": "stdout",
     "output_type": "stream",
     "text": [
      "(10631, 20635) (1, 20635) (10631, 400) (20635, 400)\n"
     ]
    }
   ],
   "source": [
    "# convert to SIF embeddings\n",
    "Xs = np.divide(np.dot(Xw, E), sent_lens)\n",
    "\n",
    "print(Xc.shape, coeff.shape, Xs.shape, E.shape)"
   ]
  },
  {
   "cell_type": "code",
   "execution_count": 39,
   "metadata": {},
   "outputs": [
    {
     "name": "stdout",
     "output_type": "stream",
     "text": [
      "(1, 400) [0.18628]\n"
     ]
    }
   ],
   "source": [
    "# compute 1st principal component\n",
    "svd = TruncatedSVD(n_components=1, n_iter=20, random_state=0)\n",
    "svd.fit(Xs)\n",
    "pc = svd.components_\n",
    "print(pc.shape, svd.explained_variance_ratio_)"
   ]
  },
  {
   "cell_type": "code",
   "execution_count": 40,
   "metadata": {},
   "outputs": [
    {
     "name": "stdout",
     "output_type": "stream",
     "text": [
      "(10631, 400)\n"
     ]
    }
   ],
   "source": [
    "# remove it from the weighted counts\n",
    "Xr = Xs - Xs.dot(pc.T).dot(pc)\n",
    "print(Xr.shape)"
   ]
  },
  {
   "cell_type": "code",
   "execution_count": 41,
   "metadata": {},
   "outputs": [
    {
     "name": "stdout",
     "output_type": "stream",
     "text": [
      "(8732, 400) (8732,) (506, 400) (506,) (1899, 400) (1899,)\n"
     ]
    }
   ],
   "source": [
    "Xtrain, Xval, Xtest = Xb[0:(len(tweets_trn[:,1])+len(tweets_val[:,1]))], Xb[len(tweets_trn[:,1]):(len(tweets_trn[:,1])+len(tweets_val[:,1]))], Xb[(len(tweets_trn[:,1])+len(tweets_val[:,1])):]\n",
    "ytrain, yval, ytest = np.concatenate([tweets_trn[:,0], tweets_val[:,0]]).astype('int'), np.array(tweets_val[:,0]).astype('int'), tst_labels.astype('int')\n",
    "print(Xtrain.shape, ytrain.shape, Xval.shape, yval.shape, Xtest.shape, ytest.shape)"
   ]
  },
  {
   "cell_type": "code",
   "execution_count": 42,
   "metadata": {},
   "outputs": [
    {
     "name": "stdout",
     "output_type": "stream",
     "text": [
      "fold 0, score: 0.286\n",
      "fold 1, score: 0.351\n",
      "fold 2, score: 0.411\n",
      "fold 3, score: 0.380\n",
      "fold 4, score: 0.389\n",
      "fold 5, score: 0.407\n",
      "fold 6, score: 0.402\n",
      "fold 7, score: 0.374\n",
      "fold 8, score: 0.408\n",
      "fold 9, score: 0.341\n",
      "===\n",
      "Test set results\n",
      "Accuracy: 0.290\n",
      "---\n",
      "F1-M: 0.257\n",
      "---\n",
      "Confusion Matrix\n",
      "[[130 174 385  78]\n",
      " [ 65 293 223  61]\n",
      " [ 33  66  97  20]\n",
      " [ 47 107  90  30]]\n",
      "---\n",
      "Classification Report\n",
      "              precision    recall  f1-score   support\n",
      "\n",
      "           0       0.47      0.17      0.25       767\n",
      "           1       0.46      0.46      0.46       642\n",
      "           2       0.12      0.45      0.19       216\n",
      "           3       0.16      0.11      0.13       274\n",
      "\n",
      "    accuracy                           0.29      1899\n",
      "   macro avg       0.30      0.30      0.26      1899\n",
      "weighted avg       0.38      0.29      0.30      1899\n",
      "\n"
     ]
    }
   ],
   "source": [
    "from sklearn.naive_bayes import GaussianNB\n",
    "\n",
    "clf = GaussianNB()\n",
    "best_clf, scores_nb = cross_val(Xtrain, ytrain, clf)\n",
    "test_eval(Xtest, ytest, best_clf)"
   ]
  },
  {
   "cell_type": "code",
   "execution_count": 43,
   "metadata": {},
   "outputs": [
    {
     "name": "stdout",
     "output_type": "stream",
     "text": [
      "fold 0, score: 0.380\n",
      "fold 1, score: 0.451\n",
      "fold 2, score: 0.441\n",
      "fold 3, score: 0.487\n",
      "fold 4, score: 0.455\n",
      "fold 5, score: 0.462\n",
      "fold 6, score: 0.479\n",
      "fold 7, score: 0.466\n",
      "fold 8, score: 0.465\n",
      "fold 9, score: 0.429\n",
      "===\n",
      "Test set results\n",
      "Accuracy: 0.537\n",
      "---\n",
      "F1-M: 0.385\n",
      "---\n",
      "Confusion Matrix\n",
      "[[494 210  20  43]\n",
      " [117 470  10  45]\n",
      " [ 96  86  14  20]\n",
      " [ 87 134  12  41]]\n",
      "---\n",
      "Classification Report\n",
      "              precision    recall  f1-score   support\n",
      "\n",
      "           0       0.62      0.64      0.63       767\n",
      "           1       0.52      0.73      0.61       642\n",
      "           2       0.25      0.06      0.10       216\n",
      "           3       0.28      0.15      0.19       274\n",
      "\n",
      "    accuracy                           0.54      1899\n",
      "   macro avg       0.42      0.40      0.38      1899\n",
      "weighted avg       0.50      0.54      0.50      1899\n",
      "\n"
     ]
    }
   ],
   "source": [
    "from sklearn.svm import SVC\n",
    "\n",
    "clf = SVC(kernel='linear', C=11, gamma='scale')\n",
    "best_clf, scores_svc = cross_val(Xtrain, ytrain, clf)\n",
    "test_eval(Xtest, ytest, best_clf)"
   ]
  },
  {
   "cell_type": "code",
   "execution_count": 88,
   "metadata": {},
   "outputs": [],
   "source": [
    "test_values = clf.predict(Xtest)"
   ]
  },
  {
   "cell_type": "code",
   "execution_count": 76,
   "metadata": {},
   "outputs": [
    {
     "name": "stdout",
     "output_type": "stream",
     "text": [
      "1428\n"
     ]
    }
   ],
   "source": [
    "putTestValue(\"../database/TASS/TASS2018/task1-Test.xml\", \"output2018-3.txt\")"
   ]
  },
  {
   "cell_type": "code",
   "execution_count": 29,
   "metadata": {},
   "outputs": [
    {
     "data": {
      "image/png": "[encoded data removed]",
      "text/plain": [
       "<Figure size 720x360 with 2 Axes>"
      ]
     },
     "metadata": {
      "needs_background": "light"
     },
     "output_type": "display_data"
    }
   ],
   "source": [
    "xlabels = [\"2.0k\", \"2.5k\", \"3.0k\", \"3.5k\", \"4.0k\", \"all\"]\n",
    "# xs = [10000, 20000, 30000, 40000, 50000, 64170, 64450]\n",
    "# we have changed the actual numbers to evenly space the points\n",
    "xs = [2000, 2500, 3000, 3500, 4000, 4344]\n",
    "\n",
    "ylabels = [\"BoW/NB\", \"BoW/SVM\", \"SIF/NB\", \"SIF/SVM\"]\n",
    "ys = np.array(\n",
    "        [[0.627, 0.635, 0.635, 0.632, 0.635, 0.648],\n",
    "         [0.733, 0.744, 0.755, 0.747, 0.755, 0.747],\n",
    "         [0.587, 0.600, 0.605, 0.635, 0.648, 0.648],\n",
    "         [0.728, 0.725, 0.736, 0.731, 0.736, 0.741]])\n",
    "ids_nb = [i for i, y in enumerate(ylabels) if y.endswith(\"/NB\")]\n",
    "labels_nb = [y.split(\"/\")[0] for y in ylabels if y.endswith(\"/NB\")]\n",
    "ids_svm = [i for i, y in enumerate(ylabels) if y.endswith(\"/SVM\")]\n",
    "labels_svm = [y.split(\"/\")[0] for y in ylabels if y.endswith(\"/SVM\")]\n",
    "colors = [\"r\", \"g\", \"b\"]\n",
    "\n",
    "plt.figure(figsize=(10, 5))\n",
    "\n",
    "plt.subplot(121)\n",
    "curr_row = 0\n",
    "for row in ids_nb:\n",
    "    plt.plot(xs, ys[row, :], marker=\"o\", \n",
    "             color=colors[curr_row], label=labels_nb[curr_row])\n",
    "    curr_row += 1\n",
    "plt.xticks(xs, xlabels)\n",
    "plt.title(\"Naive Bayes (TASS 2017)\")\n",
    "plt.ylabel(\"classification accuracy\")\n",
    "plt.xlabel(\"vocab size\")\n",
    "plt.legend(loc=\"best\")\n",
    "\n",
    "plt.subplot(122)\n",
    "curr_row = 0\n",
    "for row in ids_svm:\n",
    "    plt.plot(xs, ys[row, :], marker=\"o\", \n",
    "             color=colors[curr_row], label=labels_svm[curr_row])\n",
    "    curr_row += 1\n",
    "plt.xticks(xs, xlabels)\n",
    "plt.title(\"Support Vector Machine C=0.8 (TASS 2017)\")\n",
    "plt.ylabel(\"classification accuracy\")\n",
    "plt.xlabel(\"vocab size\")\n",
    "plt.legend(loc=\"best\")\n",
    "\n",
    "plt.tight_layout()\n",
    "plt.show()"
   ]
  },
  {
   "cell_type": "code",
   "execution_count": 30,
   "metadata": {},
   "outputs": [
    {
     "data": {
      "image/png": "[encoded data removed]",
      "text/plain": [
       "<Figure size 720x360 with 2 Axes>"
      ]
     },
     "metadata": {
      "needs_background": "light"
     },
     "output_type": "display_data"
    }
   ],
   "source": [
    "xlabels = [\"1.0k\", \"1.5k\", \"2.0k\", \"2.5k\", \"3.0k\", \"all\"]\n",
    "# xs = [10000, 20000, 30000, 40000, 50000, 64170, 64450]\n",
    "# we have changed the actual numbers to evenly space the points\n",
    "xs = [1000, 1500, 2000, 2500, 3000, 3142]\n",
    "\n",
    "ylabels = [\"BoW/NB\", \"BoW/SVM\", \"SIF/NB\", \"SIF/SVM\"]\n",
    "ys = np.array(\n",
    "        [[0.537, 0.552, 0.562, 0.557, 0.562, 0.562],\n",
    "         [0.686, 0.726, 0.726, 0.706, 0.711, 0.736],\n",
    "         [0.517, 0.532, 0.552, 0.562, 0.572, 0.592],\n",
    "         [0.696, 0.686, 0.686, 0.701, 0.691, 0.716]])\n",
    "ids_nb = [i for i, y in enumerate(ylabels) if y.endswith(\"/NB\")]\n",
    "labels_nb = [y.split(\"/\")[0] for y in ylabels if y.endswith(\"/NB\")]\n",
    "ids_svm = [i for i, y in enumerate(ylabels) if y.endswith(\"/SVM\")]\n",
    "labels_svm = [y.split(\"/\")[0] for y in ylabels if y.endswith(\"/SVM\")]\n",
    "colors = [\"r\", \"g\", \"b\"]\n",
    "\n",
    "plt.figure(figsize=(10, 5))\n",
    "\n",
    "plt.subplot(121)\n",
    "curr_row = 0\n",
    "for row in ids_nb:\n",
    "    plt.plot(xs, ys[row, :], marker=\"o\", \n",
    "             color=colors[curr_row], label=labels_nb[curr_row])\n",
    "    curr_row += 1\n",
    "plt.xticks(xs, xlabels)\n",
    "plt.title(\"Naive Bayes (TASS 2018)\")\n",
    "plt.ylabel(\"classification accuracy\")\n",
    "plt.xlabel(\"vocab size\")\n",
    "plt.legend(loc=\"best\")\n",
    "\n",
    "plt.subplot(122)\n",
    "curr_row = 0\n",
    "for row in ids_svm:\n",
    "    plt.plot(xs, ys[row, :], marker=\"o\", \n",
    "             color=colors[curr_row], label=labels_svm[curr_row])\n",
    "    curr_row += 1\n",
    "plt.xticks(xs, xlabels)\n",
    "plt.title(\"Support Vector Machine C=10 (TASS 2018)\")\n",
    "plt.ylabel(\"classification accuracy\")\n",
    "plt.xlabel(\"vocab size\")\n",
    "plt.legend(loc=\"best\")\n",
    "\n",
    "plt.tight_layout()\n",
    "plt.show()"
   ]
  },
  {
   "cell_type": "code",
   "execution_count": 44,
   "metadata": {},
   "outputs": [
    {
     "name": "stdout",
     "output_type": "stream",
     "text": [
      "WARNING:tensorflow:From /home/dpalominop/anaconda3/envs/fastai_v07/lib/python3.6/site-packages/tensorflow/python/framework/op_def_library.py:263: colocate_with (from tensorflow.python.framework.ops) is deprecated and will be removed in a future version.\n",
      "Instructions for updating:\n",
      "Colocations handled automatically by placer.\n"
     ]
    }
   ],
   "source": [
    "# !pip install tflearn\n",
    "import pandas as pd\n",
    "import numpy as np\n",
    "import tensorflow as tf\n",
    "import tflearn\n",
    "from tflearn.data_utils import to_categorical"
   ]
  },
  {
   "cell_type": "code",
   "execution_count": 45,
   "metadata": {},
   "outputs": [],
   "source": [
    "# Network building\n",
    "def build_model():\n",
    "    # This resets all parameters and variables, leave this here\n",
    "    tf.reset_default_graph()\n",
    "    \n",
    "    # Inputs\n",
    "    net = tflearn.input_data([None, 45])\n",
    "\n",
    "    # Hidden layer(s)\n",
    "    net = tflearn.fully_connected(net, 300, activation='ReLU')\n",
    "    #net = tflearn.dropout(net, keep_prob=0.2)\n",
    "    net = tflearn.fully_connected(net, 150, activation='ReLU')\n",
    "    net = tflearn.fully_connected(net, 50, activation='ReLU')\n",
    "    net = tflearn.fully_connected(net, 10, activation='ReLU')\n",
    "\n",
    "    # Output layer\n",
    "    net = tflearn.fully_connected(net, 4, activation='sigmoid')\n",
    "    net = tflearn.regression(net, optimizer='sgd', \n",
    "                             learning_rate=0.5, \n",
    "                             loss='categorical_crossentropy')\n",
    "    \n",
    "    model = tflearn.DNN(net)\n",
    "    return model"
   ]
  },
  {
   "cell_type": "code",
   "execution_count": 46,
   "metadata": {},
   "outputs": [
    {
     "name": "stdout",
     "output_type": "stream",
     "text": [
      "WARNING:tensorflow:From /home/dpalominop/anaconda3/envs/fastai_v07/lib/python3.6/site-packages/tflearn/objectives.py:66: calling reduce_sum_v1 (from tensorflow.python.ops.math_ops) with keep_dims is deprecated and will be removed in a future version.\n",
      "Instructions for updating:\n",
      "keep_dims is deprecated, use keepdims instead\n",
      "WARNING:tensorflow:From /home/dpalominop/anaconda3/envs/fastai_v07/lib/python3.6/site-packages/tensorflow/python/ops/math_ops.py:3066: to_int32 (from tensorflow.python.ops.math_ops) is deprecated and will be removed in a future version.\n",
      "Instructions for updating:\n",
      "Use tf.cast instead.\n"
     ]
    }
   ],
   "source": [
    "model = build_model()"
   ]
  },
  {
   "cell_type": "code",
   "execution_count": 47,
   "metadata": {},
   "outputs": [],
   "source": [
    "sequences = []\n",
    "for tweet in corpus:\n",
    "    sentence = []\n",
    "    for word in ut.tokenizer(tweet):\n",
    "        try:\n",
    "            i = counter.vocabulary_[word]\n",
    "            sentence.append(i)\n",
    "        except KeyError:\n",
    "            pass\n",
    "        \n",
    "    sequences.append(sentence)"
   ]
  },
  {
   "cell_type": "code",
   "execution_count": 48,
   "metadata": {},
   "outputs": [
    {
     "data": {
      "text/plain": [
       "10631"
      ]
     },
     "execution_count": 48,
     "metadata": {},
     "output_type": "execute_result"
    }
   ],
   "source": [
    "len(sequences)"
   ]
  },
  {
   "cell_type": "code",
   "execution_count": 49,
   "metadata": {},
   "outputs": [
    {
     "name": "stdout",
     "output_type": "stream",
     "text": [
      "Shape of data train tensor: (8732, 45)\n",
      "Shape of data val  tensor: (1899, 45)\n",
      "8732\n"
     ]
    }
   ],
   "source": [
    "from keras.preprocessing.sequence import pad_sequences\n",
    "x_train_seq = pad_sequences(sequences[:len(Xtrain)], maxlen=45)\n",
    "x_test_seq  = pad_sequences(sequences[-len(Xtest):], maxlen=45)\n",
    "print('Shape of data train tensor:', x_train_seq.shape)\n",
    "print('Shape of data val  tensor:', x_test_seq.shape)\n",
    "print(len(ytrain))"
   ]
  },
  {
   "cell_type": "code",
   "execution_count": null,
   "metadata": {},
   "outputs": [
    {
     "name": "stdout",
     "output_type": "stream",
     "text": [
      "Training Step: 12424  | total loss: \u001b[1m\u001b[32m5.43319\u001b[0m\u001b[0m | time: 0.489s\n",
      "| SGD | epoch: 113 | loss: 5.43319 - acc: 0.3180 -- iter: 6656/6985\n"
     ]
    }
   ],
   "source": [
    "# model.fit(x_train_seq, ytrain, validation_set=0.2, show_metric=True, batch_size=64, n_epoch=150)\n",
    "model.fit(x_train_seq, to_categorical(ytrain, 4), validation_set=0.2, show_metric=True, batch_size=64, n_epoch=150)"
   ]
  },
  {
   "cell_type": "code",
   "execution_count": 179,
   "metadata": {},
   "outputs": [],
   "source": [
    "from numpy import argmax\n",
    "def test_eval(Xtest, ytest, clf):\n",
    "    print(\"===\")\n",
    "    print(\"Test set results\")\n",
    "    ytest_ = argmax(clf.predict(Xtest), axis=1)\n",
    "    accuracy = accuracy_score(ytest, ytest_)\n",
    "    acc.append(accuracy)\n",
    "    print(\"Accuracy: {:.3f}\".format(accuracy))\n",
    "    print(\"---\")\n",
    "    print(\"Confusion Matrix\")\n",
    "    cm = confusion_matrix(ytest, ytest_)\n",
    "    print(cm)\n",
    "    print(\"---\")\n",
    "    print(\"Classification Report\")\n",
    "    cr = classification_report(ytest, ytest_)\n",
    "    print(cr)"
   ]
  },
  {
   "cell_type": "code",
   "execution_count": 180,
   "metadata": {},
   "outputs": [
    {
     "name": "stdout",
     "output_type": "stream",
     "text": [
      "===\n",
      "Test set results\n",
      "Accuracy: 0.338\n",
      "---\n",
      "Confusion Matrix\n",
      "[[  0 767   0   0]\n",
      " [  0 642   0   0]\n",
      " [  0 216   0   0]\n",
      " [  0 274   0   0]]\n",
      "---\n",
      "Classification Report\n",
      "              precision    recall  f1-score   support\n",
      "\n",
      "           0       0.00      0.00      0.00       767\n",
      "           1       0.34      1.00      0.51       642\n",
      "           2       0.00      0.00      0.00       216\n",
      "           3       0.00      0.00      0.00       274\n",
      "\n",
      "    accuracy                           0.34      1899\n",
      "   macro avg       0.08      0.25      0.13      1899\n",
      "weighted avg       0.11      0.34      0.17      1899\n",
      "\n"
     ]
    },
    {
     "name": "stderr",
     "output_type": "stream",
     "text": [
      "/home/dpalominop/anaconda3/envs/fastai_v07/lib/python3.6/site-packages/sklearn/metrics/classification.py:1437: UndefinedMetricWarning: Precision and F-score are ill-defined and being set to 0.0 in labels with no predicted samples.\n",
      "  'precision', 'predicted', average, warn_for)\n",
      "/home/dpalominop/anaconda3/envs/fastai_v07/lib/python3.6/site-packages/sklearn/metrics/classification.py:1437: UndefinedMetricWarning: Precision and F-score are ill-defined and being set to 0.0 in labels with no predicted samples.\n",
      "  'precision', 'predicted', average, warn_for)\n",
      "/home/dpalominop/anaconda3/envs/fastai_v07/lib/python3.6/site-packages/sklearn/metrics/classification.py:1437: UndefinedMetricWarning: Precision and F-score are ill-defined and being set to 0.0 in labels with no predicted samples.\n",
      "  'precision', 'predicted', average, warn_for)\n"
     ]
    }
   ],
   "source": [
    "test_eval(x_test_seq, ytest, model)"
   ]
  },
  {
   "cell_type": "code",
   "execution_count": null,
   "metadata": {},
   "outputs": [],
   "source": []
  },
  {
   "cell_type": "code",
   "execution_count": 49,
   "metadata": {},
   "outputs": [
    {
     "ename": "ModuleNotFoundError",
     "evalue": "No module named 'utils'",
     "output_type": "error",
     "traceback": [
      "\u001b[1;31m---------------------------------------------------------------------------\u001b[0m",
      "\u001b[1;31mModuleNotFoundError\u001b[0m                       Traceback (most recent call last)",
      "\u001b[1;32m<ipython-input-49-17da4fcab7b8>\u001b[0m in \u001b[0;36m<module>\u001b[1;34m\u001b[0m\n\u001b[0;32m      4\u001b[0m \u001b[1;33m\u001b[0m\u001b[0m\n\u001b[0;32m      5\u001b[0m \u001b[1;32mimport\u001b[0m \u001b[0margparse\u001b[0m\u001b[1;33m\u001b[0m\u001b[1;33m\u001b[0m\u001b[0m\n\u001b[1;32m----> 6\u001b[1;33m \u001b[1;32mfrom\u001b[0m \u001b[0mutils\u001b[0m \u001b[1;32mimport\u001b[0m \u001b[0mdata\u001b[0m\u001b[1;33m\u001b[0m\u001b[1;33m\u001b[0m\u001b[0m\n\u001b[0m\u001b[0;32m      7\u001b[0m \u001b[1;32mfrom\u001b[0m \u001b[0mmodels\u001b[0m\u001b[1;33m.\u001b[0m\u001b[0mgru_svm\u001b[0m\u001b[1;33m.\u001b[0m\u001b[0mgru_svm\u001b[0m \u001b[1;32mimport\u001b[0m \u001b[0mGruSvm\u001b[0m\u001b[1;33m\u001b[0m\u001b[1;33m\u001b[0m\u001b[0m\n\u001b[0;32m      8\u001b[0m \u001b[1;33m\u001b[0m\u001b[0m\n",
      "\u001b[1;31mModuleNotFoundError\u001b[0m: No module named 'utils'"
     ]
    }
   ],
   "source": [
    "from __future__ import absolute_import\n",
    "from __future__ import division\n",
    "from __future__ import print_function\n",
    "\n",
    "import argparse\n",
    "from utils import data\n",
    "from models.gru_svm.gru_svm import GruSvm\n",
    "\n",
    "# hyper-parameters for the model\n",
    "BATCH_SIZE = 256\n",
    "CELL_SIZE = 256\n",
    "DROPOUT_P_KEEP = 0.85\n",
    "HM_EPOCHS = 10\n",
    "LEARNING_RATE = 1e-5\n",
    "N_CLASSES = 2\n",
    "SEQUENCE_LENGTH = 21\n",
    "SVM_C = 0.5"
   ]
  },
  {
   "cell_type": "code",
   "execution_count": null,
   "metadata": {},
   "outputs": [],
   "source": [
    "def main(argv):\n",
    "\n",
    "    if argv.operation == 'train':\n",
    "        # get the train data\n",
    "        # features: train_data[0], labels: train_data[1]\n",
    "        train_features, train_labels = data.load_data(dataset=argv.train_dataset)\n",
    "\n",
    "        # get the validation data\n",
    "        # features: validation_data[0], labels: validation_data[1]\n",
    "        validation_features, validation_labels = data.load_data(dataset=argv.validation_dataset)\n",
    "\n",
    "        # get the size of the dataset for slicing\n",
    "        train_size = train_features.shape[0]\n",
    "        validation_size = validation_features.shape[0]\n",
    "\n",
    "        # slice the dataset to be exact as per the batch size\n",
    "        # e.g. train_size = 1898322, batch_size = 256\n",
    "        # [:1898322-(1898322%256)] = [:1898240]\n",
    "        # 1898322 // 256 = 7415; 7415 * 256 = 1898240\n",
    "        train_features = train_features[:train_size-(train_size % BATCH_SIZE)]\n",
    "        train_labels = train_labels[:train_size-(train_size % BATCH_SIZE)]\n",
    "\n",
    "        # modify the size of the dataset to be passed on model.train()\n",
    "        train_size = train_features.shape[0]\n",
    "\n",
    "        # slice the dataset to be exact as per the batch size\n",
    "        validation_features = validation_features[:validation_size-(validation_size % BATCH_SIZE)]\n",
    "        validation_labels = validation_labels[:validation_size-(validation_size % BATCH_SIZE)]\n",
    "\n",
    "        # modify the size of the dataset to be passed on model.train()\n",
    "        validation_size = validation_features.shape[0]\n",
    "\n",
    "        # instantiate the model\n",
    "        model = GruSvm(alpha=LEARNING_RATE, batch_size=BATCH_SIZE, cell_size=CELL_SIZE, dropout_rate=DROPOUT_P_KEEP,\n",
    "                       num_classes=N_CLASSES, sequence_length=SEQUENCE_LENGTH, svm_c=SVM_C)\n",
    "\n",
    "        # train the model\n",
    "        model.train(checkpoint_path=argv.checkpoint_path, log_path=argv.log_path, model_name=argv.model_name,\n",
    "                    epochs=HM_EPOCHS, train_data=[train_features, train_labels], train_size=train_size,\n",
    "                    validation_data=[validation_features, validation_labels], validation_size=validation_size,\n",
    "                    result_path=argv.result_path)\n",
    "    elif argv.operation == 'test':\n",
    "        test_features, test_labels = data.load_data(dataset=argv.validation_dataset)\n",
    "\n",
    "        test_size = test_features.shape[0]\n",
    "\n",
    "        test_features = test_features[:test_size-(test_size % BATCH_SIZE)]\n",
    "        test_labels = test_labels[:test_size-(test_size % BATCH_SIZE)]\n",
    "\n",
    "        test_size = test_features.shape[0]\n",
    "\n",
    "        GruSvm.predict(batch_size=BATCH_SIZE, cell_size=CELL_SIZE, dropout_rate=DROPOUT_P_KEEP, num_classes=N_CLASSES,\n",
    "                       test_data=[test_features, test_labels], test_size=test_size,\n",
    "checkpoint_path=argv.checkpoint_path, result_path=argv.result_path)"
   ]
  }
 ],
 "metadata": {
  "kernelspec": {
   "display_name": "Python 3",
   "language": "python",
   "name": "python3"
  },
  "language_info": {
   "codemirror_mode": {
    "name": "ipython",
    "version": 3
   },
   "file_extension": ".py",
   "mimetype": "text/x-python",
   "name": "python",
   "nbconvert_exporter": "python",
   "pygments_lexer": "ipython3",
   "version": "3.6.8"
  }
 },
 "nbformat": 4,
 "nbformat_minor": 2
}
