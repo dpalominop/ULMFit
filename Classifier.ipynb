{
 "cells": [
  {
   "cell_type": "markdown",
   "metadata": {},
   "source": [
    "# Only use competicion data for both fine-tuning and final classification"
   ]
  },
  {
   "cell_type": "markdown",
   "metadata": {},
   "source": [
    "Data used for fine-tuning and final classification :\n",
    "\n",
    "* corpus completo 5 temas - 08-sep-2016 - codificacion 5 temas.csv (competition)"
   ]
  },
  {
   "cell_type": "code",
   "execution_count": 2,
   "metadata": {},
   "outputs": [],
   "source": [
    "%reload_ext autoreload\n",
    "%autoreload 2\n",
    "%matplotlib inline\n",
    "\n",
    "import sys\n",
    "from fastai.text import *\n",
    "import html\n",
    "import json\n",
    "\n",
    "import pandas as pd\n",
    "import numpy as np\n",
    "from google_drive_downloader import GoogleDriveDownloader as gdd\n",
    "from sklearn.model_selection import train_test_split\n",
    "from sklearn.metrics import f1_score, confusion_matrix\n",
    "\n",
    "np.random.seed(52)"
   ]
  },
  {
   "cell_type": "code",
   "execution_count": 3,
   "metadata": {},
   "outputs": [],
   "source": [
    "YEAR='2017'\n",
    "DATA_PATH=Path('./DATA/'+YEAR)\n",
    "# DATA_PATH=Path('./data/election_tweets')\n",
    "\n",
    "WIKILM_PATH=Path('./WIKI_LM/LM')\n",
    "PRE_FINETUNE_PATH=Path('./FINETUNE/'+YEAR)\n",
    "\n",
    "TWEETSLM_PATH=Path('./TWEETS_LM/'+YEAR)\n",
    "CLAS_PATH=Path('./TWEETS_CLAS/'+YEAR)\n",
    "\n",
    "BOS = 'xbos'  # beginning-of-sentence tag\n",
    "FLD = 'xfld'  # data field tag"
   ]
  },
  {
   "cell_type": "markdown",
   "metadata": {},
   "source": [
    "## Utils"
   ]
  },
  {
   "cell_type": "code",
   "execution_count": 8,
   "metadata": {
    "hidden": true
   },
   "outputs": [],
   "source": [
    "def flattern(A):\n",
    "    'Source: https://stackoverflow.com/a/17867797/7273299'\n",
    "    \n",
    "    'Flattens a list of lists and strings into a list.'\n",
    "    rt = []\n",
    "    for i in A:\n",
    "        if isinstance(i,list): rt.extend(flattern(i))\n",
    "        else: rt.append(i)\n",
    "    return rt\n",
    "\n",
    "def isInt(v):\n",
    "    'Source: https://stackoverflow.com/a/9859202/7273299'\n",
    "    \n",
    "    'Checks if a string is a number.'\n",
    "    try:     i = int(v)\n",
    "    except:  return False\n",
    "    return True\n",
    "\n",
    "def char_count(word, chars, lbound=2):\n",
    "    char_count = [word.count(char) for char in chars]\n",
    "    return all(i >= lbound for i in char_count)\n",
    "\n",
    "def replace_lol(repl_str, texts):\n",
    "    for string, chars in repl_str:\n",
    "        texts = [[[string] if char_count(i, set(chars), 2) else i for i in text.split()] for text in texts]\n",
    "        texts = np.array([flattern(text) for text in texts])\n",
    "        texts = np.array([' '.join(text) for text in texts])\n",
    "    return texts\n",
    "\n",
    "import unicodedata\n",
    "\n",
    "def strip_accents(text):\n",
    "    \"\"\"\n",
    "    Strip accents from input String.\n",
    "\n",
    "    :param text: The input string.\n",
    "    :type text: String.\n",
    "\n",
    "    :returns: The processed String.\n",
    "    :rtype: String.\n",
    "    \"\"\"\n",
    "    try:\n",
    "        text = unicode(text, 'utf-8')\n",
    "    except (TypeError, NameError): # unicode is a default on python 3 \n",
    "        pass\n",
    "    text = unicodedata.normalize('NFD', text)\n",
    "    text = text.encode('ascii', 'ignore')\n",
    "    text = text.decode(\"utf-8\")\n",
    "    return str(text)\n",
    "\n",
    "def preprocess_tweets(tweets):\n",
    "    \"\"\"\n",
    "    twitter specific text processing and shuffle\n",
    "    \"\"\"\n",
    "    # Remove \\n\n",
    "    tweets = np.array([str(i).replace('\\n','. ') for i in tweets])\n",
    "    tweets = np.array([str(i).replace('&lt;',' ') for i in tweets])\n",
    "    tweets = np.array([str(i).replace('&gt;',' ') for i in tweets])\n",
    "    tweets = np.array([str(i).replace('\\xa0',' ') for i in tweets])\n",
    "    \n",
    "    # Remove accents\n",
    "    tweets = np.array([strip_accents(i) for i in tweets])\n",
    "    \n",
    "    # Placeholders for hyperlinks and user references\n",
    "    tweets = [['hyp_link' if i.startswith('http') \n",
    "               else 'hyp_link' if i.startswith('.http') \n",
    "               else 'user_ref' if i.startswith('@')\n",
    "               else 'hash_tag' if i.startswith('#')\n",
    "               else i for i in tweet.split()] for tweet in tweets]\n",
    "    tweets = np.array([' '.join(i) for i in tweets])\n",
    "\n",
    "    # Prefix for integers\n",
    "    tweets = [[['int_string'] if isInt(i) \n",
    "               else i for i in tweet.split()] for tweet in tweets]\n",
    "    tweets = np.array([flattern(tweet) for tweet in tweets])\n",
    "    tweets = np.array([' '.join(i) for i in tweets])\n",
    "\n",
    "    # Prefix for slang\n",
    "    tweets = [[['que'] if i in ['q', 'k', 'qu', 'ke', 'qe'] \n",
    "               else ['por'] if i=='x' \n",
    "               else ['porque'] if i in ['xq', 'pq', 'porq'] \n",
    "               else ['de'] if i=='d' \n",
    "               else ['te'] if i=='t'\n",
    "               else ['también'] if i=='tb'\n",
    "               else ['Que'] if i in ['Q', 'K', 'Qu','Ke', 'Qe'] \n",
    "               else ['Por'] if i=='X'\n",
    "               else ['Porque'] if i in ['Xq', 'Pq', 'Porq'] \n",
    "               else ['De'] if i=='D' \n",
    "               else ['Te'] if i=='T'\n",
    "               else ['También'] if i=='Tb'\n",
    "               else i for i in tweet.split()] for tweet in tweets]\n",
    "    tweets = np.array([flattern(tweet) for tweet in tweets])\n",
    "    tweets = np.array([' '.join(i) for i in tweets])\n",
    "\n",
    "    # Lol type characters\n",
    "    repl_str = [('risa_ja','ja'), ('risa_ji','ji'), ('risa_je','je'), ('risa_jo','jo'), ('risa_ju', 'ju'),\n",
    "               ('risa_ja','aj'), ('risa_ji','ij'), ('risa_ju', 'uj'), ('risa_ja', 'lol')]\n",
    "\n",
    "    # Adding prefix to lol type characters\n",
    "    tweets = replace_lol(repl_str, tweets)\n",
    "\n",
    "    return tweets\n"
   ]
  },
  {
   "cell_type": "code",
   "execution_count": 36,
   "metadata": {
    "hidden": true
   },
   "outputs": [],
   "source": [
    "def fixup(x):\n",
    "    x = x.replace('#39;', \"'\").replace('amp;', '&').replace('#146;', \"'\").replace(\n",
    "        'nbsp;', ' ').replace('#36;', '$').replace('\\\\n', \"\\n\").replace('quot;', \"'\").replace(\n",
    "        '<br />', \"\\n\").replace('\\\\\"', '\"').replace('<unk>','u_n').replace(' @.@ ','.').replace(\n",
    "        ' @-@ ','-').replace('\\\\', ' \\\\ ')\n",
    "    return re1.sub(' ', html.unescape(x))\n",
    "\n",
    "def get_texts(df, n_lbls=1):\n",
    "    labels = df.iloc[:,range(n_lbls)].values.astype(np.int64)\n",
    "    texts = f'\\n{BOS} ' + df[n_lbls].astype(str)\n",
    "    for i in range(n_lbls+1, len(df.columns)): texts += f' {FLD} {i-n_lbls} ' + df[i].astype(str)\n",
    "    texts = texts.apply(fixup).values.astype(str)\n",
    "\n",
    "    tok = Tokenizer(lang='es').proc_all_mp(partition_by_cores(texts), lang='es')\n",
    "    return tok, list(labels)\n",
    "\n",
    "def get_all(df, n_lbls):\n",
    "    tok, labels = [], []\n",
    "#     print(df)\n",
    "    for i, r in enumerate(df):\n",
    "        tok_, labels_ = get_texts(r, n_lbls)\n",
    "        tok += tok_;\n",
    "        labels += labels_\n",
    "    return tok, labels"
   ]
  },
  {
   "cell_type": "markdown",
   "metadata": {
    "heading_collapsed": true
   },
   "source": [
    "## Dataframe for Language Model"
   ]
  },
  {
   "cell_type": "code",
   "execution_count": 4,
   "metadata": {
    "hidden": true
   },
   "outputs": [],
   "source": [
    "df_trn = pd.read_csv(DATA_PATH/'train_ext.csv', header=None)\n",
    "df_val = pd.read_csv(DATA_PATH/'validation.csv', header=None)\n",
    "df_tst = pd.read_csv(DATA_PATH/'test.csv', header=None)\n",
    "df_tweets = pd.read_csv(DATA_PATH/'tweets-es.csv', header=None)"
   ]
  },
  {
   "cell_type": "code",
   "execution_count": 5,
   "metadata": {},
   "outputs": [
    {
     "data": {
      "text/plain": [
       "array([['2019-05-28 18:06:05',\n",
       "        'Las respuestas de este hilo son las más ignorantes que he visto en mi vida https://t.co/tl4YczyDqg'],\n",
       "       ['2019-05-28 18:06:05',\n",
       "        'Llevé unas cosas a imprimir y me olvidé de decirle a la chica que no imprimiera la portada de uno de los textos por… https://t.co/s2T0VTpQDj'],\n",
       "       ['2019-05-28 18:06:05',\n",
       "        'RT @Soniagbautista: Cuando  pones a trabajar a un equipo multidisciplinar con una pasión común, surge la 4°edición Manual control de Síntom…'],\n",
       "       ['2019-05-28 18:06:05',\n",
       "        'de la sociedad.\\n\\xa0La feroz avidez de este arribista trasunta el egoísmo más monstruoso\\xa0\\nmultiplicando sus sueños de… https://t.co/2o3AIXtVLI'],\n",
       "       ['2019-05-28 18:06:05', '@JereBlatter El que te robe bebeshito']], dtype=object)"
      ]
     },
     "execution_count": 5,
     "metadata": {},
     "output_type": "execute_result"
    }
   ],
   "source": [
    "tweets = np.concatenate([df_tweets.values, df_trn.values, df_val.values, df_tst.values])\n",
    "del df_trn, df_val, df_tst\n",
    "\n",
    "tweets[:5]"
   ]
  },
  {
   "cell_type": "code",
   "execution_count": 6,
   "metadata": {},
   "outputs": [
    {
     "data": {
      "text/plain": [
       "array([['2019-05-28 18:00:26',\n",
       "        'RT @CaniracZac: En el Festival del Taco y la Gordita..🌮 ¡sólo faltas tú!\\nTe esperamos este domingo para deleitarte con tooodo el sabor!😋\\nAd…'],\n",
       "       ['2019-05-28 17:57:33',\n",
       "        'RT @luisferpo: N\\'Golo Kanté se entrenó diferenciado y Sarri confirmó que la posibilidad que juegue mañana \"es un 50-50\". Alarmas en Chelsea…'],\n",
       "       ['2019-05-28 18:02:33',\n",
       "        'RT @rhochicristaldo: Es conocida como el ave de la suerte. No te vayas sin antes darle RT ❤ https://t.co/75oRkYem94'],\n",
       "       ['2019-05-28 18:03:01',\n",
       "        'RT @ManesF: ¿Cuánto tiempo estaríamos sin ocuparnos si alguien de nuestra familia tuviera hambre? Las instituciones, los partidos y la soci…'],\n",
       "       ['2019-05-28 18:02:52', 'RT @daylimns: Analógicas https://t.co/Gg9decyXAa']], dtype=object)"
      ]
     },
     "execution_count": 6,
     "metadata": {},
     "output_type": "execute_result"
    }
   ],
   "source": [
    "np.random.shuffle(tweets)\n",
    "tweets[:5]"
   ]
  },
  {
   "cell_type": "code",
   "execution_count": 7,
   "metadata": {
    "hidden": true
   },
   "outputs": [],
   "source": [
    "tweets[:,1] = preprocess_tweets(tweets[:,1])"
   ]
  },
  {
   "cell_type": "code",
   "execution_count": 8,
   "metadata": {},
   "outputs": [
    {
     "data": {
      "text/plain": [
       "array([['2019-05-28 18:00:26',\n",
       "        'RT user_ref En el Festival del Taco y la Gordita.. solo faltas tu!. Te esperamos este domingo para deleitarte con tooodo el sabor!. Ad'],\n",
       "       ['2019-05-28 17:57:33',\n",
       "        'RT user_ref N\\'Golo Kante se entreno diferenciado y Sarri confirmo que la posibilidad que juegue manana \"es un 50-50\". Alarmas en Chelsea'],\n",
       "       ['2019-05-28 18:02:33',\n",
       "        'RT user_ref Es conocida como el ave de la suerte. No te vayas sin antes darle RT hyp_link'],\n",
       "       ['2019-05-28 18:03:01',\n",
       "        'RT user_ref Cuanto tiempo estariamos sin ocuparnos si alguien de nuestra familia tuviera hambre? Las instituciones, los partidos y la soci'],\n",
       "       ['2019-05-28 18:02:52', 'RT user_ref Analogicas hyp_link']], dtype=object)"
      ]
     },
     "execution_count": 8,
     "metadata": {},
     "output_type": "execute_result"
    }
   ],
   "source": [
    "tweets[:5]"
   ]
  },
  {
   "cell_type": "code",
   "execution_count": 9,
   "metadata": {
    "hidden": true
   },
   "outputs": [],
   "source": [
    "tweets_train_lm, tweets_valid_lm, labels_train_lm, labels_valid_lm = train_test_split( tweets[:,1], tweets[:,0], test_size=0.10)\n",
    "\n",
    "del tweets"
   ]
  },
  {
   "cell_type": "code",
   "execution_count": 10,
   "metadata": {
    "hidden": true
   },
   "outputs": [],
   "source": [
    "col_names = ['label', 'tweet']\n",
    "\n",
    "df_trn = pd.DataFrame({'tweet':tweets_train_lm, 'label':[0]*len(tweets_train_lm)}, columns=col_names)\n",
    "df_val = pd.DataFrame({'tweet':tweets_valid_lm, 'label':[0]*len(tweets_valid_lm)}, columns=col_names)\n",
    "\n",
    "del tweets_train_lm, tweets_valid_lm, labels_train_lm, labels_valid_lm"
   ]
  },
  {
   "cell_type": "code",
   "execution_count": 11,
   "metadata": {
    "hidden": true
   },
   "outputs": [
    {
     "data": {
      "text/plain": [
       "((126327, 2), (14037, 2))"
      ]
     },
     "execution_count": 11,
     "metadata": {},
     "output_type": "execute_result"
    }
   ],
   "source": [
    "df_trn.shape, df_val.shape"
   ]
  },
  {
   "cell_type": "code",
   "execution_count": 12,
   "metadata": {
    "hidden": true
   },
   "outputs": [],
   "source": [
    "df_trn.to_csv(TWEETSLM_PATH/'train.csv', header=False, index=False)\n",
    "df_val.to_csv(TWEETSLM_PATH/'validation.csv', header=False, index=False)\n",
    "\n",
    "del df_trn, df_val"
   ]
  },
  {
   "cell_type": "markdown",
   "metadata": {
    "heading_collapsed": true
   },
   "source": [
    "## Tokenize and Standarize General Tokens\n"
   ]
  },
  {
   "cell_type": "code",
   "execution_count": 27,
   "metadata": {
    "hidden": true
   },
   "outputs": [],
   "source": [
    "chunksize=24000\n",
    "\n",
    "re1 = re.compile(r'  +')"
   ]
  },
  {
   "cell_type": "code",
   "execution_count": 29,
   "metadata": {
    "hidden": true
   },
   "outputs": [],
   "source": [
    "df_trn = pd.read_csv(TWEETSLM_PATH/'train.csv', header=None, chunksize=chunksize)\n",
    "df_val = pd.read_csv(TWEETSLM_PATH/'validation.csv', header=None, chunksize=chunksize)"
   ]
  },
  {
   "cell_type": "code",
   "execution_count": 30,
   "metadata": {
    "hidden": true
   },
   "outputs": [],
   "source": [
    "tok_trn, trn_labels = get_all(df_trn, 1)\n",
    "tok_val, val_labels = get_all(df_val, 1)"
   ]
  },
  {
   "cell_type": "code",
   "execution_count": 31,
   "metadata": {
    "hidden": true
   },
   "outputs": [
    {
     "data": {
      "text/plain": [
       "(126327, 126327, 14037, 14037)"
      ]
     },
     "execution_count": 31,
     "metadata": {},
     "output_type": "execute_result"
    }
   ],
   "source": [
    "len(tok_trn),len(trn_labels), len(tok_val), len(val_labels)"
   ]
  },
  {
   "cell_type": "code",
   "execution_count": 32,
   "metadata": {
    "hidden": true
   },
   "outputs": [
    {
     "name": "stdout",
     "output_type": "stream",
     "text": [
      "[['\\n', 'xbos', 'rt', 'user_ref', 'hobi', 'se', 'rio', 'tanto', 'que', 'incluso', 'termino', 'risa_ja', 'mientras', 'los', 'demas', 'tampoco', 'aguantaban', 'la', 'risa', 'por', 'verlo', 'asi', 'y', 'le', 'decian'], ['\\n', 'xbos', 'user_ref', 'user_ref', 'no', 'me', 'gusta', 'mucho', 'la', 'birra', 'pero', 'hago', 'el', 'intento', 'total', 'hay', 'que', 'festejar', 'que', 'me', 'siento', 'en', 'un', 'ba', 'hyp_link']]\n"
     ]
    }
   ],
   "source": [
    "print(tok_trn[:2])"
   ]
  },
  {
   "cell_type": "code",
   "execution_count": 33,
   "metadata": {
    "hidden": true
   },
   "outputs": [],
   "source": [
    "(TWEETSLM_PATH/'tmp').mkdir(exist_ok=True)"
   ]
  },
  {
   "cell_type": "code",
   "execution_count": 34,
   "metadata": {
    "hidden": true
   },
   "outputs": [],
   "source": [
    "np.save(TWEETSLM_PATH/'tmp'/'tok_trn.npy', tok_trn)\n",
    "np.save(TWEETSLM_PATH/'tmp'/'tok_val.npy', tok_val)"
   ]
  },
  {
   "cell_type": "code",
   "execution_count": 35,
   "metadata": {
    "hidden": true
   },
   "outputs": [],
   "source": [
    "tok_trn = np.load(TWEETSLM_PATH/'tmp'/'tok_trn.npy')\n",
    "tok_val = np.load(TWEETSLM_PATH/'tmp'/'tok_val.npy')"
   ]
  },
  {
   "cell_type": "code",
   "execution_count": 36,
   "metadata": {
    "hidden": true
   },
   "outputs": [
    {
     "data": {
      "text/plain": [
       "[('\\n', 126327),\n",
       " ('xbos', 126327),\n",
       " ('user_ref', 116738),\n",
       " ('de', 77519),\n",
       " ('.', 73222),\n",
       " ('que', 61394),\n",
       " ('rt', 58320),\n",
       " (',', 54513),\n",
       " ('hyp_link', 47887),\n",
       " ('la', 47842),\n",
       " ('a', 42472),\n",
       " ('t_up', 40443),\n",
       " ('el', 39320),\n",
       " ('y', 36951),\n",
       " ('en', 34399),\n",
       " ('no', 29371),\n",
       " ('hash_tag', 22110),\n",
       " ('es', 19038),\n",
       " ('los', 18226),\n",
       " ('se', 16661)]"
      ]
     },
     "execution_count": 36,
     "metadata": {},
     "output_type": "execute_result"
    }
   ],
   "source": [
    "freq = Counter(p for o in tok_trn for p in o)\n",
    "freq.most_common(20)"
   ]
  },
  {
   "cell_type": "code",
   "execution_count": 37,
   "metadata": {
    "hidden": true
   },
   "outputs": [],
   "source": [
    "max_vocab = 60000\n",
    "min_freq = 1"
   ]
  },
  {
   "cell_type": "code",
   "execution_count": 38,
   "metadata": {
    "hidden": true
   },
   "outputs": [
    {
     "data": {
      "text/plain": [
       "38971"
      ]
     },
     "execution_count": 38,
     "metadata": {},
     "output_type": "execute_result"
    }
   ],
   "source": [
    "itos = [o for o,c in freq.most_common(max_vocab) if c>min_freq]\n",
    "itos.insert(0, '_pad_')\n",
    "itos.insert(0, '_unk_')\n",
    "\n",
    "stoi = collections.defaultdict(lambda:0, {v:k for k,v in enumerate(itos)})\n",
    "len(itos)"
   ]
  },
  {
   "cell_type": "code",
   "execution_count": 39,
   "metadata": {
    "hidden": true
   },
   "outputs": [],
   "source": [
    "trn_lm = np.array([[stoi[o] for o in p] for p in tok_trn])\n",
    "val_lm = np.array([[stoi[o] for o in p] for p in tok_val])"
   ]
  },
  {
   "cell_type": "code",
   "execution_count": 40,
   "metadata": {
    "hidden": true
   },
   "outputs": [],
   "source": [
    "np.save(TWEETSLM_PATH/'tmp'/'trn_ids.npy', trn_lm)\n",
    "np.save(TWEETSLM_PATH/'tmp'/'val_ids.npy', val_lm)\n",
    "pickle.dump(itos, open(TWEETSLM_PATH/'tmp'/'itos.pkl', 'wb'))"
   ]
  },
  {
   "cell_type": "markdown",
   "metadata": {
    "heading_collapsed": true
   },
   "source": [
    "## Load Encoder Weights for Language Model"
   ]
  },
  {
   "cell_type": "code",
   "execution_count": 15,
   "metadata": {
    "hidden": true
   },
   "outputs": [],
   "source": [
    "BACKBONE_MODEL = PRE_FINETUNE_PATH/'models/lm1_wgts.h5'"
   ]
  },
  {
   "cell_type": "code",
   "execution_count": 16,
   "metadata": {
    "hidden": true
   },
   "outputs": [],
   "source": [
    "wgts = torch.load(BACKBONE_MODEL, map_location=lambda storage, loc: storage)"
   ]
  },
  {
   "cell_type": "markdown",
   "metadata": {
    "hidden": true
   },
   "source": [
    "We calculate the mean of the layer0 encoder weights. This can be used to assign weights to unknown tokens when we transfer to target IMDB LM."
   ]
  },
  {
   "cell_type": "code",
   "execution_count": 17,
   "metadata": {
    "hidden": true
   },
   "outputs": [],
   "source": [
    "enc_wgts = to_np(wgts['0.encoder.weight'])\n",
    "row_m = enc_wgts.mean(0)"
   ]
  },
  {
   "cell_type": "code",
   "execution_count": 18,
   "metadata": {
    "hidden": true
   },
   "outputs": [],
   "source": [
    "itos2 = pickle.load((PRE_FINETUNE_PATH/'tmp'/'itos.pkl').open('rb'))\n",
    "stoi2 = collections.defaultdict(lambda:-1, {v:k for k,v in enumerate(itos2)})"
   ]
  },
  {
   "cell_type": "code",
   "execution_count": 19,
   "metadata": {},
   "outputs": [
    {
     "data": {
      "text/plain": [
       "60002"
      ]
     },
     "execution_count": 19,
     "metadata": {},
     "output_type": "execute_result"
    }
   ],
   "source": [
    "len(itos2)"
   ]
  },
  {
   "cell_type": "markdown",
   "metadata": {
    "hidden": true
   },
   "source": [
    "Before we try to transfer the knowledge from wikitext to the IMDB LM, we match up the vocab words and their indexes. We use the defaultdict container once again, to assign mean weights to unknown IMDB tokens that do not exist in wikitext103."
   ]
  },
  {
   "cell_type": "code",
   "execution_count": 20,
   "metadata": {
    "hidden": true
   },
   "outputs": [],
   "source": [
    "trn_lm = np.load(TWEETSLM_PATH/'tmp'/'trn_ids.npy')\n",
    "val_lm = np.load(TWEETSLM_PATH/'tmp'/'val_ids.npy')\n",
    "itos = pickle.load(open(TWEETSLM_PATH/'tmp'/'itos.pkl', 'rb'))"
   ]
  },
  {
   "cell_type": "code",
   "execution_count": 21,
   "metadata": {
    "hidden": true
   },
   "outputs": [
    {
     "data": {
      "text/plain": [
       "(38971, 126327)"
      ]
     },
     "execution_count": 21,
     "metadata": {},
     "output_type": "execute_result"
    }
   ],
   "source": [
    "vs=len(itos)\n",
    "vs,len(trn_lm)"
   ]
  },
  {
   "cell_type": "code",
   "execution_count": 22,
   "metadata": {
    "hidden": true
   },
   "outputs": [],
   "source": [
    "em_sz,nh,nl = 400,1150,3"
   ]
  },
  {
   "cell_type": "code",
   "execution_count": 23,
   "metadata": {
    "hidden": true
   },
   "outputs": [
    {
     "name": "stdout",
     "output_type": "stream",
     "text": [
      "Reuse 19837 word embeddings from fine-tuning\n",
      "19134 where not in vocab from fine-tuning\n"
     ]
    }
   ],
   "source": [
    "new_w = np.zeros((vs, em_sz), dtype=np.float32)\n",
    "n_replaced_vocab = 0\n",
    "\n",
    "for i,w in enumerate(itos):\n",
    "    r = stoi2[w]\n",
    "    if r>=0 :\n",
    "        new_w[i] = enc_wgts[r]\n",
    "        n_replaced_vocab +=1\n",
    "    else:\n",
    "        new_w[i] = row_m\n",
    "\n",
    "print(f'Reuse {n_replaced_vocab} word embeddings from fine-tuning')\n",
    "print(f'{vs-n_replaced_vocab} where not in vocab from fine-tuning')"
   ]
  },
  {
   "cell_type": "markdown",
   "metadata": {
    "hidden": true
   },
   "source": [
    "\"We now overwrite the weights into the wgts odict. The decoder module, which we will explore in detail is also loaded with the same weights due to an idea called weight tying.\""
   ]
  },
  {
   "cell_type": "code",
   "execution_count": 24,
   "metadata": {
    "hidden": true
   },
   "outputs": [],
   "source": [
    "wgts['0.encoder.weight'] = T(new_w)\n",
    "wgts['0.encoder_with_dropout.embed.weight'] = T(np.copy(new_w))\n",
    "wgts['1.decoder.weight'] = T(np.copy(new_w))"
   ]
  },
  {
   "cell_type": "markdown",
   "metadata": {
    "heading_collapsed": true
   },
   "source": [
    "## Language Model Finetuning"
   ]
  },
  {
   "cell_type": "code",
   "execution_count": 25,
   "metadata": {
    "hidden": true
   },
   "outputs": [],
   "source": [
    "# wd=1e-7\n",
    "bptt=70\n",
    "bs=24\n",
    "em_sz,nh,nl = 400,1150,3\n",
    "opt_fn = partial(optim.SGD, momentum=0.9)"
   ]
  },
  {
   "cell_type": "code",
   "execution_count": 26,
   "metadata": {
    "hidden": true
   },
   "outputs": [],
   "source": [
    "trn_lm = np.load(TWEETSLM_PATH/'tmp'/'trn_ids.npy')\n",
    "val_lm = np.load(TWEETSLM_PATH/'tmp'/'val_ids.npy')\n",
    "trn_lm = np.concatenate(trn_lm)\n",
    "val_lm = np.concatenate(val_lm)"
   ]
  },
  {
   "cell_type": "code",
   "execution_count": 27,
   "metadata": {},
   "outputs": [],
   "source": [
    "trn_dl = LanguageModelLoader(trn_lm, bs, bptt)\n",
    "val_dl = LanguageModelLoader(val_lm, bs, bptt)"
   ]
  },
  {
   "cell_type": "code",
   "execution_count": 28,
   "metadata": {
    "hidden": true
   },
   "outputs": [],
   "source": [
    "itos = pickle.load(open(TWEETSLM_PATH/'tmp'/'itos.pkl', 'rb'))\n",
    "vs = len(itos)\n",
    "\n",
    "md = LanguageModelData(TWEETSLM_PATH, 1, vs, trn_dl, val_dl, bs=bs, bptt=bptt)"
   ]
  },
  {
   "cell_type": "code",
   "execution_count": 29,
   "metadata": {
    "hidden": true
   },
   "outputs": [],
   "source": [
    "drops = np.array([0.25, 0.1, 0.2, 0.02, 0.15])*0.8\n",
    "# drops = np.array([0.25, 0.1, 0.2, 0.02, 0.15])"
   ]
  },
  {
   "cell_type": "code",
   "execution_count": 30,
   "metadata": {
    "hidden": true
   },
   "outputs": [],
   "source": [
    "learn = md.get_model(opt_fn, em_sz, nh, nl, dropouti=drops[0], dropout=drops[1], wdrop=drops[2], dropoute=drops[3], dropouth=drops[4])\n",
    "\n",
    "learn.metrics = [accuracy]\n",
    "learn.unfreeze()"
   ]
  },
  {
   "cell_type": "code",
   "execution_count": 31,
   "metadata": {
    "hidden": true
   },
   "outputs": [],
   "source": [
    "learn.model.load_state_dict(wgts)"
   ]
  },
  {
   "cell_type": "code",
   "execution_count": 132,
   "metadata": {
    "hidden": true
   },
   "outputs": [],
   "source": [
    "learn.lr_find2(start_lr=1e-1,end_lr=30, num_it=500)\n",
    "learn.sched.plot()"
   ]
  },
  {
   "cell_type": "code",
   "execution_count": 20,
   "metadata": {
    "hidden": true
   },
   "outputs": [],
   "source": [
    "lr= 12\n",
    "# lrs = lr"
   ]
  },
  {
   "cell_type": "code",
   "execution_count": 21,
   "metadata": {
    "hidden": true
   },
   "outputs": [],
   "source": [
    "learn.clip=0.92"
   ]
  },
  {
   "cell_type": "code",
   "execution_count": 133,
   "metadata": {
    "hidden": true
   },
   "outputs": [],
   "source": [
    "wd = 1e-7\n",
    "learn.fit(lr, 3, cycle_len=10, use_clr_beta=(10,33,0.95,0.85), best_save_name='lm1_wgts')"
   ]
  },
  {
   "cell_type": "code",
   "execution_count": 23,
   "metadata": {
    "hidden": true
   },
   "outputs": [
    {
     "data": {
      "image/png": "[encoded data removed]",
      "text/plain": [
       "<Figure size 864x288 with 2 Axes>"
      ]
     },
     "metadata": {
      "needs_background": "light"
     },
     "output_type": "display_data"
    }
   ],
   "source": [
    "learn.sched.plot_lr()\n",
    "learn.load('lm1_wgts_0.4250')\n",
    "learn.save_encoder('lm1_enc')"
   ]
  },
  {
   "cell_type": "markdown",
   "metadata": {},
   "source": [
    "## Dataframe for Classification"
   ]
  },
  {
   "cell_type": "code",
   "execution_count": 80,
   "metadata": {},
   "outputs": [],
   "source": [
    "df_trn = pd.read_csv(DATA_PATH/'train.csv', header=None)\n",
    "df_val = pd.read_csv(DATA_PATH/'validation.csv', header=None)\n",
    "df_tst = pd.read_csv(DATA_PATH/'test.csv', header=None)\n",
    "df_gen = pd.read_csv(DATA_PATH/'general.csv', header=None)"
   ]
  },
  {
   "cell_type": "code",
   "execution_count": 81,
   "metadata": {},
   "outputs": [
    {
     "data": {
      "text/plain": [
       "array([[3,\n",
       "        '-Me caes muy bien \\n-Tienes que jugar más partidas al lol con Russel y conmigo\\n-Por qué tan Otako, deja de ser otako\\n-Haber si me muero'],\n",
       "       [0,\n",
       "        '@myendlesshazza a. que puto mal escribo\\n\\nb. me sigo surrando help \\n\\n3. ha quedado raro el \"cómetelo\" ahí JAJAJAJA'],\n",
       "       [0,\n",
       "        '@estherct209 jajajaja la tuya y la d mucha gente seguro!! Pero yo no puedo sin mi melena me muero '],\n",
       "       [1, 'Quiero mogollón a @AlbaBenito99 pero sobretodo por lo rápido que contesta a los wasaps '],\n",
       "       [0, 'Vale he visto la tia bebiendose su regla y me hs dado muchs grima ']], dtype=object)"
      ]
     },
     "execution_count": 81,
     "metadata": {},
     "output_type": "execute_result"
    }
   ],
   "source": [
    "tweets_trn = np.concatenate([df_trn.values, df_val.values, df_gen.values]) #df_gen[df_gen[0]==2].values, df_gen[df_gen[0]==3].values]) #, df_gen.values])\n",
    "tweets_tst = np.concatenate([df_tst.values])\n",
    "del df_trn, df_val, df_tst, df_gen\n",
    "\n",
    "tweets_trn[:5]"
   ]
  },
  {
   "cell_type": "code",
   "execution_count": 82,
   "metadata": {},
   "outputs": [
    {
     "data": {
      "text/plain": [
       "array([[1,\n",
       "        'Estoy recibiendo preguntas para los 4 nuevos en el Congreso. ¿Os puedo pedir que las reenviéis a @Juliaenlaonda  con la etiqueta #losnuevos?'],\n",
       "       [0,\n",
       "        '@XimoVR @gsus_77 @mediavida5 lo bueno y lo malo, ojo. Que a nosotros fijo que nos quitan alguno. '],\n",
       "       [0,\n",
       "        'Como el debate @DHAM_13tv tenga la intensidad del previo en @13tv_AlDia, va a arder Troya por segunda vez...'],\n",
       "       [1, 'Cafelito y a empezar ;-)) (@ La Cabaña) http://t.co/33spLQc0'],\n",
       "       [0, '@RodrigoBlazquez @gemahuesca a ver si nos aclaramos!']], dtype=object)"
      ]
     },
     "execution_count": 82,
     "metadata": {},
     "output_type": "execute_result"
    }
   ],
   "source": [
    "np.random.shuffle(tweets_trn)\n",
    "tweets_trn[:5]"
   ]
  },
  {
   "cell_type": "code",
   "execution_count": 83,
   "metadata": {},
   "outputs": [],
   "source": [
    "tweets_trn[:,1] = preprocess_tweets(tweets_trn[:,1])\n",
    "tweets_tst[:,1] = preprocess_tweets(tweets_tst[:,1])"
   ]
  },
  {
   "cell_type": "code",
   "execution_count": 11,
   "metadata": {},
   "outputs": [],
   "source": [
    "# NEGA_train_docs = [tweets[i] for i in range(len(tweets)) if tweets[i, 0] == 0]\n",
    "# POSI_train_docs = [tweets[i] for i in range(len(tweets)) if tweets[i, 0] == 1]\n",
    "# NEUT_train_docs = [tweets[i] for i in range(len(tweets)) if tweets[i, 0] == 2]\n",
    "# NONE_train_docs = [tweets[i] for i in range(len(tweets)) if tweets[i, 0] == 3]\n",
    "# del tweets\n",
    "\n",
    "# level_train_docs = [NEGA_train_docs,POSI_train_docs,NEUT_train_docs,NONE_train_docs]\n",
    "\n",
    "# fmt = \"\"\"Negative Sentences = {:d}\n",
    "#        \\rPositive Sentences = {:d}\n",
    "#        \\rNeutral  Sentences = {:d}\n",
    "#        \\rNone Values        = {:d}\"\"\"\n",
    "\n",
    "# print(fmt.format(len(NEGA_train_docs),\n",
    "#                  len(POSI_train_docs),\n",
    "#                  len(NEUT_train_docs),\n",
    "#                  len(NONE_train_docs)))\n",
    "\n",
    "# maxSentLvl = max(len(POSI_train_docs),len(NEGA_train_docs),len(NEUT_train_docs),len(NONE_train_docs))\n",
    "\n",
    "# print('Maximum number of sentences per level : ', maxSentLvl)\n"
   ]
  },
  {
   "cell_type": "code",
   "execution_count": 12,
   "metadata": {},
   "outputs": [],
   "source": [
    "# from googletrans import Translator\n",
    "# import random\n",
    "\n",
    "# translator = Translator()\n",
    "# tweets_bal = []\n",
    "# for i in range(len(level_train_docs)):\n",
    "#     level_per = np.array(random.sample(level_train_docs[i],maxSentLvl-len(level_train_docs[i])))\n",
    "#     tweets_bal.append(level_per[:minSentLvl])\n",
    "    \n",
    "# print(\"New size of sentences:\\n\")\n",
    "# fmt = \"\"\"Negative Sentences = {:d}\n",
    "#        \\rPositive Sentences = {:d}\n",
    "#        \\rNeutral  Sentences = {:d}\n",
    "#        \\rNone Values        = {:d}\"\"\"\n",
    "\n",
    "# print(fmt.format(len(tweets_bal[0]),\n",
    "#                  len(tweets_bal[1]),\n",
    "#                  len(tweets_bal[2]),\n",
    "#                  len(tweets_bal[3])))\n",
    "\n",
    "# # flat_tweets_bal = [item for sublist in tweets_bal for item in sublist]\n",
    "# # shuf_tweets_bal = random.sample(flat_tweets_bal,len(flat_tweets_bal))\n",
    "\n",
    "# # assert (len(shuf_tweets_bal) == 4 * minSentLvl)\n",
    "# # print(\"shuf_tweets_bal size = \", len(shuf_tweets_bal))\n",
    "\n",
    "# # shuf_tweets_bal = np.array(shuf_tweets_bal)\n",
    "# # print(shuf_tweets_bal[:5])"
   ]
  },
  {
   "cell_type": "code",
   "execution_count": 84,
   "metadata": {
    "hidden": true
   },
   "outputs": [
    {
     "name": "stdout",
     "output_type": "stream",
     "text": [
      "train shapes: (7858,) (7858,)\n",
      "valid shapes: (874,) (874,)\n",
      "test shapes: (1899, 2)\n"
     ]
    }
   ],
   "source": [
    "tweets_train, tweets_valid, labels_train, labels_valid = train_test_split(tweets_trn[:,1], tweets_trn[:,0], stratify=tweets_trn[:,0], test_size=0.10)\n",
    "\n",
    "del tweets_trn\n",
    "# tweets_train, tweets_valid, labels_train, labels_valid = train_test_split(\n",
    "#                                                     shuf_tweets_bal[:,1], shuf_tweets_bal[:,0],\n",
    "#                                                     stratify=shuf_tweets_bal[:,0], \n",
    "#                                                     test_size=0.10)\n",
    "\n",
    "print('train shapes:', tweets_train.shape, labels_train.shape)\n",
    "print('valid shapes:', tweets_valid.shape, labels_valid.shape)\n",
    "print('test shapes:', tweets_tst.shape)"
   ]
  },
  {
   "cell_type": "code",
   "execution_count": 85,
   "metadata": {
    "hidden": true
   },
   "outputs": [],
   "source": [
    "col_names = ['label', 'tweet']\n",
    "\n",
    "df_trn = pd.DataFrame({'tweet':tweets_train, 'label':labels_train}, columns=col_names)\n",
    "df_val = pd.DataFrame({'tweet':tweets_valid, 'label':labels_valid}, columns=col_names)\n",
    "df_tst = pd.DataFrame({'tweet':tweets_tst[:,1], 'label':tweets_tst[:,0]}, columns=col_names)\n",
    "\n",
    "del tweets_train, tweets_valid, labels_train, labels_valid, tweets_tst"
   ]
  },
  {
   "cell_type": "code",
   "execution_count": 86,
   "metadata": {
    "hidden": true
   },
   "outputs": [
    {
     "name": "stdout",
     "output_type": "stream",
     "text": [
      "1    3022\n",
      "0    2537\n",
      "3    1514\n",
      "2     785\n",
      "Name: label, dtype: int64\n",
      "1    336\n",
      "0    282\n",
      "3    169\n",
      "2     87\n",
      "Name: label, dtype: int64\n",
      "Series([], Name: label, dtype: int64)\n"
     ]
    }
   ],
   "source": [
    "print(df_trn['label'].value_counts())\n",
    "print(df_val['label'].value_counts())\n",
    "print(df_tst['label'].value_counts())"
   ]
  },
  {
   "cell_type": "code",
   "execution_count": 87,
   "metadata": {
    "hidden": true
   },
   "outputs": [
    {
     "name": "stdout",
     "output_type": "stream",
     "text": [
      "3    3022\n",
      "2    3022\n",
      "1    3022\n",
      "0    3022\n",
      "Name: label, dtype: int64\n",
      "1    336\n",
      "0    282\n",
      "3    169\n",
      "2     87\n",
      "Name: label, dtype: int64\n",
      "Series([], Name: label, dtype: int64)\n"
     ]
    }
   ],
   "source": [
    "def balance_df(df):\n",
    "    lst = [df]\n",
    "    max_size = df['label'].value_counts().max()\n",
    "    for class_index, group in df.groupby('label'):\n",
    "        lst.append(group.sample(max_size-len(group), replace=True))\n",
    "    df = pd.concat(lst)\n",
    "    return df\n",
    "\n",
    "df_trn = balance_df(df_trn)\n",
    "# df_val = balance_df(df_val)\n",
    "\n",
    "print(df_trn['label'].value_counts())\n",
    "print(df_val['label'].value_counts())\n",
    "print(df_tst['label'].value_counts())"
   ]
  },
  {
   "cell_type": "code",
   "execution_count": 88,
   "metadata": {
    "hidden": true
   },
   "outputs": [],
   "source": [
    "df_trn.to_csv(CLAS_PATH/'train.csv', header=False, index=False)\n",
    "df_val.to_csv(CLAS_PATH/'validation.csv', header=False, index=False)\n",
    "df_tst.to_csv(CLAS_PATH/'test.csv', header=False, index=False)\n",
    "df_trn.shape, df_val.shape\n",
    "\n",
    "del df_trn, df_val, df_tst"
   ]
  },
  {
   "cell_type": "markdown",
   "metadata": {
    "heading_collapsed": true
   },
   "source": [
    "## Classifier tokens"
   ]
  },
  {
   "cell_type": "code",
   "execution_count": 89,
   "metadata": {
    "hidden": true
   },
   "outputs": [],
   "source": [
    "chunksize=24000\n",
    "\n",
    "re1 = re.compile(r'  +')"
   ]
  },
  {
   "cell_type": "code",
   "execution_count": 90,
   "metadata": {
    "hidden": true
   },
   "outputs": [],
   "source": [
    "df_trn = pd.read_csv(CLAS_PATH/'train.csv', header=None, chunksize=chunksize)\n",
    "df_val = pd.read_csv(CLAS_PATH/'validation.csv', header=None, chunksize=chunksize)\n",
    "df_tst = pd.read_csv(CLAS_PATH/'test.csv', header=None, chunksize=chunksize)"
   ]
  },
  {
   "cell_type": "code",
   "execution_count": 91,
   "metadata": {
    "hidden": true
   },
   "outputs": [],
   "source": [
    "tok_trn, trn_labels = get_all(df_trn, 1)\n",
    "tok_val, val_labels = get_all(df_val, 1)\n",
    "tok_tst, tst_labels = get_all(df_tst, 1)"
   ]
  },
  {
   "cell_type": "code",
   "execution_count": 92,
   "metadata": {
    "hidden": true
   },
   "outputs": [],
   "source": [
    "(CLAS_PATH/'tmp').mkdir(exist_ok=True)"
   ]
  },
  {
   "cell_type": "code",
   "execution_count": 93,
   "metadata": {
    "hidden": true
   },
   "outputs": [],
   "source": [
    "np.save(CLAS_PATH/'tmp'/'tok_trn.npy', tok_trn)\n",
    "np.save(CLAS_PATH/'tmp'/'tok_val.npy', tok_val)\n",
    "np.save(CLAS_PATH/'tmp'/'tok_tst.npy', tok_tst)"
   ]
  },
  {
   "cell_type": "code",
   "execution_count": 94,
   "metadata": {
    "hidden": true
   },
   "outputs": [],
   "source": [
    "np.save(CLAS_PATH/'tmp'/'trn_labels.npy', trn_labels)\n",
    "np.save(CLAS_PATH/'tmp'/'val_labels.npy', val_labels)\n",
    "# np.save(CLAS_PATH/'tmp'/'tst_labels.npy', tst_labels)\n",
    "\n",
    "# df = pd.read_csv(CLAS_PATH/'test_labels.csv')\n",
    "# df['label']=df['label'].replace(['N','P','NEU','NONE'],[0,1,2,3])\n",
    "# np.save(CLAS_PATH/'tmp'/'tst_labels.npy', df['label'].values)"
   ]
  },
  {
   "cell_type": "code",
   "execution_count": 95,
   "metadata": {
    "hidden": true
   },
   "outputs": [],
   "source": [
    "tok_trn = np.load(CLAS_PATH/'tmp'/'tok_trn.npy')\n",
    "tok_val = np.load(CLAS_PATH/'tmp'/'tok_val.npy')\n",
    "tok_tst = np.load(CLAS_PATH/'tmp'/'tok_tst.npy')"
   ]
  },
  {
   "cell_type": "code",
   "execution_count": 96,
   "metadata": {
    "hidden": true
   },
   "outputs": [
    {
     "data": {
      "text/plain": [
       "38971"
      ]
     },
     "execution_count": 96,
     "metadata": {},
     "output_type": "execute_result"
    }
   ],
   "source": [
    "itos = pickle.load((TWEETSLM_PATH/'tmp'/'itos.pkl').open('rb'))\n",
    "stoi = collections.defaultdict(lambda:0, {v:k for k,v in enumerate(itos)})\n",
    "len(itos)"
   ]
  },
  {
   "cell_type": "code",
   "execution_count": 97,
   "metadata": {
    "hidden": true
   },
   "outputs": [],
   "source": [
    "trn_clas = np.array([[stoi[o] for o in p] for p in tok_trn])\n",
    "val_clas = np.array([[stoi[o] for o in p] for p in tok_val])\n",
    "tst_clas = np.array([[stoi[o] for o in p] for p in tok_tst])"
   ]
  },
  {
   "cell_type": "code",
   "execution_count": 98,
   "metadata": {
    "hidden": true
   },
   "outputs": [],
   "source": [
    "np.save(CLAS_PATH/'tmp'/'trn_ids.npy', trn_clas)\n",
    "np.save(CLAS_PATH/'tmp'/'val_ids.npy', val_clas)\n",
    "np.save(CLAS_PATH/'tmp'/'tst_ids.npy', tst_clas)"
   ]
  },
  {
   "cell_type": "markdown",
   "metadata": {
    "heading_collapsed": true
   },
   "source": [
    "## Classifier"
   ]
  },
  {
   "cell_type": "code",
   "execution_count": 99,
   "metadata": {
    "hidden": true
   },
   "outputs": [],
   "source": [
    "trn_clas = np.load(CLAS_PATH/'tmp'/'trn_ids.npy')\n",
    "val_clas = np.load(CLAS_PATH/'tmp'/'val_ids.npy')"
   ]
  },
  {
   "cell_type": "code",
   "execution_count": 100,
   "metadata": {
    "hidden": true
   },
   "outputs": [],
   "source": [
    "trn_labels = np.squeeze(np.load(CLAS_PATH/'tmp'/'trn_labels.npy'))\n",
    "val_labels = np.squeeze(np.load(CLAS_PATH/'tmp'/'val_labels.npy'))"
   ]
  },
  {
   "cell_type": "code",
   "execution_count": 101,
   "metadata": {
    "hidden": true
   },
   "outputs": [],
   "source": [
    "bptt,em_sz,nh,nl = 30,400,1150,3\n",
    "vs = len(itos)\n",
    "opt_fn = partial(optim.Adam, betas=(0.8, 0.99))\n",
    "bs = 96"
   ]
  },
  {
   "cell_type": "code",
   "execution_count": 102,
   "metadata": {
    "hidden": true
   },
   "outputs": [
    {
     "name": "stdout",
     "output_type": "stream",
     "text": [
      "4\n"
     ]
    }
   ],
   "source": [
    "min_lbl = trn_labels.min()\n",
    "trn_labels -= min_lbl\n",
    "val_labels -= min_lbl\n",
    "c=int(trn_labels.max())+1\n",
    "print(c)"
   ]
  },
  {
   "cell_type": "markdown",
   "metadata": {
    "hidden": true
   },
   "source": [
    "In the classifier, unlike LM, we need to read a tweet at a time. We do not deal with equal bptt size batches, so we have to pad the sequences to the same length in each batch. To create batches of similar sized movie tweets, we use a sortish sampler method invented by [@Smerity](https://twitter.com/Smerity) and [@jekbradbury](https://twitter.com/jekbradbury)\n",
    "\n",
    "The sortishSampler cuts down the overall number of padding tokens the classifier ends up seeing."
   ]
  },
  {
   "cell_type": "code",
   "execution_count": 103,
   "metadata": {
    "hidden": true
   },
   "outputs": [],
   "source": [
    "trn_ds = TextDataset(trn_clas, trn_labels)\n",
    "val_ds = TextDataset(val_clas, val_labels)\n",
    "trn_samp = SortishSampler(trn_clas, key=lambda x: len(trn_clas[x]), bs=bs//2)\n",
    "val_samp = SortSampler(val_clas, key=lambda x: len(val_clas[x]))\n",
    "trn_dl = DataLoader(trn_ds, bs//2, transpose=True, num_workers=1, pad_idx=1, sampler=trn_samp)\n",
    "val_dl = DataLoader(val_ds, bs, transpose=True, num_workers=1, pad_idx=1, sampler=val_samp)\n",
    "md = ModelData(TWEETSLM_PATH, trn_dl, val_dl, test_dl=val_dl)"
   ]
  },
  {
   "cell_type": "code",
   "execution_count": 104,
   "metadata": {
    "hidden": true
   },
   "outputs": [],
   "source": [
    "#dps = np.array([0.4,0.5,0.05,0.3,0.4])*0.8\n",
    "dps = np.array([0.4,0.5,0.05,0.3,0.4])"
   ]
  },
  {
   "cell_type": "code",
   "execution_count": 105,
   "metadata": {
    "hidden": true
   },
   "outputs": [],
   "source": [
    "m = get_rnn_classifer(bptt, 20*70, c, vs, emb_sz=em_sz, n_hid=nh, n_layers=nl, pad_token=1, layers=[em_sz*3, 50, c], drops=[dps[4], 0.1], dropouti=dps[0], wdrop=dps[1], dropoute=dps[2], dropouth=dps[3])"
   ]
  },
  {
   "cell_type": "code",
   "execution_count": 106,
   "metadata": {
    "hidden": true
   },
   "outputs": [],
   "source": [
    "opt_fn = partial(optim.Adam, betas=(0.7, 0.99))"
   ]
  },
  {
   "cell_type": "code",
   "execution_count": 107,
   "metadata": {
    "hidden": true
   },
   "outputs": [],
   "source": [
    "learn = RNN_Learner(md, TextModel(to_gpu(m)), opt_fn=opt_fn)\n",
    "learn.reg_fn = partial(seq2seq_reg, alpha=2, beta=1)\n",
    "learn.clip=.92\n",
    "learn.metrics = [accuracy]"
   ]
  },
  {
   "cell_type": "code",
   "execution_count": 108,
   "metadata": {
    "hidden": true
   },
   "outputs": [],
   "source": [
    "learn.load_encoder('lm1_enc')"
   ]
  },
  {
   "cell_type": "code",
   "execution_count": 109,
   "metadata": {},
   "outputs": [
    {
     "data": {
      "text/plain": [
       "[(Embedding(38971, 400, padding_idx=1), LockedDropout(\n",
       "  )), (WeightDrop(\n",
       "    (module): LSTM(400, 1150, dropout=0.3)\n",
       "  ), LockedDropout(\n",
       "  )), (WeightDrop(\n",
       "    (module): LSTM(1150, 1150, dropout=0.3)\n",
       "  ), LockedDropout(\n",
       "  )), (WeightDrop(\n",
       "    (module): LSTM(1150, 400, dropout=0.3)\n",
       "  ), LockedDropout(\n",
       "  )), PoolingLinearClassifier(\n",
       "   (layers): ModuleList(\n",
       "     (0): LinearBlock(\n",
       "       (lin): Linear(in_features=1200, out_features=50, bias=True)\n",
       "       (drop): Dropout(p=0.4)\n",
       "       (bn): BatchNorm1d(1200, eps=1e-05, momentum=0.1, affine=True)\n",
       "     )\n",
       "     (1): LinearBlock(\n",
       "       (lin): Linear(in_features=50, out_features=4, bias=True)\n",
       "       (drop): Dropout(p=0.1)\n",
       "       (bn): BatchNorm1d(50, eps=1e-05, momentum=0.1, affine=True)\n",
       "     )\n",
       "   )\n",
       " )]"
      ]
     },
     "execution_count": 109,
     "metadata": {},
     "output_type": "execute_result"
    }
   ],
   "source": [
    "learn.get_layer_groups()"
   ]
  },
  {
   "cell_type": "code",
   "execution_count": 110,
   "metadata": {
    "hidden": true
   },
   "outputs": [],
   "source": [
    "learn.freeze_to(-1)"
   ]
  },
  {
   "cell_type": "code",
   "execution_count": 111,
   "metadata": {
    "hidden": true
   },
   "outputs": [
    {
     "data": {
      "application/vnd.jupyter.widget-view+json": {
       "model_id": "0bd9b6e166eb41ff9e52d0239989d724",
       "version_major": 2,
       "version_minor": 0
      },
      "text/plain": [
       "HBox(children=(IntProgress(value=0, description='Epoch', max=2, style=ProgressStyle(description_width='initial…"
      ]
     },
     "metadata": {},
     "output_type": "display_data"
    },
    {
     "name": "stdout",
     "output_type": "stream",
     "text": [
      " 59%|█████▊    | 148/252 [00:22<00:15,  6.60it/s, loss=1.24]"
     ]
    },
    {
     "data": {
      "image/png": "[encoded data removed]",
      "text/plain": [
       "<Figure size 432x864 with 3 Axes>"
      ]
     },
     "metadata": {
      "needs_background": "light"
     },
     "output_type": "display_data"
    }
   ],
   "source": [
    "learn.lr_find2(start_lr=1e-4,end_lr=1e-2, num_it=400)\n",
    "learn.sched.plot()"
   ]
  },
  {
   "cell_type": "code",
   "execution_count": 112,
   "metadata": {
    "hidden": true
   },
   "outputs": [
    {
     "name": "stdout",
     "output_type": "stream",
     "text": [
      "[0.00007 0.00017 0.00044 0.00115 0.003  ]\n"
     ]
    }
   ],
   "source": [
    "lr= 3e-3\n",
    "lrm = 2.6\n",
    "lrs = np.array([lr/(lrm**4), lr/(lrm**3), lr/(lrm**2), lr/lrm, lr])\n",
    "print(lrs)\n",
    "wd = 1e-7"
   ]
  },
  {
   "cell_type": "code",
   "execution_count": 113,
   "metadata": {
    "hidden": true
   },
   "outputs": [
    {
     "data": {
      "application/vnd.jupyter.widget-view+json": {
       "model_id": "0a2231a3b1944cc585f2fd9528e57415",
       "version_major": 2,
       "version_minor": 0
      },
      "text/plain": [
       "HBox(children=(IntProgress(value=0, description='Epoch', max=5, style=ProgressStyle(description_width='initial…"
      ]
     },
     "metadata": {},
     "output_type": "display_data"
    },
    {
     "name": "stdout",
     "output_type": "stream",
     "text": [
      "epoch      trn_loss   val_loss   accuracy   \n",
      "    0      1.235164   1.199492   0.467411  \n",
      "    1      1.216169   1.162539   0.483631  \n",
      "    2      1.207575   1.149275   0.502976  \n",
      "    3      1.195812   1.162148   0.488393  \n",
      "    4      1.193156   1.167522   0.476786  \n"
     ]
    },
    {
     "data": {
      "text/plain": [
       "[array([1.16752]), 0.4767857162725358]"
      ]
     },
     "execution_count": 113,
     "metadata": {},
     "output_type": "execute_result"
    }
   ],
   "source": [
    "# wd = 1e-7\n",
    "learn.fit(lrs, 5, wds=wd, cycle_len=1, use_clr_beta=(32,10,0.8,0.7), best_save_name='clas2_0')"
   ]
  },
  {
   "cell_type": "code",
   "execution_count": 114,
   "metadata": {},
   "outputs": [
    {
     "data": {
      "image/png": "[encoded data removed]",
      "text/plain": [
       "<Figure size 864x288 with 2 Axes>"
      ]
     },
     "metadata": {
      "needs_background": "light"
     },
     "output_type": "display_data"
    }
   ],
   "source": [
    "learn.sched.plot_lr()"
   ]
  },
  {
   "cell_type": "code",
   "execution_count": 115,
   "metadata": {
    "hidden": true
   },
   "outputs": [],
   "source": [
    "# learn.save('clas2_0')\n",
    "learn.load('clas2_0')"
   ]
  },
  {
   "cell_type": "code",
   "execution_count": 116,
   "metadata": {
    "hidden": true
   },
   "outputs": [],
   "source": [
    "learn.freeze_to(-2)"
   ]
  },
  {
   "cell_type": "code",
   "execution_count": 117,
   "metadata": {
    "hidden": true
   },
   "outputs": [
    {
     "data": {
      "application/vnd.jupyter.widget-view+json": {
       "model_id": "9b262956e5a24314a1979b1414cce618",
       "version_major": 2,
       "version_minor": 0
      },
      "text/plain": [
       "HBox(children=(IntProgress(value=0, description='Epoch', max=5, style=ProgressStyle(description_width='initial…"
      ]
     },
     "metadata": {},
     "output_type": "display_data"
    },
    {
     "name": "stdout",
     "output_type": "stream",
     "text": [
      "epoch      trn_loss   val_loss   accuracy   \n",
      "    0      1.180651   1.139889   0.493948  \n",
      "    1      1.17391    1.143912   0.471329  \n",
      "    2      1.149017   1.133121   0.49871   \n",
      "    3      1.156958   1.132087   0.494444  \n",
      "    4      1.12623    1.100962   0.510913  \n"
     ]
    },
    {
     "data": {
      "text/plain": [
       "[array([1.10096]), 0.5109127043258577]"
      ]
     },
     "execution_count": 117,
     "metadata": {},
     "output_type": "execute_result"
    }
   ],
   "source": [
    "learn.fit(lrs, 5, wds=wd, cycle_len=1, use_clr_beta=(32,10,0.8,0.7),  best_save_name='clas2_1')"
   ]
  },
  {
   "cell_type": "code",
   "execution_count": 118,
   "metadata": {
    "hidden": true
   },
   "outputs": [],
   "source": [
    "# learn.save('clas2_1')\n",
    "learn.load('clas2_1')"
   ]
  },
  {
   "cell_type": "code",
   "execution_count": 119,
   "metadata": {
    "hidden": true
   },
   "outputs": [],
   "source": [
    "learn.unfreeze()"
   ]
  },
  {
   "cell_type": "code",
   "execution_count": 120,
   "metadata": {
    "hidden": true
   },
   "outputs": [
    {
     "data": {
      "application/vnd.jupyter.widget-view+json": {
       "model_id": "7c6cd42c018f4870828dd7d7186b71f7",
       "version_major": 2,
       "version_minor": 0
      },
      "text/plain": [
       "HBox(children=(IntProgress(value=0, description='Epoch', max=5, style=ProgressStyle(description_width='initial…"
      ]
     },
     "metadata": {},
     "output_type": "display_data"
    },
    {
     "name": "stdout",
     "output_type": "stream",
     "text": [
      "epoch      trn_loss   val_loss   accuracy   \n",
      "    0      1.131482   1.108389   0.521032  \n",
      "    1      1.143043   1.092268   0.528224  \n",
      "    2      1.109289   1.083237   0.529464  \n",
      "    3      1.079179   1.075186   0.531796  \n",
      "    4      1.059861   1.086337   0.536111  \n"
     ]
    },
    {
     "data": {
      "text/plain": [
       "[array([1.08634]), 0.5361111077524366]"
      ]
     },
     "execution_count": 120,
     "metadata": {},
     "output_type": "execute_result"
    }
   ],
   "source": [
    "learn.fit(lrs, 1, cycle_len=5, use_clr_beta=(32,10,0.8,0.7), best_save_name='final_01')"
   ]
  },
  {
   "cell_type": "code",
   "execution_count": 121,
   "metadata": {},
   "outputs": [],
   "source": [
    "learn.load('final_01')"
   ]
  },
  {
   "cell_type": "code",
   "execution_count": 122,
   "metadata": {},
   "outputs": [
    {
     "data": {
      "application/vnd.jupyter.widget-view+json": {
       "model_id": "01ddd9e8ae76464e864b395363191535",
       "version_major": 2,
       "version_minor": 0
      },
      "text/plain": [
       "HBox(children=(IntProgress(value=0, description='Epoch', max=5, style=ProgressStyle(description_width='initial…"
      ]
     },
     "metadata": {},
     "output_type": "display_data"
    },
    {
     "name": "stdout",
     "output_type": "stream",
     "text": [
      "epoch      trn_loss   val_loss   accuracy   \n",
      "    0      1.058245   1.071284   0.536458  \n",
      "    1      1.062066   1.055636   0.554514  \n",
      "    2      1.004568   1.042652   0.550843  \n",
      "    3      0.935506   1.047136   0.563938  \n",
      "    4      0.877611   1.033204   0.576438  \n"
     ]
    },
    {
     "data": {
      "text/plain": [
       "[array([1.0332]), 0.5764384909754707]"
      ]
     },
     "execution_count": 122,
     "metadata": {},
     "output_type": "execute_result"
    }
   ],
   "source": [
    "learn.fit(lr, 1, cycle_len=5, use_clr_beta=(32,10,0.8,0.7), best_save_name='final_02')"
   ]
  },
  {
   "cell_type": "code",
   "execution_count": 123,
   "metadata": {},
   "outputs": [],
   "source": [
    "learn.load('final_02')"
   ]
  },
  {
   "cell_type": "code",
   "execution_count": 124,
   "metadata": {},
   "outputs": [
    {
     "data": {
      "application/vnd.jupyter.widget-view+json": {
       "model_id": "644ad3c9103544e9b150b6ce7b9dac57",
       "version_major": 2,
       "version_minor": 0
      },
      "text/plain": [
       "HBox(children=(IntProgress(value=0, description='Epoch', max=5, style=ProgressStyle(description_width='initial…"
      ]
     },
     "metadata": {},
     "output_type": "display_data"
    },
    {
     "name": "stdout",
     "output_type": "stream",
     "text": [
      "epoch      trn_loss   val_loss   accuracy   \n",
      "    0      0.868949   1.031814   0.58001   \n",
      "    1      0.858633   1.062389   0.574256  \n",
      "    2      0.809059   1.060234   0.59127   \n",
      "    3      0.737918   1.058068   0.59995   \n",
      "    4      0.71811    1.078185   0.6       \n"
     ]
    },
    {
     "data": {
      "text/plain": [
       "[array([1.07818]), 0.6000000035478955]"
      ]
     },
     "execution_count": 124,
     "metadata": {},
     "output_type": "execute_result"
    }
   ],
   "source": [
    "learn.fit(lr, 1, cycle_len=5, use_clr_beta=(32,10,0.8,0.7), best_save_name='final_03')"
   ]
  },
  {
   "cell_type": "code",
   "execution_count": 126,
   "metadata": {},
   "outputs": [],
   "source": [
    "learn.load('final_03')"
   ]
  },
  {
   "cell_type": "code",
   "execution_count": 127,
   "metadata": {},
   "outputs": [
    {
     "data": {
      "application/vnd.jupyter.widget-view+json": {
       "model_id": "2662faf66a4b4cf1a044a8a7d13069e7",
       "version_major": 2,
       "version_minor": 0
      },
      "text/plain": [
       "HBox(children=(IntProgress(value=0, description='Epoch', max=5, style=ProgressStyle(description_width='initial…"
      ]
     },
     "metadata": {},
     "output_type": "display_data"
    },
    {
     "name": "stdout",
     "output_type": "stream",
     "text": [
      "epoch      trn_loss   val_loss   accuracy   \n",
      "    0      0.704846   1.085823   0.60501   \n",
      "    1      0.707885   1.131837   0.575099  \n",
      "    2      0.696948   1.136737   0.57371   \n",
      "    3      0.627811   1.108612   0.605506  \n",
      "    4      0.590058   1.137697   0.604613  \n"
     ]
    },
    {
     "data": {
      "text/plain": [
       "[array([1.1377]), 0.6046131091458457]"
      ]
     },
     "execution_count": 127,
     "metadata": {},
     "output_type": "execute_result"
    }
   ],
   "source": [
    "learn.fit(lr, 1, cycle_len=5, use_clr_beta=(32,10,0.8,0.7), best_save_name='final_04')"
   ]
  },
  {
   "cell_type": "code",
   "execution_count": 125,
   "metadata": {
    "hidden": true
   },
   "outputs": [
    {
     "data": {
      "image/png": "[encoded data removed]",
      "text/plain": [
       "<Figure size 432x288 with 1 Axes>"
      ]
     },
     "metadata": {
      "needs_background": "light"
     },
     "output_type": "display_data"
    }
   ],
   "source": [
    "# learn.save('final')\n",
    "learn.load('final_03')\n",
    "learn.sched.plot_loss()"
   ]
  },
  {
   "cell_type": "markdown",
   "metadata": {},
   "source": [
    "## Model Evaluation"
   ]
  },
  {
   "cell_type": "code",
   "execution_count": 128,
   "metadata": {},
   "outputs": [],
   "source": [
    "def plot_confusion_matrix(cm, classes,\n",
    "                          normalize=False,\n",
    "                          title='Confusion matrix',\n",
    "                          cmap=plt.cm.Blues):\n",
    "    \"\"\"\n",
    "    This function prints and plots the confusion matrix.\n",
    "    Normalization can be applied by setting `normalize=True`.\n",
    "    \"\"\"\n",
    "    if normalize:\n",
    "        cm = cm.astype('float') / cm.sum(axis=1)[:, np.newaxis]\n",
    "\n",
    "    plt.imshow(cm, interpolation='nearest', cmap=cmap)\n",
    "    plt.title(title)\n",
    "    plt.colorbar()\n",
    "    tick_marks = np.arange(len(classes))\n",
    "    plt.xticks(tick_marks, classes, rotation=45)\n",
    "    plt.yticks(tick_marks, classes)\n",
    "\n",
    "    fmt = '.2f' if normalize else 'd'\n",
    "    thresh = cm.max() / 2.\n",
    "    for i, j in itertools.product(range(cm.shape[0]), range(cm.shape[1])):\n",
    "        plt.text(j, i, format(cm[i, j], fmt),\n",
    "                 horizontalalignment=\"center\",\n",
    "                 color=\"white\" if cm[i, j] > thresh else \"black\")\n",
    "\n",
    "    plt.ylabel('True label')\n",
    "    plt.xlabel('Predicted label')\n",
    "    plt.tight_layout()"
   ]
  },
  {
   "cell_type": "code",
   "execution_count": 129,
   "metadata": {},
   "outputs": [],
   "source": [
    "bs = 256\n",
    "bptt,em_sz,nh,nl = 70,400,1150,3\n",
    "\n",
    "tst_sent = np.load(CLAS_PATH/'tmp/tst_ids.npy')\n",
    "tst_lbls = np.load(CLAS_PATH/'tmp/tst_labels.npy').flatten()\n",
    "# tst_lbls -= tst_lbls.min()\n",
    "c=4 #int(tst_lbls.max())+1\n",
    "tst_ds = TextDataset(tst_sent, tst_lbls)\n",
    "tst_samp = SortSampler(tst_sent, key=lambda x: len(tst_sent[x]))\n",
    "tst_lbls_sampled = tst_lbls[list(tst_samp)]\n",
    "tst_dl = DataLoader(tst_ds, bs, transpose=True, num_workers=1, pad_idx=1, sampler=tst_samp)\n",
    "md = ModelData(TWEETSLM_PATH, None, tst_dl)\n",
    "itos = pickle.load(open(TWEETSLM_PATH/'tmp/itos.pkl', 'rb'))\n",
    "vs = len(itos)"
   ]
  },
  {
   "cell_type": "code",
   "execution_count": 131,
   "metadata": {},
   "outputs": [
    {
     "name": "stdout",
     "output_type": "stream",
     "text": [
      "F1(macro) =  0.4810990528918108\n",
      "Accuracy  =  0.5676671932596103\n"
     ]
    },
    {
     "data": {
      "image/png": "[encoded data removed]",
      "text/plain": [
       "<Figure size 432x288 with 2 Axes>"
      ]
     },
     "metadata": {
      "needs_background": "light"
     },
     "output_type": "display_data"
    }
   ],
   "source": [
    "    \n",
    "m = get_rnn_classifer(bptt, 20*70, c, vs, emb_sz=em_sz, n_hid=nh, n_layers=nl, pad_token=1, layers=[em_sz*3, 50, c], drops=[0., 0.])\n",
    "\n",
    "learn2 = RNN_Learner(md, TextModel(to_gpu(m)))\n",
    "learn2.load_encoder('lm1_enc')\n",
    "learn2.load('final_04')\n",
    "predictions = np.argmax(learn2.predict(), axis=1)\n",
    "\n",
    "f1 = f1_score(tst_lbls_sampled, predictions, average='macro')\n",
    "print('F1(macro) = ', f1)\n",
    "\n",
    "acc = (tst_lbls_sampled == predictions).mean()\n",
    "print('Accuracy  = ', acc)\n",
    "\n",
    "\n",
    "cnf_matrix = confusion_matrix(tst_lbls_sampled, predictions)\n",
    "plt.figure()\n",
    "plot_confusion_matrix(cnf_matrix, classes=['N', 'P', 'NEU', 'NONE'], title='confusion matrix')\n",
    "plt.show()"
   ]
  },
  {
   "cell_type": "code",
   "execution_count": 106,
   "metadata": {},
   "outputs": [],
   "source": [
    "def getLabel(num):\n",
    "    if num == 0:\n",
    "        return 'N'\n",
    "    elif num == 1:\n",
    "        return 'P'\n",
    "    elif num == 2:\n",
    "        return 'NEU'\n",
    "    elif num == 3:\n",
    "        return 'NONE'"
   ]
  },
  {
   "cell_type": "code",
   "execution_count": 122,
   "metadata": {},
   "outputs": [],
   "source": [
    "import xml.etree.ElementTree as ET\n",
    "\n",
    "def putTestValue(xmlFIle, out):\n",
    "    tree = ET.parse(xmlFIle)\n",
    "    root = tree.getroot()\n",
    "\n",
    "    tweets = []\n",
    "    file = open(out,\"w\") \n",
    "    print(file)\n",
    "    print(len(predictions))\n",
    "    for i,tweet in enumerate(root.iter('tweet')): \n",
    "        val = getLabel(predictions[list(tst_samp).index(i)])\n",
    "        ID = tweet.find('tweetid').text\n",
    "        #print(ID)\n",
    "        file.write(ID + \"\\t\" + val + \"\\n\")\n",
    "    file.close() "
   ]
  },
  {
   "cell_type": "code",
   "execution_count": 123,
   "metadata": {},
   "outputs": [
    {
     "name": "stdout",
     "output_type": "stream",
     "text": [
      "<_io.TextIOWrapper name='DATA\\\\2018\\\\output_ulmfit_2019.txt' mode='w' encoding='cp1252'>\n",
      "1428\n"
     ]
    }
   ],
   "source": [
    "# DATA_PATH = Path('D:/Maestria/NLP/AdvacedSentimentAnalysis/database/')\n",
    "putTestValue(DATA_PATH/\"task1-Test.xml\", DATA_PATH/\"output_ulmfit_2019.txt\")"
   ]
  },
  {
   "cell_type": "code",
   "execution_count": 124,
   "metadata": {},
   "outputs": [
    {
     "name": "stdout",
     "output_type": "stream",
     "text": [
      "DATA\\2018\\output_ulmfit_2019.txt\n"
     ]
    }
   ],
   "source": [
    "print(DATA_PATH/\"output_ulmfit_2019.txt\")"
   ]
  },
  {
   "cell_type": "code",
   "execution_count": null,
   "metadata": {},
   "outputs": [],
   "source": []
  },
  {
   "cell_type": "code",
   "execution_count": null,
   "metadata": {},
   "outputs": [],
   "source": []
  }
 ],
 "metadata": {
  "kernelspec": {
   "display_name": "Python 3",
   "language": "python",
   "name": "python3"
  },
  "language_info": {
   "codemirror_mode": {
    "name": "ipython",
    "version": 3
   },
   "file_extension": ".py",
   "mimetype": "text/x-python",
   "name": "python",
   "nbconvert_exporter": "python",
   "pygments_lexer": "ipython3",
   "version": "3.6.8"
  }
 },
 "nbformat": 4,
 "nbformat_minor": 2
}
