{
 "cells": [
  {
   "cell_type": "markdown",
   "metadata": {},
   "source": [
    "# Only use competicion data for both fine-tuning and final classification"
   ]
  },
  {
   "cell_type": "markdown",
   "metadata": {},
   "source": [
    "Data used for fine-tuning and final classification :\n",
    "\n",
    "* corpus completo 5 temas - 08-sep-2016 - codificacion 5 temas.csv (competition)"
   ]
  },
  {
   "cell_type": "code",
   "execution_count": 1,
   "metadata": {},
   "outputs": [],
   "source": [
    "%reload_ext autoreload\n",
    "%autoreload 2\n",
    "%matplotlib inline\n",
    "\n",
    "import sys\n",
    "from fastai.text import *\n",
    "import html\n",
    "import json\n",
    "\n",
    "import pandas as pd\n",
    "import numpy as np\n",
    "from google_drive_downloader import GoogleDriveDownloader as gdd\n",
    "from sklearn.model_selection import train_test_split\n",
    "from sklearn.metrics import f1_score, confusion_matrix\n",
    "\n",
    "np.random.seed(52)"
   ]
  },
  {
   "cell_type": "code",
   "execution_count": 2,
   "metadata": {},
   "outputs": [],
   "source": [
    "YEAR='2018'\n",
    "DATA_PATH=Path('./DATA/'+YEAR)\n",
    "# DATA_PATH=Path('./data/election_tweets')\n",
    "\n",
    "WIKILM_PATH=Path('./WIKI_LM/es/models')\n",
    "PRE_FINETUNE_PATH=Path('./FINETUNE/'+YEAR)\n",
    "\n",
    "TWEETSLM_PATH=Path('./TWEETS_LM/'+YEAR)\n",
    "CLAS_PATH=Path('./TWEETS_CLAS/'+YEAR)\n",
    "\n",
    "BOS = 'xbos'  # beginning-of-sentence tag\n",
    "FLD = 'xfld'  # data field tag"
   ]
  },
  {
   "cell_type": "markdown",
   "metadata": {},
   "source": [
    "## Utils"
   ]
  },
  {
   "cell_type": "code",
   "execution_count": 3,
   "metadata": {
    "hidden": true
   },
   "outputs": [],
   "source": [
    "def flattern(A):\n",
    "    'Source: https://stackoverflow.com/a/17867797/7273299'\n",
    "    \n",
    "    'Flattens a list of lists and strings into a list.'\n",
    "    rt = []\n",
    "    for i in A:\n",
    "        if isinstance(i,list): rt.extend(flattern(i))\n",
    "        else: rt.append(i)\n",
    "    return rt\n",
    "\n",
    "def isInt(v):\n",
    "    'Source: https://stackoverflow.com/a/9859202/7273299'\n",
    "    \n",
    "    'Checks if a string is a number.'\n",
    "    try:     i = int(v)\n",
    "    except:  return False\n",
    "    return True\n",
    "\n",
    "def char_count(word, chars, lbound=2):\n",
    "    char_count = [word.count(char) for char in chars]\n",
    "    return all(i >= lbound for i in char_count)\n",
    "\n",
    "def replace_lol(repl_str, texts):\n",
    "    for string, chars in repl_str:\n",
    "        texts = [[[string] if char_count(i, set(chars), 2) else i for i in text.split()] for text in texts]\n",
    "        texts = np.array([flattern(text) for text in texts])\n",
    "        texts = np.array([' '.join(text) for text in texts])\n",
    "    return texts\n",
    "\n",
    "import unicodedata\n",
    "\n",
    "def strip_accents(text):\n",
    "    \"\"\"\n",
    "    Strip accents from input String.\n",
    "\n",
    "    :param text: The input string.\n",
    "    :type text: String.\n",
    "\n",
    "    :returns: The processed String.\n",
    "    :rtype: String.\n",
    "    \"\"\"\n",
    "    try:\n",
    "        text = unicode(text, 'utf-8')\n",
    "    except (TypeError, NameError): # unicode is a default on python 3 \n",
    "        pass\n",
    "    text = unicodedata.normalize('NFD', text)\n",
    "    text = text.encode('ascii', 'ignore')\n",
    "    text = text.decode(\"utf-8\")\n",
    "    return str(text)\n",
    "\n",
    "def preprocess_tweets(tweets):\n",
    "    \"\"\"\n",
    "    twitter specific text processing and shuffle\n",
    "    \"\"\"\n",
    "    # Remove \\n\n",
    "    tweets = np.array([str(i).replace('\\n','. ') for i in tweets])\n",
    "    tweets = np.array([str(i).replace('&lt;',' ') for i in tweets])\n",
    "    tweets = np.array([str(i).replace('&gt;',' ') for i in tweets])\n",
    "    tweets = np.array([str(i).replace('\\xa0',' ') for i in tweets])\n",
    "    \n",
    "    # Remove accents\n",
    "    tweets = np.array([strip_accents(i) for i in tweets])\n",
    "    \n",
    "    # Placeholders for hyperlinks and user references\n",
    "    tweets = [['hyp_link' if i.startswith('http') \n",
    "               else 'hyp_link' if i.startswith('.http') \n",
    "               else 'user_ref' if i.startswith('@')\n",
    "               else 'hash_tag' if i.startswith('#')\n",
    "               else i for i in tweet.split()] for tweet in tweets]\n",
    "    tweets = np.array([' '.join(i) for i in tweets])\n",
    "\n",
    "    # Prefix for integers\n",
    "    tweets = [[['int_string'] if isInt(i) \n",
    "               else i for i in tweet.split()] for tweet in tweets]\n",
    "    tweets = np.array([flattern(tweet) for tweet in tweets])\n",
    "    tweets = np.array([' '.join(i) for i in tweets])\n",
    "\n",
    "    # Prefix for slang\n",
    "    tweets = [[['que'] if i in ['q', 'k', 'qu', 'ke', 'qe'] \n",
    "               else ['por'] if i=='x' \n",
    "               else ['porque'] if i in ['xq', 'pq', 'porq'] \n",
    "               else ['de'] if i=='d' \n",
    "               else ['te'] if i=='t'\n",
    "               else ['también'] if i=='tb'\n",
    "               else ['Que'] if i in ['Q', 'K', 'Qu','Ke', 'Qe'] \n",
    "               else ['Por'] if i=='X'\n",
    "               else ['Porque'] if i in ['Xq', 'Pq', 'Porq'] \n",
    "               else ['De'] if i=='D' \n",
    "               else ['Te'] if i=='T'\n",
    "               else ['También'] if i=='Tb'\n",
    "               else i for i in tweet.split()] for tweet in tweets]\n",
    "    tweets = np.array([flattern(tweet) for tweet in tweets])\n",
    "    tweets = np.array([' '.join(i) for i in tweets])\n",
    "\n",
    "    # Lol type characters\n",
    "    repl_str = [('risa_ja','ja'), ('risa_ji','ji'), ('risa_je','je'), ('risa_jo','jo'), ('risa_ju', 'ju'),\n",
    "               ('risa_ja','aj'), ('risa_ji','ij'), ('risa_ju', 'uj'), ('risa_ja', 'lol')]\n",
    "\n",
    "    # Adding prefix to lol type characters\n",
    "    tweets = replace_lol(repl_str, tweets)\n",
    "\n",
    "    return tweets\n"
   ]
  },
  {
   "cell_type": "code",
   "execution_count": 4,
   "metadata": {
    "hidden": true
   },
   "outputs": [],
   "source": [
    "#!python -m spacy download es\n",
    "import spacy\n",
    "spacy.prefer_gpu()\n",
    "\n",
    "def fixup(x):\n",
    "    x = x.replace('#39;', \"'\").replace('amp;', '&').replace('#146;', \"'\").replace(\n",
    "        'nbsp;', ' ').replace('#36;', '$').replace('\\\\n', \"\\n\").replace('quot;', \"'\").replace(\n",
    "        '<br />', \"\\n\").replace('\\\\\"', '\"').replace('<unk>','u_n').replace(' @.@ ','.').replace(\n",
    "        ' @-@ ','-').replace('\\\\', ' \\\\ ')\n",
    "    return re1.sub(' ', html.unescape(x))\n",
    "\n",
    "def get_texts(df, n_lbls=1):\n",
    "    labels = df.iloc[:,range(n_lbls)].values.astype(np.int64)\n",
    "    texts = f'\\n{BOS} ' + df[n_lbls].astype(str)\n",
    "    for i in range(n_lbls+1, len(df.columns)): texts += f' {FLD} {i-n_lbls} ' + df[i].astype(str)\n",
    "    texts = texts.apply(fixup).values.astype(str)\n",
    "\n",
    "    tok = Tokenizer(lang='es').proc_all_mp(partition_by_cores(texts), lang='es')\n",
    "    return tok, list(labels)\n",
    "\n",
    "def get_all(df, n_lbls):\n",
    "    tok, labels = [], []\n",
    "#     print(df)\n",
    "    for i, r in enumerate(df):\n",
    "        tok_, labels_ = get_texts(r, n_lbls)\n",
    "        tok += tok_;\n",
    "        labels += labels_\n",
    "    return tok, labels"
   ]
  },
  {
   "cell_type": "markdown",
   "metadata": {
    "heading_collapsed": true
   },
   "source": [
    "## Dataframe for Language Model"
   ]
  },
  {
   "cell_type": "code",
   "execution_count": 5,
   "metadata": {
    "hidden": true
   },
   "outputs": [],
   "source": [
    "df_trn = pd.read_csv(DATA_PATH/'train.csv', header=None)\n",
    "df_val = pd.read_csv(DATA_PATH/'validation.csv', header=None)\n",
    "df_tst = pd.read_csv(DATA_PATH/'test.csv', header=None)\n",
    "df_tweets = pd.read_csv(DATA_PATH/'tweets-es.csv', header=None, nrows=277394)"
   ]
  },
  {
   "cell_type": "code",
   "execution_count": 6,
   "metadata": {},
   "outputs": [
    {
     "data": {
      "text/plain": [
       "array([['2019-06-05 23:48:18',\n",
       "        '@July91434885 @JohnLo36732656 Ahora que dirá el zoquete de las vaquitas amarillas @SergioMayerb que se le cruzó?'],\n",
       "       ['2019-06-05 23:48:18', '@lailamontero La palabra malos alberga muchos sentidos, cual de todos?'],\n",
       "       ['2019-06-05 23:48:18',\n",
       "        '@LeonKrauze Ya basta de amenazas de este sujeto! A unirnos los mexicanos y boicot a empresas americanas, cero compr… https://t.co/PEcE62jysr'],\n",
       "       ['2019-06-05 23:48:18', 'RT @fracasadaDeJL: Lo que es el documental de Juan Luis estoy llorando'],\n",
       "       ['2019-06-05 23:48:18',\n",
       "        'mi último retuit:\\n1: i love being mexican\\n2: vivo en el estado en donde todo se permite cuando ya todos los demás e… https://t.co/SdkO994PXU']],\n",
       "      dtype=object)"
      ]
     },
     "execution_count": 6,
     "metadata": {},
     "output_type": "execute_result"
    }
   ],
   "source": [
    "tweets = np.concatenate([df_tweets.values, df_trn.values, df_val.values, df_tst.values])\n",
    "del df_trn, df_val, df_tst\n",
    "\n",
    "tweets[:5]"
   ]
  },
  {
   "cell_type": "code",
   "execution_count": 7,
   "metadata": {},
   "outputs": [
    {
     "data": {
      "text/plain": [
       "array([['2019-06-05 23:36:14',\n",
       "        'RT @TauromaquiaTMX: El toro bravo es ecología en estado de gracia, un homenaje a la naturaleza por su forma de ser criado, por la conservac…'],\n",
       "       ['2019-06-05 23:40:26', '@cristiano_kardo Lunático de  miliciano kkkkkkkm'],\n",
       "       ['2019-06-05 23:47:53', '@SporTV Canpeaooooooo'],\n",
       "       ['2019-06-05 23:37:27',\n",
       "        'No es que sea fría, es que no le doy mi calor a cualquiera. Allí está la diferencia.'],\n",
       "       ['2019-06-05 23:37:52',\n",
       "        'RT @liderfiscal: \"Naasón Joaquín García\" La derecha descubriendo el hilo negro, se cuelgan de cualquier nota, asi los queria ver en el juic…']],\n",
       "      dtype=object)"
      ]
     },
     "execution_count": 7,
     "metadata": {},
     "output_type": "execute_result"
    }
   ],
   "source": [
    "np.random.shuffle(tweets)\n",
    "tweets[:5]"
   ]
  },
  {
   "cell_type": "code",
   "execution_count": 8,
   "metadata": {
    "hidden": true
   },
   "outputs": [],
   "source": [
    "tweets[:,1] = preprocess_tweets(tweets[:,1])"
   ]
  },
  {
   "cell_type": "code",
   "execution_count": 9,
   "metadata": {},
   "outputs": [
    {
     "data": {
      "text/plain": [
       "array([['2019-06-05 23:36:14',\n",
       "        'RT user_ref El toro bravo es ecologia en estado de gracia, un homenaje a la naturaleza por su forma de ser criado, por la conservac'],\n",
       "       ['2019-06-05 23:40:26', 'user_ref Lunatico de miliciano kkkkkkkm'],\n",
       "       ['2019-06-05 23:47:53', 'user_ref Canpeaooooooo'],\n",
       "       ['2019-06-05 23:37:27',\n",
       "        'No es que sea fria, es que no le doy mi calor a cualquiera. Alli esta la diferencia.'],\n",
       "       ['2019-06-05 23:37:52',\n",
       "        'RT user_ref \"Naason Joaquin Garcia\" La derecha descubriendo el hilo negro, se cuelgan de cualquier nota, asi los queria ver en el juic']],\n",
       "      dtype=object)"
      ]
     },
     "execution_count": 9,
     "metadata": {},
     "output_type": "execute_result"
    }
   ],
   "source": [
    "tweets[:5]"
   ]
  },
  {
   "cell_type": "code",
   "execution_count": 10,
   "metadata": {
    "hidden": true
   },
   "outputs": [],
   "source": [
    "tweets_train_lm, tweets_valid_lm, labels_train_lm, labels_valid_lm = train_test_split( tweets[:,1], tweets[:,0], test_size=0.10)\n",
    "\n",
    "del tweets"
   ]
  },
  {
   "cell_type": "code",
   "execution_count": 11,
   "metadata": {
    "hidden": true
   },
   "outputs": [],
   "source": [
    "col_names = ['label', 'tweet']\n",
    "\n",
    "df_trn = pd.DataFrame({'tweet':tweets_train_lm, 'label':[0]*len(tweets_train_lm)}, columns=col_names)\n",
    "df_val = pd.DataFrame({'tweet':tweets_valid_lm, 'label':[0]*len(tweets_valid_lm)}, columns=col_names)\n",
    "\n",
    "del tweets_train_lm, tweets_valid_lm, labels_train_lm, labels_valid_lm"
   ]
  },
  {
   "cell_type": "code",
   "execution_count": 12,
   "metadata": {
    "hidden": true
   },
   "outputs": [
    {
     "data": {
      "text/plain": [
       "((252289, 2), (28033, 2))"
      ]
     },
     "execution_count": 12,
     "metadata": {},
     "output_type": "execute_result"
    }
   ],
   "source": [
    "df_trn.shape, df_val.shape"
   ]
  },
  {
   "cell_type": "code",
   "execution_count": 13,
   "metadata": {
    "hidden": true
   },
   "outputs": [],
   "source": [
    "df_trn.to_csv(TWEETSLM_PATH/'train.csv', header=False, index=False)\n",
    "df_val.to_csv(TWEETSLM_PATH/'validation.csv', header=False, index=False)\n",
    "\n",
    "del df_trn, df_val"
   ]
  },
  {
   "cell_type": "markdown",
   "metadata": {
    "heading_collapsed": true
   },
   "source": [
    "## Tokenize and Standarize General Tokens\n"
   ]
  },
  {
   "cell_type": "code",
   "execution_count": 14,
   "metadata": {
    "hidden": true
   },
   "outputs": [],
   "source": [
    "chunksize=24000\n",
    "\n",
    "re1 = re.compile(r'  +')"
   ]
  },
  {
   "cell_type": "code",
   "execution_count": 15,
   "metadata": {
    "hidden": true
   },
   "outputs": [],
   "source": [
    "df_trn = pd.read_csv(TWEETSLM_PATH/'train.csv', header=None, chunksize=chunksize)\n",
    "df_val = pd.read_csv(TWEETSLM_PATH/'validation.csv', header=None, chunksize=chunksize)"
   ]
  },
  {
   "cell_type": "code",
   "execution_count": 16,
   "metadata": {
    "hidden": true
   },
   "outputs": [],
   "source": [
    "tok_trn, trn_labels = get_all(df_trn, 1)\n",
    "tok_val, val_labels = get_all(df_val, 1)"
   ]
  },
  {
   "cell_type": "code",
   "execution_count": 18,
   "metadata": {
    "hidden": true
   },
   "outputs": [
    {
     "data": {
      "text/plain": [
       "(252289, 252289, 28033, 28033)"
      ]
     },
     "execution_count": 18,
     "metadata": {},
     "output_type": "execute_result"
    }
   ],
   "source": [
    "len(tok_trn),len(trn_labels), len(tok_val), len(val_labels)"
   ]
  },
  {
   "cell_type": "code",
   "execution_count": 17,
   "metadata": {
    "hidden": true
   },
   "outputs": [
    {
     "name": "stdout",
     "output_type": "stream",
     "text": [
      "[['\\n', 'xbos', 'user_ref', 't_up', 'jajajajajajaj', 'te', 't_up', 'amo', 't_up', 'dejen', 'de', 't_up', 'pelear'], ['\\n', 'xbos', 'rt', 'user_ref', 't_up', 'cuando', 'me', 't_up', 'voy', 'a', 't_up', 'poder', 't_up', 'operar', 'la', 't_up', 'nariz', 'tk_rep', '4', '?', 'c', 'u', 'a', 'n', 'de', 'o']]\n"
     ]
    }
   ],
   "source": [
    "print(tok_trn[:2])"
   ]
  },
  {
   "cell_type": "code",
   "execution_count": 19,
   "metadata": {
    "hidden": true
   },
   "outputs": [],
   "source": [
    "(TWEETSLM_PATH/'tmp').mkdir(exist_ok=True)"
   ]
  },
  {
   "cell_type": "code",
   "execution_count": 20,
   "metadata": {
    "hidden": true
   },
   "outputs": [],
   "source": [
    "np.save(TWEETSLM_PATH/'tmp'/'tok_trn.npy', tok_trn)\n",
    "np.save(TWEETSLM_PATH/'tmp'/'tok_val.npy', tok_val)"
   ]
  },
  {
   "cell_type": "code",
   "execution_count": 23,
   "metadata": {
    "hidden": true
   },
   "outputs": [],
   "source": [
    "tok_trn = np.load(TWEETSLM_PATH/'tmp'/'tok_trn.npy', allow_pickle=True)\n",
    "tok_val = np.load(TWEETSLM_PATH/'tmp'/'tok_val.npy', allow_pickle=True)"
   ]
  },
  {
   "cell_type": "code",
   "execution_count": 24,
   "metadata": {
    "hidden": true
   },
   "outputs": [
    {
     "data": {
      "text/plain": [
       "[('\\n', 252289),\n",
       " ('xbos', 252289),\n",
       " ('user_ref', 227915),\n",
       " ('de', 137228),\n",
       " ('.', 129595),\n",
       " ('que', 121996),\n",
       " ('rt', 118955),\n",
       " (',', 103940),\n",
       " ('la', 87893),\n",
       " ('a', 81144),\n",
       " ('hyp_link', 81092),\n",
       " ('t_up', 76375),\n",
       " ('el', 71009),\n",
       " ('y', 69315),\n",
       " ('en', 61547),\n",
       " ('no', 56757),\n",
       " ('me', 40794),\n",
       " ('es', 36523),\n",
       " ('hash_tag', 36511),\n",
       " ('se', 34195)]"
      ]
     },
     "execution_count": 24,
     "metadata": {},
     "output_type": "execute_result"
    }
   ],
   "source": [
    "freq = Counter(p for o in tok_trn for p in o)\n",
    "freq.most_common(20)"
   ]
  },
  {
   "cell_type": "code",
   "execution_count": 25,
   "metadata": {
    "hidden": true
   },
   "outputs": [],
   "source": [
    "max_vocab = 60000\n",
    "min_freq = 1"
   ]
  },
  {
   "cell_type": "code",
   "execution_count": 26,
   "metadata": {
    "hidden": true
   },
   "outputs": [
    {
     "data": {
      "text/plain": [
       "52275"
      ]
     },
     "execution_count": 26,
     "metadata": {},
     "output_type": "execute_result"
    }
   ],
   "source": [
    "itos = [o for o,c in freq.most_common(max_vocab) if c>min_freq]\n",
    "itos.insert(0, '_pad_')\n",
    "itos.insert(0, '_unk_')\n",
    "\n",
    "stoi = collections.defaultdict(lambda:0, {v:k for k,v in enumerate(itos)})\n",
    "len(itos)"
   ]
  },
  {
   "cell_type": "code",
   "execution_count": 27,
   "metadata": {
    "hidden": true
   },
   "outputs": [],
   "source": [
    "trn_lm = np.array([[stoi[o] for o in p] for p in tok_trn])\n",
    "val_lm = np.array([[stoi[o] for o in p] for p in tok_val])"
   ]
  },
  {
   "cell_type": "code",
   "execution_count": 28,
   "metadata": {
    "hidden": true
   },
   "outputs": [],
   "source": [
    "np.save(TWEETSLM_PATH/'tmp'/'trn_ids.npy', trn_lm)\n",
    "np.save(TWEETSLM_PATH/'tmp'/'val_ids.npy', val_lm)\n",
    "pickle.dump(itos, open(TWEETSLM_PATH/'tmp'/'itos.pkl', 'wb'))"
   ]
  },
  {
   "cell_type": "markdown",
   "metadata": {
    "heading_collapsed": true
   },
   "source": [
    "## Load Encoder Weights for Language Model"
   ]
  },
  {
   "cell_type": "code",
   "execution_count": 7,
   "metadata": {
    "hidden": true
   },
   "outputs": [],
   "source": [
    "BACKBONE_MODEL = PRE_FINETUNE_PATH/'models/lm1_wgts.h5'"
   ]
  },
  {
   "cell_type": "code",
   "execution_count": 8,
   "metadata": {
    "hidden": true
   },
   "outputs": [],
   "source": [
    "wgts = torch.load(BACKBONE_MODEL, map_location=lambda storage, loc: storage)"
   ]
  },
  {
   "cell_type": "markdown",
   "metadata": {
    "hidden": true
   },
   "source": [
    "We calculate the mean of the layer0 encoder weights. This can be used to assign weights to unknown tokens when we transfer to target IMDB LM."
   ]
  },
  {
   "cell_type": "code",
   "execution_count": 9,
   "metadata": {
    "hidden": true
   },
   "outputs": [],
   "source": [
    "enc_wgts = to_np(wgts['0.encoder.weight'])\n",
    "row_m = enc_wgts.mean(0)"
   ]
  },
  {
   "cell_type": "code",
   "execution_count": 10,
   "metadata": {
    "hidden": true
   },
   "outputs": [],
   "source": [
    "itos2 = pickle.load((PRE_FINETUNE_PATH/'tmp'/'itos.pkl').open('rb'))\n",
    "stoi2 = collections.defaultdict(lambda:-1, {v:k for k,v in enumerate(itos2)})"
   ]
  },
  {
   "cell_type": "code",
   "execution_count": 11,
   "metadata": {},
   "outputs": [
    {
     "data": {
      "text/plain": [
       "60002"
      ]
     },
     "execution_count": 11,
     "metadata": {},
     "output_type": "execute_result"
    }
   ],
   "source": [
    "len(itos2)"
   ]
  },
  {
   "cell_type": "markdown",
   "metadata": {
    "hidden": true
   },
   "source": [
    "Before we try to transfer the knowledge from wikitext to the IMDB LM, we match up the vocab words and their indexes. We use the defaultdict container once again, to assign mean weights to unknown IMDB tokens that do not exist in wikitext103."
   ]
  },
  {
   "cell_type": "code",
   "execution_count": 12,
   "metadata": {
    "hidden": true
   },
   "outputs": [],
   "source": [
    "trn_lm = np.load(TWEETSLM_PATH/'tmp'/'trn_ids.npy', allow_pickle=True)\n",
    "val_lm = np.load(TWEETSLM_PATH/'tmp'/'val_ids.npy', allow_pickle=True)\n",
    "itos = pickle.load(open(TWEETSLM_PATH/'tmp'/'itos.pkl', 'rb'))"
   ]
  },
  {
   "cell_type": "code",
   "execution_count": 13,
   "metadata": {
    "hidden": true
   },
   "outputs": [
    {
     "data": {
      "text/plain": [
       "(52275, 252289)"
      ]
     },
     "execution_count": 13,
     "metadata": {},
     "output_type": "execute_result"
    }
   ],
   "source": [
    "vs=len(itos)\n",
    "vs,len(trn_lm)"
   ]
  },
  {
   "cell_type": "code",
   "execution_count": 14,
   "metadata": {
    "hidden": true
   },
   "outputs": [],
   "source": [
    "em_sz,nh,nl = 400,1150,3"
   ]
  },
  {
   "cell_type": "code",
   "execution_count": 15,
   "metadata": {
    "hidden": true
   },
   "outputs": [
    {
     "name": "stdout",
     "output_type": "stream",
     "text": [
      "Reuse 22795 word embeddings from fine-tuning\n",
      "29480 where not in vocab from fine-tuning\n"
     ]
    }
   ],
   "source": [
    "new_w = np.zeros((vs, em_sz), dtype=np.float32)\n",
    "n_replaced_vocab = 0\n",
    "\n",
    "for i,w in enumerate(itos):\n",
    "    r = stoi2[w]\n",
    "    if r>=0 :\n",
    "        new_w[i] = enc_wgts[r]\n",
    "        n_replaced_vocab +=1\n",
    "    else:\n",
    "        new_w[i] = row_m\n",
    "\n",
    "print(f'Reuse {n_replaced_vocab} word embeddings from fine-tuning')\n",
    "print(f'{vs-n_replaced_vocab} where not in vocab from fine-tuning')"
   ]
  },
  {
   "cell_type": "markdown",
   "metadata": {
    "hidden": true
   },
   "source": [
    "\"We now overwrite the weights into the wgts odict. The decoder module, which we will explore in detail is also loaded with the same weights due to an idea called weight tying.\""
   ]
  },
  {
   "cell_type": "code",
   "execution_count": 16,
   "metadata": {
    "hidden": true
   },
   "outputs": [],
   "source": [
    "wgts['0.encoder.weight'] = T(new_w)\n",
    "wgts['0.encoder_with_dropout.embed.weight'] = T(np.copy(new_w))\n",
    "wgts['1.decoder.weight'] = T(np.copy(new_w))"
   ]
  },
  {
   "cell_type": "markdown",
   "metadata": {
    "heading_collapsed": true
   },
   "source": [
    "## Language Model Finetuning"
   ]
  },
  {
   "cell_type": "code",
   "execution_count": 17,
   "metadata": {
    "hidden": true
   },
   "outputs": [],
   "source": [
    "# wd=1e-7\n",
    "bptt=70\n",
    "bs=32\n",
    "em_sz,nh,nl = 400,1150,3\n",
    "opt_fn = partial(optim.SGD, momentum=0.9)"
   ]
  },
  {
   "cell_type": "code",
   "execution_count": 18,
   "metadata": {
    "hidden": true
   },
   "outputs": [],
   "source": [
    "trn_lm = np.load(TWEETSLM_PATH/'tmp'/'trn_ids.npy', allow_pickle=True)\n",
    "val_lm = np.load(TWEETSLM_PATH/'tmp'/'val_ids.npy', allow_pickle=True)\n",
    "trn_lm = np.concatenate(trn_lm)\n",
    "val_lm = np.concatenate(val_lm)"
   ]
  },
  {
   "cell_type": "code",
   "execution_count": 19,
   "metadata": {},
   "outputs": [],
   "source": [
    "trn_dl = LanguageModelLoader(trn_lm, bs, bptt)\n",
    "val_dl = LanguageModelLoader(val_lm, bs, bptt)"
   ]
  },
  {
   "cell_type": "code",
   "execution_count": 20,
   "metadata": {
    "hidden": true
   },
   "outputs": [],
   "source": [
    "itos = pickle.load(open(TWEETSLM_PATH/'tmp'/'itos.pkl', 'rb'))\n",
    "vs = len(itos)\n",
    "\n",
    "md = LanguageModelData(TWEETSLM_PATH, 1, vs, trn_dl, val_dl, bs=bs, bptt=bptt)"
   ]
  },
  {
   "cell_type": "code",
   "execution_count": 21,
   "metadata": {
    "hidden": true
   },
   "outputs": [],
   "source": [
    "drops = np.array([0.25, 0.1, 0.2, 0.02, 0.15])*0.8\n",
    "# drops = np.array([0.25, 0.1, 0.2, 0.02, 0.15])"
   ]
  },
  {
   "cell_type": "code",
   "execution_count": 22,
   "metadata": {
    "hidden": true
   },
   "outputs": [],
   "source": [
    "learn = md.get_model(opt_fn, em_sz, nh, nl, dropouti=drops[0], dropout=drops[1], wdrop=drops[2], dropoute=drops[3], dropouth=drops[4])\n",
    "\n",
    "learn.metrics = [accuracy]\n",
    "learn.unfreeze()"
   ]
  },
  {
   "cell_type": "code",
   "execution_count": 23,
   "metadata": {},
   "outputs": [
    {
     "data": {
      "text/plain": [
       "[(WeightDrop(\n",
       "    (module): LSTM(400, 1150, dropout=0.12)\n",
       "  ), LockedDropout(\n",
       "  )), (WeightDrop(\n",
       "    (module): LSTM(1150, 1150, dropout=0.12)\n",
       "  ), LockedDropout(\n",
       "  )), (WeightDrop(\n",
       "    (module): LSTM(1150, 400, dropout=0.12)\n",
       "  ), LockedDropout(\n",
       "  )), (LinearDecoder(\n",
       "    (decoder): Linear(in_features=400, out_features=52275, bias=False)\n",
       "    (dropout): LockedDropout(\n",
       "    )\n",
       "  ), LockedDropout(\n",
       "  ))]"
      ]
     },
     "execution_count": 23,
     "metadata": {},
     "output_type": "execute_result"
    }
   ],
   "source": [
    "learn.get_layer_groups()"
   ]
  },
  {
   "cell_type": "code",
   "execution_count": 24,
   "metadata": {
    "hidden": true
   },
   "outputs": [],
   "source": [
    "learn.model.load_state_dict(wgts)"
   ]
  },
  {
   "cell_type": "code",
   "execution_count": 25,
   "metadata": {
    "hidden": true
   },
   "outputs": [
    {
     "data": {
      "application/vnd.jupyter.widget-view+json": {
       "model_id": "75283067b12043f7a75f04440034d4c4",
       "version_major": 2,
       "version_minor": 0
      },
      "text/plain": [
       "HBox(children=(IntProgress(value=0, description='Epoch', max=1, style=ProgressStyle(description_width='initial…"
      ]
     },
     "metadata": {},
     "output_type": "display_data"
    },
    {
     "name": "stdout",
     "output_type": "stream",
     "text": [
      " 49%|████▉     | 1000/2030 [04:03<04:16,  4.01it/s, loss=4.71]"
     ]
    },
    {
     "data": {
      "image/png": "[encoded data removed]",
      "text/plain": [
       "<Figure size 432x864 with 3 Axes>"
      ]
     },
     "metadata": {
      "needs_background": "light"
     },
     "output_type": "display_data"
    }
   ],
   "source": [
    "learn.lr_find2(start_lr=1e-1,end_lr=10, num_it=1000)\n",
    "learn.sched.plot()"
   ]
  },
  {
   "cell_type": "code",
   "execution_count": 26,
   "metadata": {
    "hidden": true
   },
   "outputs": [],
   "source": [
    "lr= 5\n",
    "# lrs = lr"
   ]
  },
  {
   "cell_type": "code",
   "execution_count": 27,
   "metadata": {
    "hidden": true
   },
   "outputs": [],
   "source": [
    "learn.clip=0.12"
   ]
  },
  {
   "cell_type": "code",
   "execution_count": 28,
   "metadata": {
    "hidden": true
   },
   "outputs": [
    {
     "data": {
      "application/vnd.jupyter.widget-view+json": {
       "model_id": "27ce880141f94f82911a34022240924d",
       "version_major": 2,
       "version_minor": 0
      },
      "text/plain": [
       "HBox(children=(IntProgress(value=0, description='Epoch', max=10, style=ProgressStyle(description_width='initia…"
      ]
     },
     "metadata": {},
     "output_type": "display_data"
    },
    {
     "name": "stdout",
     "output_type": "stream",
     "text": []
    },
    {
     "name": "stdout",
     "output_type": "stream",
     "text": [
      "epoch      trn_loss   val_loss   accuracy   \n",
      "    0      4.249325   3.981685   0.360129  \n",
      "    1      3.924953   3.687003   0.3942    \n",
      "    2      3.739311   3.52452    0.415525  \n",
      "    3      3.577803   3.410253   0.430687  \n",
      "    4      3.450777   3.325621   0.442375  \n",
      "    5      3.366713   3.25247    0.453048  \n",
      "    6      3.26574    3.191544   0.462357  \n",
      "    7      3.211711   3.166459   0.466777  \n",
      "    8      3.142669   3.151656   0.469264  \n",
      "    9      3.166511   3.144577   0.470708  \n"
     ]
    },
    {
     "data": {
      "text/plain": [
       "[array([3.14458]), 0.4707079687448881]"
      ]
     },
     "execution_count": 28,
     "metadata": {},
     "output_type": "execute_result"
    }
   ],
   "source": [
    "wd = 1e-7\n",
    "learn.fit(lr, 1, cycle_len=10, use_clr_beta=(10,33,0.95,0.85), best_save_name='lm1_wgts')"
   ]
  },
  {
   "cell_type": "code",
   "execution_count": 29,
   "metadata": {
    "hidden": true
   },
   "outputs": [
    {
     "data": {
      "image/png": "[encoded data removed]",
      "text/plain": [
       "<Figure size 864x288 with 2 Axes>"
      ]
     },
     "metadata": {
      "needs_background": "light"
     },
     "output_type": "display_data"
    }
   ],
   "source": [
    "learn.sched.plot_lr()\n",
    "learn.load('lm1_wgts')\n",
    "learn.save_encoder('lm1_enc')"
   ]
  },
  {
   "cell_type": "markdown",
   "metadata": {},
   "source": [
    "## Dataframe for Classification"
   ]
  },
  {
   "cell_type": "code",
   "execution_count": 30,
   "metadata": {},
   "outputs": [],
   "source": [
    "df_trn = pd.read_csv(DATA_PATH/'train.csv', header=None)\n",
    "df_val = pd.read_csv(DATA_PATH/'validation.csv', header=None)\n",
    "df_tst = pd.read_csv(DATA_PATH/'test.csv', header=None)\n",
    "df_gen = pd.read_csv(DATA_PATH/'general.csv', header=None)"
   ]
  },
  {
   "cell_type": "code",
   "execution_count": 31,
   "metadata": {},
   "outputs": [
    {
     "data": {
      "text/plain": [
       "array([[1,\n",
       "        'Sin ser fan de Juan Gabriel, siempre supe que era una fuerza de la naturaleza. Hoy escuché \"Querida\", y me dio una ternura enorme.'],\n",
       "       [2,\n",
       "        'ayer preguntaban y dónde están las solteras!!!! todo mi grupo alza la mano y yo la única que no y todas voltean a verme AJAJAJAJAJJA'],\n",
       "       [2,\n",
       "        'Que el finde sea para hacer cualquier cosa que a uno lo haga FELIZ, lo que sea pero que sea lo que a uno le de la reverenda gana'],\n",
       "       [2,\n",
       "        'Elige amar, así duela, así parezca un imposible, así te tiemble el alma, así tengas miedo, así vayas a salir herida. El amor transforma'],\n",
       "       [0,\n",
       "        'Hoy me sentí como grace de \"al fondo hay sitio\" cuando la atropellaron, solo que no fue de mentira y casi no la cuento que horrible']],\n",
       "      dtype=object)"
      ]
     },
     "execution_count": 31,
     "metadata": {},
     "output_type": "execute_result"
    }
   ],
   "source": [
    "tweets_trn = np.concatenate([df_trn.values, df_val.values, df_gen.values]) #df_gen[df_gen[0]==2].values, df_gen[df_gen[0]==3].values]) #, df_gen.values])\n",
    "tweets_tst = np.concatenate([df_tst.values])\n",
    "del df_trn, df_val, df_tst, df_gen\n",
    "\n",
    "tweets_trn[:5]"
   ]
  },
  {
   "cell_type": "code",
   "execution_count": 32,
   "metadata": {},
   "outputs": [
    {
     "data": {
      "text/plain": [
       "array([[0, 'No se con qué rayos pintan la señaletica de las pistas, pero mi cuarto apesta a esa huevada'],\n",
       "       [3,\n",
       "        'He publicado 3 fotos en Facebook en el álbum \"R.C.D Mallorca - F.C. Barcelona 2012\". http://t.co/MYFHWBIf'],\n",
       "       [0,\n",
       "        'RT “@juliomuley: La Fiscalía descarta por el momento pedir el ingreso en prisión de #Matas. Creen que no existe riego de fuga”'],\n",
       "       [2, 'De Moputo a Johannsburgo fumigación (no con DDT) antes de despegar. Riesgos zero con malaria.'],\n",
       "       [0,\n",
       "        'El cáncer de la corrupción y su consentimiento social   está más extendido aún de lo que pensábamos. Regeneración.']],\n",
       "      dtype=object)"
      ]
     },
     "execution_count": 32,
     "metadata": {},
     "output_type": "execute_result"
    }
   ],
   "source": [
    "np.random.shuffle(tweets_trn)\n",
    "tweets_trn[:5]"
   ]
  },
  {
   "cell_type": "code",
   "execution_count": 33,
   "metadata": {},
   "outputs": [],
   "source": [
    "tweets_trn[:,1] = preprocess_tweets(tweets_trn[:,1])\n",
    "tweets_tst[:,1] = preprocess_tweets(tweets_tst[:,1])"
   ]
  },
  {
   "cell_type": "code",
   "execution_count": 10,
   "metadata": {},
   "outputs": [],
   "source": [
    "# NEGA_train_docs = [tweets_trn[i] for i in range(len(tweets_trn)) if tweets_trn[i, 0] == 0]\n",
    "# POSI_train_docs = [tweets_trn[i] for i in range(len(tweets_trn)) if tweets_trn[i, 0] == 1]\n",
    "# NEUT_train_docs = [tweets_trn[i] for i in range(len(tweets_trn)) if tweets_trn[i, 0] == 2]\n",
    "# NONE_train_docs = [tweets_trn[i] for i in range(len(tweets_trn)) if tweets_trn[i, 0] == 3]\n",
    "# del tweets_trn\n",
    "\n",
    "# level_train_docs = [NEGA_train_docs,POSI_train_docs,NEUT_train_docs,NONE_train_docs]\n",
    "\n",
    "# fmt = \"\"\"Negative Sentences = {:d}\n",
    "#        \\rPositive Sentences = {:d}\n",
    "#        \\rNeutral  Sentences = {:d}\n",
    "#        \\rNone Values        = {:d}\"\"\"\n",
    "\n",
    "# print(fmt.format(len(NEGA_train_docs),\n",
    "#                  len(POSI_train_docs),\n",
    "#                  len(NEUT_train_docs),\n",
    "#                  len(NONE_train_docs)))\n",
    "\n",
    "# minSentLvl = min(len(POSI_train_docs),len(NEGA_train_docs),len(NEUT_train_docs),len(NONE_train_docs))\n",
    "\n",
    "# print('Maximum number of sentences per level : ', minSentLvl)"
   ]
  },
  {
   "cell_type": "code",
   "execution_count": 12,
   "metadata": {},
   "outputs": [],
   "source": [
    "# import random\n",
    "\n",
    "# tweets_bal = []\n",
    "# for i in range(len(level_train_docs)):\n",
    "#     level_per = np.array(random.sample(level_train_docs[i],minSentLvl))\n",
    "#     tweets_bal.append(level_per[:minSentLvl])\n",
    "    \n",
    "# print(\"New size of sentences:\\n\")\n",
    "# fmt = \"\"\"Negative Sentences = {:d}\n",
    "#        \\rPositive Sentences = {:d}\n",
    "#        \\rNeutral  Sentences = {:d}\n",
    "#        \\rNone Values        = {:d}\"\"\"\n",
    "\n",
    "# print(fmt.format(len(tweets_bal[0]),\n",
    "#                  len(tweets_bal[1]),\n",
    "#                  len(tweets_bal[2]),\n",
    "#                  len(tweets_bal[3])))\n",
    "\n",
    "# flat_tweets_bal = [item for sublist in tweets_bal for item in sublist]\n",
    "# shuf_tweets_bal = random.sample(flat_tweets_bal,len(flat_tweets_bal))\n",
    "\n",
    "# assert (len(shuf_tweets_bal) == 4 * minSentLvl)\n",
    "# print(\"shuf_tweets_bal size = \", len(shuf_tweets_bal))\n",
    "\n",
    "# tweets_trn = np.array(shuf_tweets_bal)\n",
    "# print(tweets_trn[:5])"
   ]
  },
  {
   "cell_type": "code",
   "execution_count": 34,
   "metadata": {
    "hidden": true
   },
   "outputs": [
    {
     "name": "stdout",
     "output_type": "stream",
     "text": [
      "train shapes: (7846,) (7846,)\n",
      "valid shapes: (872,) (872,)\n",
      "test shapes: (1428, 2)\n"
     ]
    }
   ],
   "source": [
    "tweets_train, tweets_valid, labels_train, labels_valid = train_test_split(tweets_trn[:,1], tweets_trn[:,0], stratify=tweets_trn[:,0], test_size=0.10)\n",
    "\n",
    "del tweets_trn\n",
    "# tweets_train, tweets_valid, labels_train, labels_valid = train_test_split(\n",
    "#                                                     shuf_tweets_bal[:,1], shuf_tweets_bal[:,0],\n",
    "#                                                     stratify=shuf_tweets_bal[:,0], \n",
    "#                                                     test_size=0.10)\n",
    "\n",
    "print('train shapes:', tweets_train.shape, labels_train.shape)\n",
    "print('valid shapes:', tweets_valid.shape, labels_valid.shape)\n",
    "print('test shapes:', tweets_tst.shape)"
   ]
  },
  {
   "cell_type": "code",
   "execution_count": 35,
   "metadata": {
    "hidden": true
   },
   "outputs": [],
   "source": [
    "col_names = ['label', 'tweet']\n",
    "\n",
    "df_trn = pd.DataFrame({'tweet':tweets_train, 'label':labels_train}, columns=col_names)\n",
    "df_val = pd.DataFrame({'tweet':tweets_valid, 'label':labels_valid}, columns=col_names)\n",
    "df_tst = pd.DataFrame({'tweet':tweets_tst[:,1], 'label':tweets_tst[:,0]}, columns=col_names)\n",
    "\n",
    "del tweets_train, tweets_valid, labels_train, labels_valid, tweets_tst"
   ]
  },
  {
   "cell_type": "code",
   "execution_count": 36,
   "metadata": {
    "hidden": true
   },
   "outputs": [
    {
     "name": "stdout",
     "output_type": "stream",
     "text": [
      "1    2889\n",
      "0    2277\n",
      "3    1873\n",
      "2     807\n",
      "Name: label, dtype: int64\n",
      "1    321\n",
      "0    253\n",
      "3    208\n",
      "2     90\n",
      "Name: label, dtype: int64\n",
      "Series([], Name: label, dtype: int64)\n"
     ]
    }
   ],
   "source": [
    "print(df_trn['label'].value_counts())\n",
    "print(df_val['label'].value_counts())\n",
    "print(df_tst['label'].value_counts())"
   ]
  },
  {
   "cell_type": "code",
   "execution_count": 37,
   "metadata": {
    "hidden": true
   },
   "outputs": [
    {
     "name": "stdout",
     "output_type": "stream",
     "text": [
      "3    2889\n",
      "2    2889\n",
      "1    2889\n",
      "0    2889\n",
      "Name: label, dtype: int64\n",
      "1    321\n",
      "0    253\n",
      "3    208\n",
      "2     90\n",
      "Name: label, dtype: int64\n",
      "Series([], Name: label, dtype: int64)\n"
     ]
    }
   ],
   "source": [
    "def balance_df(df):\n",
    "    lst = [df]\n",
    "    max_size = df['label'].value_counts().max()\n",
    "    for class_index, group in df.groupby('label'):\n",
    "        lst.append(group.sample(max_size-len(group), replace=True))\n",
    "    df = pd.concat(lst)\n",
    "    return df\n",
    "\n",
    "df_trn = balance_df(df_trn)\n",
    "# df_val = balance_df(df_val)\n",
    "\n",
    "print(df_trn['label'].value_counts())\n",
    "print(df_val['label'].value_counts())\n",
    "print(df_tst['label'].value_counts())"
   ]
  },
  {
   "cell_type": "code",
   "execution_count": 38,
   "metadata": {
    "hidden": true
   },
   "outputs": [],
   "source": [
    "df_trn.to_csv(CLAS_PATH/'train.csv', header=False, index=False)\n",
    "df_val.to_csv(CLAS_PATH/'validation.csv', header=False, index=False)\n",
    "df_tst.to_csv(CLAS_PATH/'test.csv', header=False, index=False)\n",
    "df_trn.shape, df_val.shape\n",
    "\n",
    "del df_trn, df_val, df_tst"
   ]
  },
  {
   "cell_type": "markdown",
   "metadata": {
    "heading_collapsed": true
   },
   "source": [
    "## Classifier tokens"
   ]
  },
  {
   "cell_type": "code",
   "execution_count": 80,
   "metadata": {
    "hidden": true
   },
   "outputs": [],
   "source": [
    "chunksize=24000\n",
    "\n",
    "re1 = re.compile(r'  +')"
   ]
  },
  {
   "cell_type": "code",
   "execution_count": 81,
   "metadata": {
    "hidden": true
   },
   "outputs": [],
   "source": [
    "df_trn = pd.read_csv(CLAS_PATH/'train.csv', header=None, chunksize=chunksize)\n",
    "df_val = pd.read_csv(CLAS_PATH/'validation.csv', header=None, chunksize=chunksize)\n",
    "df_tst = pd.read_csv(CLAS_PATH/'test.csv', header=None, chunksize=chunksize)"
   ]
  },
  {
   "cell_type": "code",
   "execution_count": 82,
   "metadata": {
    "hidden": true
   },
   "outputs": [],
   "source": [
    "tok_trn, trn_labels = get_all(df_trn, 1)\n",
    "tok_val, val_labels = get_all(df_val, 1)\n",
    "tok_tst, tst_labels = get_all(df_tst, 1)"
   ]
  },
  {
   "cell_type": "code",
   "execution_count": 83,
   "metadata": {
    "hidden": true
   },
   "outputs": [],
   "source": [
    "(CLAS_PATH/'tmp').mkdir(exist_ok=True)"
   ]
  },
  {
   "cell_type": "code",
   "execution_count": 43,
   "metadata": {
    "hidden": true
   },
   "outputs": [],
   "source": [
    "np.save(CLAS_PATH/'tmp'/'tok_trn.npy', tok_trn)\n",
    "np.save(CLAS_PATH/'tmp'/'tok_val.npy', tok_val)\n",
    "np.save(CLAS_PATH/'tmp'/'tok_tst.npy', tok_tst)"
   ]
  },
  {
   "cell_type": "code",
   "execution_count": 84,
   "metadata": {
    "hidden": true
   },
   "outputs": [],
   "source": [
    "np.save(CLAS_PATH/'tmp'/'trn_labels.npy', trn_labels)\n",
    "np.save(CLAS_PATH/'tmp'/'val_labels.npy', val_labels)\n",
    "# np.save(CLAS_PATH/'tmp'/'tst_labels.npy', tst_labels)\n",
    "\n",
    "# df = pd.read_csv(CLAS_PATH/'test_labels.csv')\n",
    "# df['label']=df['label'].replace(['N','P','NEU','NONE'],[0,1,2,3])\n",
    "# np.save(CLAS_PATH/'tmp'/'tst_labels.npy', df['label'].values)"
   ]
  },
  {
   "cell_type": "code",
   "execution_count": 45,
   "metadata": {
    "hidden": true
   },
   "outputs": [],
   "source": [
    "tok_trn = np.load(CLAS_PATH/'tmp'/'tok_trn.npy')\n",
    "tok_val = np.load(CLAS_PATH/'tmp'/'tok_val.npy')\n",
    "tok_tst = np.load(CLAS_PATH/'tmp'/'tok_tst.npy')"
   ]
  },
  {
   "cell_type": "code",
   "execution_count": 46,
   "metadata": {
    "hidden": true
   },
   "outputs": [
    {
     "data": {
      "text/plain": [
       "52275"
      ]
     },
     "execution_count": 46,
     "metadata": {},
     "output_type": "execute_result"
    }
   ],
   "source": [
    "itos = pickle.load((TWEETSLM_PATH/'tmp'/'itos.pkl').open('rb'))\n",
    "stoi = collections.defaultdict(lambda:0, {v:k for k,v in enumerate(itos)})\n",
    "len(itos)"
   ]
  },
  {
   "cell_type": "code",
   "execution_count": 47,
   "metadata": {
    "hidden": true
   },
   "outputs": [],
   "source": [
    "trn_clas = np.array([[stoi[o] for o in p] for p in tok_trn])\n",
    "val_clas = np.array([[stoi[o] for o in p] for p in tok_val])\n",
    "tst_clas = np.array([[stoi[o] for o in p] for p in tok_tst])"
   ]
  },
  {
   "cell_type": "code",
   "execution_count": 48,
   "metadata": {
    "hidden": true
   },
   "outputs": [],
   "source": [
    "np.save(CLAS_PATH/'tmp'/'trn_ids.npy', trn_clas)\n",
    "np.save(CLAS_PATH/'tmp'/'val_ids.npy', val_clas)\n",
    "np.save(CLAS_PATH/'tmp'/'tst_ids.npy', tst_clas)"
   ]
  },
  {
   "cell_type": "markdown",
   "metadata": {
    "heading_collapsed": true
   },
   "source": [
    "## Classifier Model"
   ]
  },
  {
   "cell_type": "code",
   "execution_count": 49,
   "metadata": {
    "hidden": true
   },
   "outputs": [],
   "source": [
    "trn_clas = np.load(CLAS_PATH/'tmp'/'trn_ids.npy')\n",
    "val_clas = np.load(CLAS_PATH/'tmp'/'val_ids.npy')\n",
    "itos = pickle.load((TWEETSLM_PATH/'tmp'/'itos.pkl').open('rb'))"
   ]
  },
  {
   "cell_type": "code",
   "execution_count": 50,
   "metadata": {
    "hidden": true
   },
   "outputs": [],
   "source": [
    "trn_labels = np.squeeze(np.load(CLAS_PATH/'tmp'/'trn_labels.npy'))\n",
    "val_labels = np.squeeze(np.load(CLAS_PATH/'tmp'/'val_labels.npy'))"
   ]
  },
  {
   "cell_type": "code",
   "execution_count": 51,
   "metadata": {
    "hidden": true
   },
   "outputs": [],
   "source": [
    "bptt,em_sz,nh,nl = 70,400,1150,3\n",
    "vs = len(itos)\n",
    "opt_fn = partial(optim.Adam, betas=(0.7, 0.99))\n",
    "bs = 64"
   ]
  },
  {
   "cell_type": "code",
   "execution_count": 52,
   "metadata": {
    "hidden": true
   },
   "outputs": [
    {
     "name": "stdout",
     "output_type": "stream",
     "text": [
      "4\n"
     ]
    }
   ],
   "source": [
    "min_lbl = trn_labels.min()\n",
    "trn_labels -= min_lbl\n",
    "val_labels -= min_lbl\n",
    "c=int(trn_labels.max())+1\n",
    "print(c)"
   ]
  },
  {
   "cell_type": "markdown",
   "metadata": {
    "hidden": true
   },
   "source": [
    "In the classifier, unlike LM, we need to read a tweet at a time. We do not deal with equal bptt size batches, so we have to pad the sequences to the same length in each batch. To create batches of similar sized movie tweets, we use a sortish sampler method invented by [@Smerity](https://twitter.com/Smerity) and [@jekbradbury](https://twitter.com/jekbradbury)\n",
    "\n",
    "The sortishSampler cuts down the overall number of padding tokens the classifier ends up seeing."
   ]
  },
  {
   "cell_type": "code",
   "execution_count": 53,
   "metadata": {
    "hidden": true
   },
   "outputs": [],
   "source": [
    "trn_ds = TextDataset(trn_clas, trn_labels)\n",
    "val_ds = TextDataset(val_clas, val_labels)\n",
    "trn_samp = SortishSampler(trn_clas, key=lambda x: len(trn_clas[x]), bs=bs//2)\n",
    "val_samp = SortSampler(val_clas, key=lambda x: len(val_clas[x]))\n",
    "trn_dl = DataLoader(trn_ds, bs//2, transpose=True, num_workers=1, pad_idx=1, sampler=trn_samp)\n",
    "val_dl = DataLoader(val_ds, bs, transpose=True, num_workers=1, pad_idx=1, sampler=val_samp)\n",
    "md = ModelData(TWEETSLM_PATH, trn_dl, val_dl, test_dl=val_dl)"
   ]
  },
  {
   "cell_type": "code",
   "execution_count": 54,
   "metadata": {
    "hidden": true
   },
   "outputs": [],
   "source": [
    "#dps = np.array([0.4,0.5,0.05,0.3,0.4])*0.8\n",
    "dps = np.array([0.4,0.5,0.05,0.3,0.4])"
   ]
  },
  {
   "cell_type": "code",
   "execution_count": 55,
   "metadata": {
    "hidden": true
   },
   "outputs": [],
   "source": [
    "m = get_rnn_classifer(bptt, 20*70, c, vs, emb_sz=em_sz, n_hid=nh, n_layers=nl, pad_token=1, layers=[em_sz*3, 50, c], drops=[dps[4], 0.1], dropouti=dps[0], wdrop=dps[1], dropoute=dps[2], dropouth=dps[3])"
   ]
  },
  {
   "cell_type": "code",
   "execution_count": 56,
   "metadata": {
    "hidden": true
   },
   "outputs": [],
   "source": [
    "opt_fn = partial(optim.Adam, betas=(0.7, 0.99))"
   ]
  },
  {
   "cell_type": "code",
   "execution_count": 57,
   "metadata": {
    "hidden": true
   },
   "outputs": [],
   "source": [
    "learn = RNN_Learner(md, TextModel(to_gpu(m)), opt_fn=opt_fn)\n",
    "learn.reg_fn = partial(seq2seq_reg, alpha=2, beta=1)\n",
    "learn.clip=.12\n",
    "learn.metrics = [accuracy]"
   ]
  },
  {
   "cell_type": "code",
   "execution_count": 58,
   "metadata": {
    "hidden": true
   },
   "outputs": [],
   "source": [
    "learn.load_encoder('lm1_enc')"
   ]
  },
  {
   "cell_type": "code",
   "execution_count": 59,
   "metadata": {},
   "outputs": [
    {
     "data": {
      "text/plain": [
       "[(Embedding(52275, 400, padding_idx=1), LockedDropout(\n",
       "  )), (WeightDrop(\n",
       "    (module): LSTM(400, 1150, dropout=0.3)\n",
       "  ), LockedDropout(\n",
       "  )), (WeightDrop(\n",
       "    (module): LSTM(1150, 1150, dropout=0.3)\n",
       "  ), LockedDropout(\n",
       "  )), (WeightDrop(\n",
       "    (module): LSTM(1150, 400, dropout=0.3)\n",
       "  ), LockedDropout(\n",
       "  )), PoolingLinearClassifier(\n",
       "   (layers): ModuleList(\n",
       "     (0): LinearBlock(\n",
       "       (lin): Linear(in_features=1200, out_features=50, bias=True)\n",
       "       (drop): Dropout(p=0.4)\n",
       "       (bn): BatchNorm1d(1200, eps=1e-05, momentum=0.1, affine=True)\n",
       "     )\n",
       "     (1): LinearBlock(\n",
       "       (lin): Linear(in_features=50, out_features=4, bias=True)\n",
       "       (drop): Dropout(p=0.1)\n",
       "       (bn): BatchNorm1d(50, eps=1e-05, momentum=0.1, affine=True)\n",
       "     )\n",
       "   )\n",
       " )]"
      ]
     },
     "execution_count": 59,
     "metadata": {},
     "output_type": "execute_result"
    }
   ],
   "source": [
    "learn.get_layer_groups()"
   ]
  },
  {
   "cell_type": "code",
   "execution_count": 60,
   "metadata": {
    "hidden": true
   },
   "outputs": [],
   "source": [
    "learn.freeze_to(-1)"
   ]
  },
  {
   "cell_type": "code",
   "execution_count": 61,
   "metadata": {
    "hidden": true
   },
   "outputs": [
    {
     "data": {
      "application/vnd.jupyter.widget-view+json": {
       "model_id": "93923e6c21404ebd82314928c7ca1137",
       "version_major": 2,
       "version_minor": 0
      },
      "text/plain": [
       "HBox(children=(IntProgress(value=0, description='Epoch', max=2, style=ProgressStyle(description_width='initial…"
      ]
     },
     "metadata": {},
     "output_type": "display_data"
    },
    {
     "name": "stdout",
     "output_type": "stream",
     "text": []
    },
    {
     "data": {
      "image/png": "[encoded data removed]",
      "text/plain": [
       "<Figure size 432x864 with 3 Axes>"
      ]
     },
     "metadata": {
      "needs_background": "light"
     },
     "output_type": "display_data"
    }
   ],
   "source": [
    "learn.lr_find2(start_lr=1e-4,end_lr=2e-2, num_it=400)\n",
    "learn.sched.plot()"
   ]
  },
  {
   "cell_type": "code",
   "execution_count": 62,
   "metadata": {
    "hidden": true
   },
   "outputs": [
    {
     "name": "stdout",
     "output_type": "stream",
     "text": [
      "[0.00005 0.00014 0.00037 0.00096 0.0025 ]\n"
     ]
    }
   ],
   "source": [
    "lr= 2.5e-3\n",
    "lrm = 2.6\n",
    "lrs = np.array([lr/(lrm**4), lr/(lrm**3), lr/(lrm**2), lr/lrm, lr])\n",
    "print(lrs)\n",
    "wd = 1e-7"
   ]
  },
  {
   "cell_type": "code",
   "execution_count": 63,
   "metadata": {
    "hidden": true
   },
   "outputs": [
    {
     "data": {
      "application/vnd.jupyter.widget-view+json": {
       "model_id": "37614110eed0478fbac2d3072c740c40",
       "version_major": 2,
       "version_minor": 0
      },
      "text/plain": [
       "HBox(children=(IntProgress(value=0, description='Epoch', max=5, style=ProgressStyle(description_width='initial…"
      ]
     },
     "metadata": {},
     "output_type": "display_data"
    },
    {
     "name": "stdout",
     "output_type": "stream",
     "text": []
    },
    {
     "name": "stdout",
     "output_type": "stream",
     "text": [
      "epoch      trn_loss   val_loss   accuracy   \n",
      "    0      1.261231   1.073001   0.547445  \n",
      "    1      1.22829    1.073156   0.509935  \n",
      "    2      1.234318   1.074202   0.522424  \n",
      "    3      1.211149   1.06638    0.536244  \n",
      "    4      1.21646    1.075984   0.541586  \n"
     ]
    },
    {
     "data": {
      "text/plain": [
       "[array([1.07598]), 0.541585726915179]"
      ]
     },
     "execution_count": 63,
     "metadata": {},
     "output_type": "execute_result"
    }
   ],
   "source": [
    "# wd = 1e-7\n",
    "learn.fit(lrs, 5, wds=wd, cycle_len=1, use_clr_beta=(32,10,0.8,0.7), best_save_name='clas2_0')"
   ]
  },
  {
   "cell_type": "code",
   "execution_count": 64,
   "metadata": {},
   "outputs": [
    {
     "data": {
      "image/png": "[encoded data removed]",
      "text/plain": [
       "<Figure size 864x288 with 2 Axes>"
      ]
     },
     "metadata": {
      "needs_background": "light"
     },
     "output_type": "display_data"
    }
   ],
   "source": [
    "learn.sched.plot_lr()"
   ]
  },
  {
   "cell_type": "code",
   "execution_count": 65,
   "metadata": {
    "hidden": true
   },
   "outputs": [],
   "source": [
    "# learn.save('clas2_0')\n",
    "learn.load('clas2_0')"
   ]
  },
  {
   "cell_type": "code",
   "execution_count": 66,
   "metadata": {
    "hidden": true
   },
   "outputs": [],
   "source": [
    "learn.freeze_to(-2)"
   ]
  },
  {
   "cell_type": "code",
   "execution_count": 67,
   "metadata": {
    "hidden": true
   },
   "outputs": [
    {
     "data": {
      "application/vnd.jupyter.widget-view+json": {
       "model_id": "06c80a7f543a4804ac65e0972964461c",
       "version_major": 2,
       "version_minor": 0
      },
      "text/plain": [
       "HBox(children=(IntProgress(value=0, description='Epoch', max=5, style=ProgressStyle(description_width='initial…"
      ]
     },
     "metadata": {},
     "output_type": "display_data"
    },
    {
     "name": "stdout",
     "output_type": "stream",
     "text": []
    },
    {
     "name": "stdout",
     "output_type": "stream",
     "text": [
      "epoch      trn_loss   val_loss   accuracy   \n",
      "    0      1.20285    1.059651   0.551869  \n",
      "    1      1.180612   1.059029   0.536307  \n",
      "    2      1.146469   1.044968   0.545112  \n",
      "    3      1.136172   1.021504   0.571717  \n",
      "    4      1.126565   1.02185    0.573332  \n"
     ]
    },
    {
     "data": {
      "text/plain": [
       "[array([1.02185]), 0.5733319251118479]"
      ]
     },
     "execution_count": 67,
     "metadata": {},
     "output_type": "execute_result"
    }
   ],
   "source": [
    "learn.fit(lrs, 5, wds=wd, cycle_len=1, use_clr_beta=(32,10,0.8,0.7),  best_save_name='clas2_1')"
   ]
  },
  {
   "cell_type": "code",
   "execution_count": 68,
   "metadata": {
    "hidden": true
   },
   "outputs": [],
   "source": [
    "# learn.save('clas2_1')\n",
    "learn.load('clas2_1')"
   ]
  },
  {
   "cell_type": "code",
   "execution_count": 69,
   "metadata": {
    "hidden": true
   },
   "outputs": [],
   "source": [
    "learn.unfreeze()"
   ]
  },
  {
   "cell_type": "code",
   "execution_count": 70,
   "metadata": {
    "hidden": true
   },
   "outputs": [
    {
     "data": {
      "application/vnd.jupyter.widget-view+json": {
       "model_id": "7be319a8321642cf9b75d21a09714874",
       "version_major": 2,
       "version_minor": 0
      },
      "text/plain": [
       "HBox(children=(IntProgress(value=0, description='Epoch', max=5, style=ProgressStyle(description_width='initial…"
      ]
     },
     "metadata": {},
     "output_type": "display_data"
    },
    {
     "name": "stdout",
     "output_type": "stream",
     "text": []
    },
    {
     "name": "stdout",
     "output_type": "stream",
     "text": [
      "epoch      trn_loss   val_loss   accuracy   \n",
      "    0      1.090121   0.997699   0.584766  \n",
      "    1      1.054994   1.009973   0.572709  \n",
      "    2      1.011024   1.010551   0.589992  \n",
      "    3      0.939189   1.030442   0.589147  \n",
      "    4      0.875132   1.032025   0.586339  \n"
     ]
    },
    {
     "data": {
      "text/plain": [
       "[array([1.03203]), 0.5863386821505185]"
      ]
     },
     "execution_count": 70,
     "metadata": {},
     "output_type": "execute_result"
    }
   ],
   "source": [
    "learn.fit(lrs, 1, cycle_len=5, use_clr_beta=(32,10,0.8,0.7), best_save_name='final_01')"
   ]
  },
  {
   "cell_type": "code",
   "execution_count": 71,
   "metadata": {},
   "outputs": [],
   "source": [
    "learn.load('final_01')"
   ]
  },
  {
   "cell_type": "code",
   "execution_count": 72,
   "metadata": {},
   "outputs": [
    {
     "data": {
      "application/vnd.jupyter.widget-view+json": {
       "model_id": "74960996d0a94e09849a9b70d74c25e1",
       "version_major": 2,
       "version_minor": 0
      },
      "text/plain": [
       "HBox(children=(IntProgress(value=0, description='Epoch', max=5, style=ProgressStyle(description_width='initial…"
      ]
     },
     "metadata": {},
     "output_type": "display_data"
    },
    {
     "name": "stdout",
     "output_type": "stream",
     "text": []
    },
    {
     "name": "stdout",
     "output_type": "stream",
     "text": [
      "epoch      trn_loss   val_loss   accuracy   \n",
      "    0      0.936849   0.987418   0.603452  \n",
      "    1      0.938454   1.036082   0.596495  \n",
      "    2      0.890428   0.998978   0.59603   \n",
      "    3      0.678662   1.121948   0.594595  \n",
      "    4      0.553096   1.112516   0.611729  \n"
     ]
    },
    {
     "data": {
      "text/plain": [
       "[array([1.11252]), 0.6117293071505185]"
      ]
     },
     "execution_count": 72,
     "metadata": {},
     "output_type": "execute_result"
    }
   ],
   "source": [
    "learn.fit(lr, 1, cycle_len=5, use_clr_beta=(32,10,0.8,0.7), best_save_name='final_02')"
   ]
  },
  {
   "cell_type": "code",
   "execution_count": 73,
   "metadata": {},
   "outputs": [],
   "source": [
    "learn.load('final_02')"
   ]
  },
  {
   "cell_type": "code",
   "execution_count": 74,
   "metadata": {},
   "outputs": [
    {
     "data": {
      "application/vnd.jupyter.widget-view+json": {
       "model_id": "89e1a1327beb4e35801aeff9d271ffda",
       "version_major": 2,
       "version_minor": 0
      },
      "text/plain": [
       "HBox(children=(IntProgress(value=0, description='Epoch', max=5, style=ProgressStyle(description_width='initial…"
      ]
     },
     "metadata": {},
     "output_type": "display_data"
    },
    {
     "name": "stdout",
     "output_type": "stream",
     "text": []
    },
    {
     "name": "stdout",
     "output_type": "stream",
     "text": [
      "epoch      trn_loss   val_loss   accuracy   \n",
      "    0      0.551065   1.237092   0.619204  \n",
      "    1      0.597439   1.183312   0.609861  \n",
      "    2      0.58124    1.275583   0.614221  \n",
      "    3      0.465554   1.383524   0.590097  \n",
      "    4      0.349803   1.390518   0.602048  \n"
     ]
    },
    {
     "data": {
      "text/plain": [
       "[array([1.39052]), 0.6020481413280642]"
      ]
     },
     "execution_count": 74,
     "metadata": {},
     "output_type": "execute_result"
    }
   ],
   "source": [
    "learn.fit(lr, 1, cycle_len=5, use_clr_beta=(32,10,0.8,0.7), best_save_name='final_03')"
   ]
  },
  {
   "cell_type": "code",
   "execution_count": 75,
   "metadata": {},
   "outputs": [],
   "source": [
    "learn.load('final_03')"
   ]
  },
  {
   "cell_type": "code",
   "execution_count": 76,
   "metadata": {},
   "outputs": [
    {
     "data": {
      "application/vnd.jupyter.widget-view+json": {
       "model_id": "eef4b0080f314b65b18cbfe6327f4630",
       "version_major": 2,
       "version_minor": 0
      },
      "text/plain": [
       "HBox(children=(IntProgress(value=0, description='Epoch', max=5, style=ProgressStyle(description_width='initial…"
      ]
     },
     "metadata": {},
     "output_type": "display_data"
    },
    {
     "name": "stdout",
     "output_type": "stream",
     "text": []
    },
    {
     "name": "stdout",
     "output_type": "stream",
     "text": [
      "epoch      trn_loss   val_loss   accuracy   \n",
      "    0      0.484748   1.219565   0.610853  \n",
      "    1      0.55784    1.272581   0.598543  \n",
      "    2      0.568926   1.310115   0.62008   \n",
      "    3      0.412544   1.420022   0.606282  \n",
      "    4      0.327975   1.459024   0.606672  \n"
     ]
    },
    {
     "data": {
      "text/plain": [
       "[array([1.45902]), 0.606672297861125]"
      ]
     },
     "execution_count": 76,
     "metadata": {},
     "output_type": "execute_result"
    }
   ],
   "source": [
    "learn.fit(lr, 1, cycle_len=5, use_clr_beta=(32,10,0.8,0.7), best_save_name='final_04')"
   ]
  },
  {
   "cell_type": "code",
   "execution_count": 77,
   "metadata": {
    "hidden": true
   },
   "outputs": [
    {
     "data": {
      "image/png": "[encoded data removed]",
      "text/plain": [
       "<Figure size 432x288 with 1 Axes>"
      ]
     },
     "metadata": {
      "needs_background": "light"
     },
     "output_type": "display_data"
    }
   ],
   "source": [
    "# learn.save('final')\n",
    "learn.load('final_04')\n",
    "learn.sched.plot_loss()"
   ]
  },
  {
   "cell_type": "markdown",
   "metadata": {},
   "source": [
    "## Model Evaluation"
   ]
  },
  {
   "cell_type": "code",
   "execution_count": 78,
   "metadata": {},
   "outputs": [],
   "source": [
    "def plot_confusion_matrix(cm, classes,\n",
    "                          normalize=False,\n",
    "                          title='Confusion matrix',\n",
    "                          cmap=plt.cm.Blues):\n",
    "    \"\"\"\n",
    "    This function prints and plots the confusion matrix.\n",
    "    Normalization can be applied by setting `normalize=True`.\n",
    "    \"\"\"\n",
    "    if normalize:\n",
    "        cm = cm.astype('float') / cm.sum(axis=1)[:, np.newaxis]\n",
    "\n",
    "    plt.imshow(cm, interpolation='nearest', cmap=cmap)\n",
    "    plt.title(title)\n",
    "    plt.colorbar()\n",
    "    tick_marks = np.arange(len(classes))\n",
    "    plt.xticks(tick_marks, classes, rotation=45)\n",
    "    plt.yticks(tick_marks, classes)\n",
    "\n",
    "    fmt = '.2f' if normalize else 'd'\n",
    "    thresh = cm.max() / 2.\n",
    "    for i, j in itertools.product(range(cm.shape[0]), range(cm.shape[1])):\n",
    "        plt.text(j, i, format(cm[i, j], fmt),\n",
    "                 horizontalalignment=\"center\",\n",
    "                 color=\"white\" if cm[i, j] > thresh else \"black\")\n",
    "\n",
    "    plt.ylabel('True label')\n",
    "    plt.xlabel('Predicted label')\n",
    "    plt.tight_layout()"
   ]
  },
  {
   "cell_type": "code",
   "execution_count": 85,
   "metadata": {},
   "outputs": [],
   "source": [
    "bs = 256\n",
    "bptt,em_sz,nh,nl = 70,400,1150,3\n",
    "\n",
    "tst_sent = np.load(CLAS_PATH/'tmp/tst_ids.npy')\n",
    "tst_lbls = np.load(CLAS_PATH/'tmp/tst_labels.npy').flatten()\n",
    "# tst_lbls -= tst_lbls.min()\n",
    "c=4 #int(tst_lbls.max())+1\n",
    "tst_ds = TextDataset(tst_sent, tst_lbls)\n",
    "tst_samp = SortSampler(tst_sent, key=lambda x: len(tst_sent[x]))\n",
    "tst_lbls_sampled = tst_lbls[list(tst_samp)]\n",
    "tst_dl = DataLoader(tst_ds, bs, transpose=True, num_workers=1, pad_idx=1, sampler=tst_samp)\n",
    "md = ModelData(TWEETSLM_PATH, None, tst_dl)\n",
    "itos = pickle.load(open(TWEETSLM_PATH/'tmp/itos.pkl', 'rb'))\n",
    "vs = len(itos)"
   ]
  },
  {
   "cell_type": "code",
   "execution_count": 101,
   "metadata": {},
   "outputs": [
    {
     "name": "stdout",
     "output_type": "stream",
     "text": [
      "F1(macro) =  0.0\n",
      "Accuracy  =  0.0\n"
     ]
    },
    {
     "name": "stderr",
     "output_type": "stream",
     "text": [
      "/home/dpalominop/anaconda3/envs/fastai_v07/lib/python3.6/site-packages/sklearn/metrics/classification.py:1437: UndefinedMetricWarning: F-score is ill-defined and being set to 0.0 in labels with no predicted samples.\n",
      "  'precision', 'predicted', average, warn_for)\n",
      "/home/dpalominop/anaconda3/envs/fastai_v07/lib/python3.6/site-packages/sklearn/metrics/classification.py:1439: UndefinedMetricWarning: F-score is ill-defined and being set to 0.0 in labels with no true samples.\n",
      "  'recall', 'true', average, warn_for)\n"
     ]
    },
    {
     "data": {
      "image/png": "[encoded data removed]",
      "text/plain": [
       "<Figure size 432x288 with 2 Axes>"
      ]
     },
     "metadata": {
      "needs_background": "light"
     },
     "output_type": "display_data"
    }
   ],
   "source": [
    "    \n",
    "m = get_rnn_classifer(bptt, 20*70, c, vs, emb_sz=em_sz, n_hid=nh, n_layers=nl, pad_token=1, layers=[em_sz*3, 50, c], drops=[0., 0.])\n",
    "\n",
    "learn2 = RNN_Learner(md, TextModel(to_gpu(m)))\n",
    "learn2.load_encoder('lm1_enc')\n",
    "learn2.load('final_04')\n",
    "predictions = np.argmax(learn2.predict(), axis=1)\n",
    "\n",
    "f1 = f1_score(tst_lbls_sampled, predictions, average='macro')\n",
    "print('F1(macro) = ', f1)\n",
    "\n",
    "acc = (tst_lbls_sampled == predictions).mean()\n",
    "print('Accuracy  = ', acc)\n",
    "\n",
    "\n",
    "cnf_matrix = confusion_matrix(tst_lbls_sampled, predictions)\n",
    "plt.figure()\n",
    "plot_confusion_matrix(cnf_matrix, classes=['N', 'P', 'NEU', 'NONE'], title='confusion matrix')\n",
    "plt.show()"
   ]
  },
  {
   "cell_type": "code",
   "execution_count": 96,
   "metadata": {},
   "outputs": [],
   "source": [
    "def getLabel(num):\n",
    "    if num == 0:\n",
    "        return 'N'\n",
    "    elif num == 1:\n",
    "        return 'P'\n",
    "    elif num == 2:\n",
    "        return 'NEU'\n",
    "    elif num == 3:\n",
    "        return 'NONE'"
   ]
  },
  {
   "cell_type": "code",
   "execution_count": 97,
   "metadata": {},
   "outputs": [],
   "source": [
    "import xml.etree.ElementTree as ET\n",
    "\n",
    "def putTestValue(xmlFIle, out):\n",
    "    tree = ET.parse(xmlFIle)\n",
    "    root = tree.getroot()\n",
    "\n",
    "    tweets = []\n",
    "    file = open(out,\"w\") \n",
    "    print(file)\n",
    "    print(len(predictions))\n",
    "    for i,tweet in enumerate(root.iter('tweet')): \n",
    "        val = getLabel(predictions[list(tst_samp).index(i)])\n",
    "        ID = tweet.find('tweetid').text\n",
    "        #print(ID)\n",
    "        file.write(ID + \"\\t\" + val + \"\\n\")\n",
    "    file.close() "
   ]
  },
  {
   "cell_type": "code",
   "execution_count": 98,
   "metadata": {},
   "outputs": [
    {
     "name": "stdout",
     "output_type": "stream",
     "text": [
      "<_io.TextIOWrapper name='DATA/2018/output_ulmfit_2019.txt' mode='w' encoding='UTF-8'>\n",
      "1428\n"
     ]
    }
   ],
   "source": [
    "# DATA_PATH = Path('D:/Maestria/NLP/AdvacedSentimentAnalysis/database/')\n",
    "putTestValue(DATA_PATH/\"task1-Test.xml\", DATA_PATH/\"output_ulmfit_2019.txt\")"
   ]
  },
  {
   "cell_type": "code",
   "execution_count": 99,
   "metadata": {},
   "outputs": [
    {
     "name": "stdout",
     "output_type": "stream",
     "text": [
      "DATA/2018/output_ulmfit_2019.txt\n"
     ]
    }
   ],
   "source": [
    "print(DATA_PATH/\"output_ulmfit_2019.txt\")"
   ]
  },
  {
   "cell_type": "code",
   "execution_count": null,
   "metadata": {},
   "outputs": [],
   "source": []
  },
  {
   "cell_type": "code",
   "execution_count": null,
   "metadata": {},
   "outputs": [],
   "source": []
  }
 ],
 "metadata": {
  "kernelspec": {
   "display_name": "Python 3",
   "language": "python",
   "name": "python3"
  },
  "language_info": {
   "codemirror_mode": {
    "name": "ipython",
    "version": 3
   },
   "file_extension": ".py",
   "mimetype": "text/x-python",
   "name": "python",
   "nbconvert_exporter": "python",
   "pygments_lexer": "ipython3",
   "version": "3.6.8"
  }
 },
 "nbformat": 4,
 "nbformat_minor": 2
}
