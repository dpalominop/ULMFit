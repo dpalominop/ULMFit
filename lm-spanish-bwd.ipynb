{
 "cells": [
  {
   "cell_type": "markdown",
   "metadata": {},
   "source": [
    "# Spanish ULMFiT from scratch (backwards)"
   ]
  },
  {
   "cell_type": "code",
   "execution_count": 1,
   "metadata": {},
   "outputs": [],
   "source": [
    "%reload_ext autoreload\n",
    "%autoreload 2\n",
    "%matplotlib inline\n",
    "\n",
    "from fastai import *\n",
    "from fastai.text import *\n",
    "from fastai.callbacks import SaveModelCallback"
   ]
  },
  {
   "cell_type": "code",
   "execution_count": 2,
   "metadata": {},
   "outputs": [],
   "source": [
    "bs=96"
   ]
  },
  {
   "cell_type": "code",
   "execution_count": 3,
   "metadata": {},
   "outputs": [],
   "source": [
    "data_path = Config.data_path()\n",
    "lang = 'es'\n",
    "name = f'{lang}wiki'\n",
    "path = data_path/name\n",
    "dest = path/'docs'\n",
    "lm_fns = [f'{lang}_wt_bwd', f'{lang}_wt_vocab_bwd']"
   ]
  },
  {
   "cell_type": "markdown",
   "metadata": {},
   "source": [
    "## Spanish wikipedia model"
   ]
  },
  {
   "cell_type": "code",
   "execution_count": 4,
   "metadata": {},
   "outputs": [],
   "source": [
    "# data = (TextList.from_folder(dest)\n",
    "#             .split_by_rand_pct(0.1, seed=42)\n",
    "#             .label_for_lm()\n",
    "#             .databunch(bs=bs, num_workers=1, backwards=True))\n",
    "\n",
    "# data.save(f'{lang}_databunch_bwd')"
   ]
  },
  {
   "cell_type": "code",
   "execution_count": 5,
   "metadata": {},
   "outputs": [],
   "source": [
    "data = load_data(dest, f'{lang}_databunch_bwd', bs=bs, backwards=True)"
   ]
  },
  {
   "cell_type": "code",
   "execution_count": 6,
   "metadata": {},
   "outputs": [],
   "source": [
    "learn = language_model_learner(data, AWD_LSTM, drop_mult=0.5, pretrained=False).to_fp16()"
   ]
  },
  {
   "cell_type": "code",
   "execution_count": 7,
   "metadata": {},
   "outputs": [
    {
     "data": {
      "text/html": [],
      "text/plain": [
       "<IPython.core.display.HTML object>"
      ]
     },
     "metadata": {},
     "output_type": "display_data"
    },
    {
     "name": "stdout",
     "output_type": "stream",
     "text": [
      "LR Finder is complete, type {learner_name}.recorder.plot() to see the graph.\n"
     ]
    }
   ],
   "source": [
    "learn.lr_find(start_lr=1e-3, end_lr=1e1-1)"
   ]
  },
  {
   "cell_type": "code",
   "execution_count": 8,
   "metadata": {},
   "outputs": [
    {
     "data": {
      "image/png": "[encoded data removed]",
      "text/plain": [
       "<Figure size 432x288 with 1 Axes>"
      ]
     },
     "metadata": {
      "needs_background": "light"
     },
     "output_type": "display_data"
    }
   ],
   "source": [
    "learn.recorder.plot()"
   ]
  },
  {
   "cell_type": "code",
   "execution_count": 9,
   "metadata": {},
   "outputs": [],
   "source": [
    "lr = 1e-2\n",
    "# lr *= bs/48  # Scale learning rate by batch size"
   ]
  },
  {
   "cell_type": "code",
   "execution_count": 10,
   "metadata": {},
   "outputs": [
    {
     "data": {
      "text/html": [
       "<table border=\"1\" class=\"dataframe\">\n",
       "  <thead>\n",
       "    <tr style=\"text-align: left;\">\n",
       "      <th>epoch</th>\n",
       "      <th>train_loss</th>\n",
       "      <th>valid_loss</th>\n",
       "      <th>accuracy</th>\n",
       "      <th>time</th>\n",
       "    </tr>\n",
       "  </thead>\n",
       "  <tbody>\n",
       "    <tr>\n",
       "      <td>0</td>\n",
       "      <td>3.444012</td>\n",
       "      <td>3.411050</td>\n",
       "      <td>0.423217</td>\n",
       "      <td>3:31:34</td>\n",
       "    </tr>\n",
       "    <tr>\n",
       "      <td>1</td>\n",
       "      <td>3.573076</td>\n",
       "      <td>3.526484</td>\n",
       "      <td>0.411462</td>\n",
       "      <td>3:31:09</td>\n",
       "    </tr>\n",
       "    <tr>\n",
       "      <td>2</td>\n",
       "      <td>3.572197</td>\n",
       "      <td>3.566270</td>\n",
       "      <td>0.407482</td>\n",
       "      <td>3:30:57</td>\n",
       "    </tr>\n",
       "    <tr>\n",
       "      <td>3</td>\n",
       "      <td>3.544393</td>\n",
       "      <td>3.556223</td>\n",
       "      <td>0.408801</td>\n",
       "      <td>3:32:01</td>\n",
       "    </tr>\n",
       "    <tr>\n",
       "      <td>4</td>\n",
       "      <td>3.571290</td>\n",
       "      <td>3.522106</td>\n",
       "      <td>0.412222</td>\n",
       "      <td>3:36:52</td>\n",
       "    </tr>\n",
       "    <tr>\n",
       "      <td>5</td>\n",
       "      <td>3.512694</td>\n",
       "      <td>3.457823</td>\n",
       "      <td>0.418018</td>\n",
       "      <td>3:31:02</td>\n",
       "    </tr>\n",
       "    <tr>\n",
       "      <td>6</td>\n",
       "      <td>3.441303</td>\n",
       "      <td>3.388884</td>\n",
       "      <td>0.424103</td>\n",
       "      <td>3:31:20</td>\n",
       "    </tr>\n",
       "    <tr>\n",
       "      <td>7</td>\n",
       "      <td>3.370762</td>\n",
       "      <td>3.299700</td>\n",
       "      <td>0.433455</td>\n",
       "      <td>3:30:58</td>\n",
       "    </tr>\n",
       "    <tr>\n",
       "      <td>8</td>\n",
       "      <td>3.321628</td>\n",
       "      <td>3.212045</td>\n",
       "      <td>0.442560</td>\n",
       "      <td>3:29:54</td>\n",
       "    </tr>\n",
       "    <tr>\n",
       "      <td>9</td>\n",
       "      <td>3.300446</td>\n",
       "      <td>3.176915</td>\n",
       "      <td>0.446884</td>\n",
       "      <td>3:31:57</td>\n",
       "    </tr>\n",
       "  </tbody>\n",
       "</table>"
      ],
      "text/plain": [
       "<IPython.core.display.HTML object>"
      ]
     },
     "metadata": {},
     "output_type": "display_data"
    }
   ],
   "source": [
    "learn.unfreeze()\n",
    "# learn.fit_one_cycle(1, lr, moms=(0.8,0.7))\n",
    "learn.fit_one_cycle(10, lr, moms=(0.8,0.7), callbacks=[SaveModelCallback(learn, every='epoch', monitor='accuracy')])"
   ]
  },
  {
   "cell_type": "code",
   "execution_count": 11,
   "metadata": {},
   "outputs": [],
   "source": [
    "mdl_path = path/'models'\n",
    "mdl_path.mkdir(exist_ok=True)\n",
    "learn.to_fp32().save(mdl_path/lm_fns[0], with_opt=False)\n",
    "learn.data.vocab.save(mdl_path/(lm_fns[1] + '.pkl'))"
   ]
  },
  {
   "cell_type": "markdown",
   "metadata": {},
   "source": [
    "## Spanish sentiment analysis"
   ]
  },
  {
   "cell_type": "markdown",
   "metadata": {
    "heading_collapsed": true
   },
   "source": [
    "### Language model"
   ]
  },
  {
   "cell_type": "code",
   "execution_count": 4,
   "metadata": {
    "hidden": true
   },
   "outputs": [],
   "source": [
    "train_df = pd.read_csv(path/'train.csv')\n",
    "train_df.loc[pd.isna(train_df.tweet),'tweet']='NA'\n",
    "\n",
    "val_df = pd.read_csv(path/'validation.csv')\n",
    "val_df.loc[pd.isna(val_df.tweet),'tweet']='NA'\n",
    "\n",
    "test_df = pd.read_csv(path/'test.csv')\n",
    "test_df.loc[pd.isna(test_df.tweet),'tweet']='NA'\n",
    "test_df['label'] = 0\n",
    "\n",
    "gen_df = pd.read_csv(path/'general.csv')\n",
    "gen_df.loc[pd.isna(gen_df.tweet),'tweet']='NA'\n",
    "\n",
    "df = pd.read_csv('tweets-es-pe.csv', header=None)\n",
    "lm_df = pd.DataFrame()\n",
    "lm_df['tweet'] = df.loc[:,1]\n",
    "lm_df.loc[pd.isna(lm_df.tweet),'tweet']='NA'\n",
    "lm_df['label'] = 0\n",
    "del df\n",
    "\n",
    "\n",
    "df = pd.concat([lm_df, gen_df, train_df, val_df, test_df], sort=False)"
   ]
  },
  {
   "cell_type": "code",
   "execution_count": 5,
   "metadata": {},
   "outputs": [
    {
     "data": {
      "text/html": [
       "<div>\n",
       "<style scoped>\n",
       "    .dataframe tbody tr th:only-of-type {\n",
       "        vertical-align: middle;\n",
       "    }\n",
       "\n",
       "    .dataframe tbody tr th {\n",
       "        vertical-align: top;\n",
       "    }\n",
       "\n",
       "    .dataframe thead th {\n",
       "        text-align: right;\n",
       "    }\n",
       "</style>\n",
       "<table border=\"1\" class=\"dataframe\">\n",
       "  <thead>\n",
       "    <tr style=\"text-align: right;\">\n",
       "      <th></th>\n",
       "      <th>label</th>\n",
       "    </tr>\n",
       "  </thead>\n",
       "  <tbody>\n",
       "    <tr>\n",
       "      <td>count</td>\n",
       "      <td>310631.000000</td>\n",
       "    </tr>\n",
       "    <tr>\n",
       "      <td>mean</td>\n",
       "      <td>0.032679</td>\n",
       "    </tr>\n",
       "    <tr>\n",
       "      <td>std</td>\n",
       "      <td>0.264071</td>\n",
       "    </tr>\n",
       "    <tr>\n",
       "      <td>min</td>\n",
       "      <td>0.000000</td>\n",
       "    </tr>\n",
       "    <tr>\n",
       "      <td>25%</td>\n",
       "      <td>0.000000</td>\n",
       "    </tr>\n",
       "    <tr>\n",
       "      <td>50%</td>\n",
       "      <td>0.000000</td>\n",
       "    </tr>\n",
       "    <tr>\n",
       "      <td>75%</td>\n",
       "      <td>0.000000</td>\n",
       "    </tr>\n",
       "    <tr>\n",
       "      <td>max</td>\n",
       "      <td>3.000000</td>\n",
       "    </tr>\n",
       "  </tbody>\n",
       "</table>\n",
       "</div>"
      ],
      "text/plain": [
       "               label\n",
       "count  310631.000000\n",
       "mean        0.032679\n",
       "std         0.264071\n",
       "min         0.000000\n",
       "25%         0.000000\n",
       "50%         0.000000\n",
       "75%         0.000000\n",
       "max         3.000000"
      ]
     },
     "execution_count": 5,
     "metadata": {},
     "output_type": "execute_result"
    }
   ],
   "source": [
    "df.describe()"
   ]
  },
  {
   "cell_type": "code",
   "execution_count": 6,
   "metadata": {
    "hidden": true
   },
   "outputs": [],
   "source": [
    "data_lm = (TextList.from_df(df, path, cols='tweet')\n",
    "    .split_by_rand_pct(0.1, seed=42)\n",
    "    .label_for_lm()           \n",
    "    .databunch(bs=bs, num_workers=1, backwards=True))\n",
    "\n",
    "learn_lm = language_model_learner(data_lm, AWD_LSTM, config={**awd_lstm_lm_config, 'n_hid': 1152},\n",
    "                                  pretrained_fnames=lm_fns, drop_mult=1.0)"
   ]
  },
  {
   "cell_type": "code",
   "execution_count": 7,
   "metadata": {},
   "outputs": [
    {
     "data": {
      "text/html": [],
      "text/plain": [
       "<IPython.core.display.HTML object>"
      ]
     },
     "metadata": {},
     "output_type": "display_data"
    },
    {
     "name": "stdout",
     "output_type": "stream",
     "text": [
      "LR Finder is complete, type {learner_name}.recorder.plot() to see the graph.\n"
     ]
    }
   ],
   "source": [
    "learn_lm.lr_find(start_lr=1e-4, end_lr=1e1-1)"
   ]
  },
  {
   "cell_type": "code",
   "execution_count": 8,
   "metadata": {},
   "outputs": [
    {
     "data": {
      "image/png": "[encoded data removed]",
      "text/plain": [
       "<Figure size 432x288 with 1 Axes>"
      ]
     },
     "metadata": {
      "needs_background": "light"
     },
     "output_type": "display_data"
    }
   ],
   "source": [
    "learn_lm.recorder.plot()"
   ]
  },
  {
   "cell_type": "code",
   "execution_count": 9,
   "metadata": {
    "hidden": true
   },
   "outputs": [],
   "source": [
    "lr = 1e-2\n",
    "lr *= bs/48"
   ]
  },
  {
   "cell_type": "code",
   "execution_count": 10,
   "metadata": {
    "hidden": true
   },
   "outputs": [
    {
     "data": {
      "text/html": [
       "<table border=\"1\" class=\"dataframe\">\n",
       "  <thead>\n",
       "    <tr style=\"text-align: left;\">\n",
       "      <th>epoch</th>\n",
       "      <th>train_loss</th>\n",
       "      <th>valid_loss</th>\n",
       "      <th>accuracy</th>\n",
       "      <th>time</th>\n",
       "    </tr>\n",
       "  </thead>\n",
       "  <tbody>\n",
       "    <tr>\n",
       "      <td>0</td>\n",
       "      <td>5.081812</td>\n",
       "      <td>4.081781</td>\n",
       "      <td>0.419270</td>\n",
       "      <td>04:23</td>\n",
       "    </tr>\n",
       "    <tr>\n",
       "      <td>1</td>\n",
       "      <td>3.805262</td>\n",
       "      <td>3.209117</td>\n",
       "      <td>0.497063</td>\n",
       "      <td>04:31</td>\n",
       "    </tr>\n",
       "  </tbody>\n",
       "</table>"
      ],
      "text/plain": [
       "<IPython.core.display.HTML object>"
      ]
     },
     "metadata": {},
     "output_type": "display_data"
    }
   ],
   "source": [
    "learn_lm.fit_one_cycle(2, lr*10, moms=(0.8,0.7))"
   ]
  },
  {
   "cell_type": "code",
   "execution_count": 11,
   "metadata": {
    "hidden": true
   },
   "outputs": [
    {
     "data": {
      "text/html": [
       "<table border=\"1\" class=\"dataframe\">\n",
       "  <thead>\n",
       "    <tr style=\"text-align: left;\">\n",
       "      <th>epoch</th>\n",
       "      <th>train_loss</th>\n",
       "      <th>valid_loss</th>\n",
       "      <th>accuracy</th>\n",
       "      <th>time</th>\n",
       "    </tr>\n",
       "  </thead>\n",
       "  <tbody>\n",
       "    <tr>\n",
       "      <td>0</td>\n",
       "      <td>2.819729</td>\n",
       "      <td>2.573937</td>\n",
       "      <td>0.600093</td>\n",
       "      <td>04:55</td>\n",
       "    </tr>\n",
       "    <tr>\n",
       "      <td>1</td>\n",
       "      <td>2.636906</td>\n",
       "      <td>2.419057</td>\n",
       "      <td>0.620305</td>\n",
       "      <td>04:49</td>\n",
       "    </tr>\n",
       "    <tr>\n",
       "      <td>2</td>\n",
       "      <td>2.512447</td>\n",
       "      <td>2.329062</td>\n",
       "      <td>0.631917</td>\n",
       "      <td>04:59</td>\n",
       "    </tr>\n",
       "    <tr>\n",
       "      <td>3</td>\n",
       "      <td>2.399664</td>\n",
       "      <td>2.240678</td>\n",
       "      <td>0.644659</td>\n",
       "      <td>04:59</td>\n",
       "    </tr>\n",
       "    <tr>\n",
       "      <td>4</td>\n",
       "      <td>2.242429</td>\n",
       "      <td>2.148349</td>\n",
       "      <td>0.657717</td>\n",
       "      <td>04:38</td>\n",
       "    </tr>\n",
       "    <tr>\n",
       "      <td>5</td>\n",
       "      <td>2.162553</td>\n",
       "      <td>2.069184</td>\n",
       "      <td>0.670267</td>\n",
       "      <td>04:38</td>\n",
       "    </tr>\n",
       "    <tr>\n",
       "      <td>6</td>\n",
       "      <td>2.065350</td>\n",
       "      <td>2.020368</td>\n",
       "      <td>0.677912</td>\n",
       "      <td>04:35</td>\n",
       "    </tr>\n",
       "    <tr>\n",
       "      <td>7</td>\n",
       "      <td>1.993171</td>\n",
       "      <td>2.011345</td>\n",
       "      <td>0.679549</td>\n",
       "      <td>04:37</td>\n",
       "    </tr>\n",
       "  </tbody>\n",
       "</table>"
      ],
      "text/plain": [
       "<IPython.core.display.HTML object>"
      ]
     },
     "metadata": {},
     "output_type": "display_data"
    }
   ],
   "source": [
    "learn_lm.unfreeze()\n",
    "learn_lm.fit_one_cycle(8, lr, moms=(0.8,0.7))"
   ]
  },
  {
   "cell_type": "code",
   "execution_count": 12,
   "metadata": {
    "hidden": true
   },
   "outputs": [],
   "source": [
    "learn_lm.save(f'{lang}fine_tuned_bwd')\n",
    "learn_lm.save_encoder(f'{lang}fine_tuned_enc_bwd')"
   ]
  },
  {
   "cell_type": "code",
   "execution_count": 13,
   "metadata": {},
   "outputs": [
    {
     "data": {
      "text/html": [
       "<table border=\"1\" class=\"dataframe\">\n",
       "  <thead>\n",
       "    <tr style=\"text-align: right;\">\n",
       "      <th>idx</th>\n",
       "      <th>text</th>\n",
       "    </tr>\n",
       "  </thead>\n",
       "  <tbody>\n",
       "    <tr>\n",
       "      <td>0</td>\n",
       "      <td>xxup xxbos … enfer sus tratar poder para tiempo tanto esperar que tienen no personas las xxmaj . ” cola “ sólo hacer de trata se no , brother xxmaj : @nicoalessandrap rt xxup xxbos ? orden algún hay nada sé no ? xxunk xxmaj mira se como xxmaj xxbos … verl al él de burlaban se carceleros sus xxmaj . próstata la a cáncer de sufría ya , panóptico</td>\n",
       "    </tr>\n",
       "    <tr>\n",
       "      <td>1</td>\n",
       "      <td>@ensustrece en xxmaj : @ensustrece rt xxup xxbos m xxunk xxmaj / t.co / / : https … l contar sin ( xxunk primera esa en anime el quedo se donde desde completo leí lo me si life re xxmaj espera xxmaj @gjoeldiaz xxbos xxunk / t.co / / : https … contraten que mediocres profesionales tener debemos reflexión tu según entonces xxmaj @clanseros @tuesta xxunk xxbos xxunk / t.co</td>\n",
       "    </tr>\n",
       "    <tr>\n",
       "      <td>2</td>\n",
       "      <td>no interior es felicidad la xxmaj \" xxbos … 2s0 xxup / t.co / / : https maldad la de conocimiento mi y realidad la con encontronazo primer mi fue diadelvladivideo # el que recuerdo : @jortito19 rt xxup xxbos xxunk / t.co / / : https … m san xxmaj de gobernadores los con xxunk minsa xxmaj # del técnico equipo el y broggi xxmaj alfredo xxmaj viceministro el</td>\n",
       "    </tr>\n",
       "    <tr>\n",
       "      <td>3</td>\n",
       "      <td>mv el es seguro , favs de fav mi hace la q algo tiene breaker xxunk pero uu sé lo dificil es @nelevinee xxbos solos tienen los y huerta la a llevan los , pisos en tengan los no pueblos los en que común muy es que es , claro xxmaj xxunk xxunk xxbos ! todos a días buenos xxmaj xxbos ! ! ! xxunk quiero no , tienda en</td>\n",
       "    </tr>\n",
       "    <tr>\n",
       "      <td>4</td>\n",
       "      <td>q partidos por ser debería contrato el xxmaj @capital967 @odriozola9 xxbos cjmgfwvhv7 / t.co / / : https ehpwhilx6f / t.co / / : https ► tovar xxmaj carlos xxmaj por , hoy de carlincatura xxmaj # la pierdas te no xxmaj : @larepublica_pe rt xxup xxbos xxunk sus pican le xxmaj . veterinaria la en xxunk xxunk xxmaj xxunk xxbos pasó c mariana xxmaj esa oye , pasa xxup</td>\n",
       "    </tr>\n",
       "    <tr>\n",
       "      <td>5</td>\n",
       "      <td>xxunk xxbos contentos muy veía les se hoy xxbos … h se no extranjero el en que dice también xxmaj . elecciones de adelanto el da se si económica catástrofe una anuncia hernandodesoto # : @jbcperu xxup rt xxup xxbos xxunk / t.co / / : https … xxunk alguna o empleo brindar para cargo un utilizar es nepotismo xxmaj . fernando xxmaj ver a @scheuchmartin xxunk xxbos jajjajajajaja xxup</td>\n",
       "    </tr>\n",
       "    <tr>\n",
       "      <td>6</td>\n",
       "      <td>reflexionar sirvan xfavor invocó xxmaj . bsns \\n \\n  @elgranshow_peru @miluskaeskenazi @elgranshow_peru @leon30013 : xxunk rt xxup xxbos . ptmr 😂 5 xxrep 😨 4 xxrep publicación una a like di le a 15 xxrep a xxbos … exdirect , graña xxmaj hernando xxmaj y josé xxmaj de compromiso el materializado ha se no , fecha la hasta , que admite vela xxmaj rafael xxmaj fiscal xxmaj : @manifiesto_peru</td>\n",
       "    </tr>\n",
       "    <tr>\n",
       "      <td>7</td>\n",
       "      <td>: @waykaperu rt xxup xxbos . democracia haya apenas completamente eliminados ser deben venezuela xxmaj en hay que politiqueros viejos los todos xxmaj xxbos ️ ❤ ! ! xxunk y valoremos xxmaj . familia la a tiempo dedicarle como nada xxmaj xxbos ” xxunk # freud a introducir para @buenafuente y @berto_romero a pongan te filosofía en que xxmaj : xxunk “ ? 6 xxrep xxbos g dlc4ep596 / t.co</td>\n",
       "    </tr>\n",
       "    <tr>\n",
       "      <td>8</td>\n",
       "      <td>en empate el marcó rodríguez xxmaj federico xxmaj ! blanquiazul xxup vamos xxup ¡ ! l o 19 xxrep g ¡ . pt xxup ' ️41 ⏱ : @clubaloficial rt xxup xxbos … po custodiados . portuguesa xxmaj , araure xxmaj de hotel importante en alojados están rusos oficiales 42 1.- \\n  ! ! ! alerta xxup . hora xxup última xxup : @carlosortegactv rt xxup xxbos … hasta</td>\n",
       "    </tr>\n",
       "    <tr>\n",
       "      <td>9</td>\n",
       "      <td>ayuda no monto este que consciente ser debe @sportboys hincha el xxmaj : @diegosotomayor7 rt xxup xxbos xxunk / t.co / / : https título el asegurado está casi ya , marquez xxmaj # grande xxmaj : xxunk rt xxup xxbos excelente xxmaj @elvisocc xxbos . humor mal de o triste ponerme , estresarme sin entero día un pasar a llegar es sexual fantasía mi xxmaj : @tipicoarroba rt xxup</td>\n",
       "    </tr>\n",
       "    <tr>\n",
       "      <td>10</td>\n",
       "      <td>conferencias y paneles que más xxmaj : @jsaldanacuba rt xxup xxbos 🔥 ... también xxmaj \\n  ... fantasías mis en y \\n  enunpoemayo # : @jhziqita rt xxup xxbos … escarc , sangran no que puros tan son xxmaj . bondad su de nombre en matarte de capaces son tuitera inquisición la de moralistas los xxmaj : @luisyslas rt xxup xxbos 🕺 @elgranshow_peru \\n  👏 👏 secreto</td>\n",
       "    </tr>\n",
       "    <tr>\n",
       "      <td>11</td>\n",
       "      <td>xxup xxbos xvioavxg5y / t.co / / : https hpt pruebas más querés xxmaj \\n  . playback , autotune usa , canta no maluma xxmaj : x : @mylovejuannx rt xxup xxbos … la infringen @pedrochavarryv a asesorar por @fiscaliaperu a belaunde xxmaj garcia xxmaj domingo xxmaj por facturado 000 15 / s los entonces xxmaj : @recuerdosperu rt xxup xxbos xxunk / t.co / / : https …</td>\n",
       "    </tr>\n",
       "    <tr>\n",
       "      <td>12</td>\n",
       "      <td>\\n  : que recuerda xxmaj : @amordeuncafe rt xxup xxbos … xxunk me @ lo no , cerdizunomedesgracies # un hagamos jajajajajaja xxmaj @fiscaliaperu @julioarbizu @augusto86321713 xxup @josefujimorista : @a_reynoso7 rt xxup xxbos … parecen se , pastor xxmaj y sipan xxmaj codinomes los a junto que ) castillo xxmaj ( ” castelo xxmaj “ codinome el en ahora hasta reparado han pocos xxmaj : @hurgamemoriape rt xxup xxbos</td>\n",
       "    </tr>\n",
       "    <tr>\n",
       "      <td>13</td>\n",
       "      <td>cumbia escuchando está apa mi xxmaj xxbos … gole máximo , farfán xxmaj ️jefferson ➡ \\n  . peruana selección la de goleador máximo el , guerrero xxmaj ️paolo ➡ \\n  🇪 🇵 🔵 ️ ⚪ alianzalimaeselperú # : @clubaloficial rt xxup xxbos thwecykrna / t.co / / : https 🏻 ✊ ! lucha de mensajes grandes xxmaj : @cristhianrs rt xxup xxbos … responsables hacerse deben pleno xxmaj</td>\n",
       "    </tr>\n",
       "    <tr>\n",
       "      <td>14</td>\n",
       "      <td>@swiftxnat xxbos … corrupc la y robo del buque xxmaj y satélite xxmaj . humala xxmaj jefe su que igual corrupto un final al ; moralizador falso otro , cateriano xxmaj : @valderrama_en rt xxup xxbos … p y ; inmediatamente pueblo al forzando , violencia la con : engaño el con o violencia la con actúan políticos agitadores los xxmaj : @carlosmesia xxup rt xxup xxbos … tiene no</td>\n",
       "    </tr>\n",
       "  </tbody>\n",
       "</table>"
      ],
      "text/plain": [
       "<IPython.core.display.HTML object>"
      ]
     },
     "metadata": {},
     "output_type": "display_data"
    }
   ],
   "source": [
    "learn_lm.data.show_batch(15)"
   ]
  },
  {
   "cell_type": "markdown",
   "metadata": {},
   "source": [
    "### Classifier"
   ]
  },
  {
   "cell_type": "code",
   "execution_count": 27,
   "metadata": {},
   "outputs": [],
   "source": [
    "data_clas = (TextList.from_df(pd.concat([train_df, gen_df, val_df]), path, vocab=data_lm.vocab, cols='tweet')\n",
    "    .split_by_rand_pct(0.1, seed=42)\n",
    "    .label_from_df(cols='label')\n",
    "    .databunch(bs=bs, num_workers=1, backwards=True))\n",
    "\n",
    "data_clas.save(f'{lang}_textlist_class_bwd')"
   ]
  },
  {
   "cell_type": "code",
   "execution_count": 28,
   "metadata": {},
   "outputs": [],
   "source": [
    "data_clas = load_data(path, f'{lang}_textlist_class_bwd', bs=bs, num_workers=1, backwards=True)"
   ]
  },
  {
   "cell_type": "code",
   "execution_count": 29,
   "metadata": {},
   "outputs": [],
   "source": [
    "from sklearn.metrics import f1_score\n",
    "\n",
    "@np_func\n",
    "def f1(inp,targ): return f1_score(targ, np.argmax(inp, axis=-1), average='macro')"
   ]
  },
  {
   "cell_type": "code",
   "execution_count": 30,
   "metadata": {},
   "outputs": [],
   "source": [
    "learn_c = text_classifier_learner(data_clas, AWD_LSTM, drop_mult=0.5, metrics=[accuracy,f1]).to_fp16()\n",
    "learn_c.load_encoder(f'{lang}fine_tuned_enc_bwd')\n",
    "learn_c.freeze()"
   ]
  },
  {
   "cell_type": "code",
   "execution_count": 31,
   "metadata": {},
   "outputs": [
    {
     "data": {
      "text/html": [],
      "text/plain": [
       "<IPython.core.display.HTML object>"
      ]
     },
     "metadata": {},
     "output_type": "display_data"
    },
    {
     "name": "stdout",
     "output_type": "stream",
     "text": [
      "LR Finder is complete, type {learner_name}.recorder.plot() to see the graph.\n"
     ]
    }
   ],
   "source": [
    "learn_c.lr_find(start_lr=1e-4, end_lr=1e1-1)"
   ]
  },
  {
   "cell_type": "code",
   "execution_count": 32,
   "metadata": {},
   "outputs": [
    {
     "data": {
      "image/png": "[encoded data removed]",
      "text/plain": [
       "<Figure size 432x288 with 1 Axes>"
      ]
     },
     "metadata": {
      "needs_background": "light"
     },
     "output_type": "display_data"
    }
   ],
   "source": [
    "learn_c.recorder.plot()"
   ]
  },
  {
   "cell_type": "code",
   "execution_count": 33,
   "metadata": {},
   "outputs": [],
   "source": [
    "lr=2e-2\n",
    "lr *= bs/48"
   ]
  },
  {
   "cell_type": "code",
   "execution_count": 34,
   "metadata": {},
   "outputs": [
    {
     "data": {
      "text/html": [
       "<table border=\"1\" class=\"dataframe\">\n",
       "  <thead>\n",
       "    <tr style=\"text-align: left;\">\n",
       "      <th>epoch</th>\n",
       "      <th>train_loss</th>\n",
       "      <th>valid_loss</th>\n",
       "      <th>accuracy</th>\n",
       "      <th>f1</th>\n",
       "      <th>time</th>\n",
       "    </tr>\n",
       "  </thead>\n",
       "  <tbody>\n",
       "    <tr>\n",
       "      <td>0</td>\n",
       "      <td>1.149284</td>\n",
       "      <td>1.124210</td>\n",
       "      <td>0.501718</td>\n",
       "      <td>0.341453</td>\n",
       "      <td>00:01</td>\n",
       "    </tr>\n",
       "    <tr>\n",
       "      <td>1</td>\n",
       "      <td>1.076850</td>\n",
       "      <td>1.061082</td>\n",
       "      <td>0.547537</td>\n",
       "      <td>0.410777</td>\n",
       "      <td>00:01</td>\n",
       "    </tr>\n",
       "  </tbody>\n",
       "</table>"
      ],
      "text/plain": [
       "<IPython.core.display.HTML object>"
      ]
     },
     "metadata": {},
     "output_type": "display_data"
    },
    {
     "name": "stderr",
     "output_type": "stream",
     "text": [
      "/home/dpalominop/anaconda3/envs/fastai/lib/python3.7/site-packages/sklearn/metrics/classification.py:1437: UndefinedMetricWarning: F-score is ill-defined and being set to 0.0 in labels with no predicted samples.\n",
      "  'precision', 'predicted', average, warn_for)\n",
      "/home/dpalominop/anaconda3/envs/fastai/lib/python3.7/site-packages/sklearn/metrics/classification.py:1437: UndefinedMetricWarning: F-score is ill-defined and being set to 0.0 in labels with no predicted samples.\n",
      "  'precision', 'predicted', average, warn_for)\n",
      "/home/dpalominop/anaconda3/envs/fastai/lib/python3.7/site-packages/sklearn/metrics/classification.py:1437: UndefinedMetricWarning: F-score is ill-defined and being set to 0.0 in labels with no predicted samples.\n",
      "  'precision', 'predicted', average, warn_for)\n",
      "/home/dpalominop/anaconda3/envs/fastai/lib/python3.7/site-packages/sklearn/metrics/classification.py:1437: UndefinedMetricWarning: F-score is ill-defined and being set to 0.0 in labels with no predicted samples.\n",
      "  'precision', 'predicted', average, warn_for)\n",
      "/home/dpalominop/anaconda3/envs/fastai/lib/python3.7/site-packages/sklearn/metrics/classification.py:1437: UndefinedMetricWarning: F-score is ill-defined and being set to 0.0 in labels with no predicted samples.\n",
      "  'precision', 'predicted', average, warn_for)\n",
      "/home/dpalominop/anaconda3/envs/fastai/lib/python3.7/site-packages/sklearn/metrics/classification.py:1437: UndefinedMetricWarning: F-score is ill-defined and being set to 0.0 in labels with no predicted samples.\n",
      "  'precision', 'predicted', average, warn_for)\n",
      "/home/dpalominop/anaconda3/envs/fastai/lib/python3.7/site-packages/sklearn/metrics/classification.py:1437: UndefinedMetricWarning: F-score is ill-defined and being set to 0.0 in labels with no predicted samples.\n",
      "  'precision', 'predicted', average, warn_for)\n",
      "/home/dpalominop/anaconda3/envs/fastai/lib/python3.7/site-packages/sklearn/metrics/classification.py:1437: UndefinedMetricWarning: F-score is ill-defined and being set to 0.0 in labels with no predicted samples.\n",
      "  'precision', 'predicted', average, warn_for)\n",
      "/home/dpalominop/anaconda3/envs/fastai/lib/python3.7/site-packages/sklearn/metrics/classification.py:1437: UndefinedMetricWarning: F-score is ill-defined and being set to 0.0 in labels with no predicted samples.\n",
      "  'precision', 'predicted', average, warn_for)\n",
      "/home/dpalominop/anaconda3/envs/fastai/lib/python3.7/site-packages/sklearn/metrics/classification.py:1439: UndefinedMetricWarning: F-score is ill-defined and being set to 0.0 in labels with no true samples.\n",
      "  'recall', 'true', average, warn_for)\n",
      "/home/dpalominop/anaconda3/envs/fastai/lib/python3.7/site-packages/sklearn/metrics/classification.py:1437: UndefinedMetricWarning: F-score is ill-defined and being set to 0.0 in labels with no predicted samples.\n",
      "  'precision', 'predicted', average, warn_for)\n",
      "/home/dpalominop/anaconda3/envs/fastai/lib/python3.7/site-packages/sklearn/metrics/classification.py:1437: UndefinedMetricWarning: F-score is ill-defined and being set to 0.0 in labels with no predicted samples.\n",
      "  'precision', 'predicted', average, warn_for)\n",
      "/home/dpalominop/anaconda3/envs/fastai/lib/python3.7/site-packages/sklearn/metrics/classification.py:1437: UndefinedMetricWarning: F-score is ill-defined and being set to 0.0 in labels with no predicted samples.\n",
      "  'precision', 'predicted', average, warn_for)\n",
      "/home/dpalominop/anaconda3/envs/fastai/lib/python3.7/site-packages/sklearn/metrics/classification.py:1437: UndefinedMetricWarning: F-score is ill-defined and being set to 0.0 in labels with no predicted samples.\n",
      "  'precision', 'predicted', average, warn_for)\n",
      "/home/dpalominop/anaconda3/envs/fastai/lib/python3.7/site-packages/sklearn/metrics/classification.py:1437: UndefinedMetricWarning: F-score is ill-defined and being set to 0.0 in labels with no predicted samples.\n",
      "  'precision', 'predicted', average, warn_for)\n",
      "/home/dpalominop/anaconda3/envs/fastai/lib/python3.7/site-packages/sklearn/metrics/classification.py:1437: UndefinedMetricWarning: F-score is ill-defined and being set to 0.0 in labels with no predicted samples.\n",
      "  'precision', 'predicted', average, warn_for)\n",
      "/home/dpalominop/anaconda3/envs/fastai/lib/python3.7/site-packages/sklearn/metrics/classification.py:1437: UndefinedMetricWarning: F-score is ill-defined and being set to 0.0 in labels with no predicted samples.\n",
      "  'precision', 'predicted', average, warn_for)\n",
      "/home/dpalominop/anaconda3/envs/fastai/lib/python3.7/site-packages/sklearn/metrics/classification.py:1437: UndefinedMetricWarning: F-score is ill-defined and being set to 0.0 in labels with no predicted samples.\n",
      "  'precision', 'predicted', average, warn_for)\n",
      "/home/dpalominop/anaconda3/envs/fastai/lib/python3.7/site-packages/sklearn/metrics/classification.py:1437: UndefinedMetricWarning: F-score is ill-defined and being set to 0.0 in labels with no predicted samples.\n",
      "  'precision', 'predicted', average, warn_for)\n",
      "/home/dpalominop/anaconda3/envs/fastai/lib/python3.7/site-packages/sklearn/metrics/classification.py:1437: UndefinedMetricWarning: F-score is ill-defined and being set to 0.0 in labels with no predicted samples.\n",
      "  'precision', 'predicted', average, warn_for)\n",
      "/home/dpalominop/anaconda3/envs/fastai/lib/python3.7/site-packages/sklearn/metrics/classification.py:1439: UndefinedMetricWarning: F-score is ill-defined and being set to 0.0 in labels with no true samples.\n",
      "  'recall', 'true', average, warn_for)\n"
     ]
    }
   ],
   "source": [
    "learn_c.fit_one_cycle(2, lr, moms=(0.8,0.7))"
   ]
  },
  {
   "cell_type": "code",
   "execution_count": 35,
   "metadata": {},
   "outputs": [
    {
     "data": {
      "text/html": [
       "<table border=\"1\" class=\"dataframe\">\n",
       "  <thead>\n",
       "    <tr style=\"text-align: left;\">\n",
       "      <th>epoch</th>\n",
       "      <th>train_loss</th>\n",
       "      <th>valid_loss</th>\n",
       "      <th>accuracy</th>\n",
       "      <th>f1</th>\n",
       "      <th>time</th>\n",
       "    </tr>\n",
       "  </thead>\n",
       "  <tbody>\n",
       "    <tr>\n",
       "      <td>0</td>\n",
       "      <td>1.078472</td>\n",
       "      <td>1.041804</td>\n",
       "      <td>0.581901</td>\n",
       "      <td>0.445707</td>\n",
       "      <td>00:01</td>\n",
       "    </tr>\n",
       "    <tr>\n",
       "      <td>1</td>\n",
       "      <td>0.990572</td>\n",
       "      <td>0.999608</td>\n",
       "      <td>0.594502</td>\n",
       "      <td>0.460305</td>\n",
       "      <td>00:01</td>\n",
       "    </tr>\n",
       "  </tbody>\n",
       "</table>"
      ],
      "text/plain": [
       "<IPython.core.display.HTML object>"
      ]
     },
     "metadata": {},
     "output_type": "display_data"
    },
    {
     "name": "stderr",
     "output_type": "stream",
     "text": [
      "/home/dpalominop/anaconda3/envs/fastai/lib/python3.7/site-packages/sklearn/metrics/classification.py:1437: UndefinedMetricWarning: F-score is ill-defined and being set to 0.0 in labels with no predicted samples.\n",
      "  'precision', 'predicted', average, warn_for)\n",
      "/home/dpalominop/anaconda3/envs/fastai/lib/python3.7/site-packages/sklearn/metrics/classification.py:1437: UndefinedMetricWarning: F-score is ill-defined and being set to 0.0 in labels with no predicted samples.\n",
      "  'precision', 'predicted', average, warn_for)\n",
      "/home/dpalominop/anaconda3/envs/fastai/lib/python3.7/site-packages/sklearn/metrics/classification.py:1437: UndefinedMetricWarning: F-score is ill-defined and being set to 0.0 in labels with no predicted samples.\n",
      "  'precision', 'predicted', average, warn_for)\n",
      "/home/dpalominop/anaconda3/envs/fastai/lib/python3.7/site-packages/sklearn/metrics/classification.py:1437: UndefinedMetricWarning: F-score is ill-defined and being set to 0.0 in labels with no predicted samples.\n",
      "  'precision', 'predicted', average, warn_for)\n",
      "/home/dpalominop/anaconda3/envs/fastai/lib/python3.7/site-packages/sklearn/metrics/classification.py:1437: UndefinedMetricWarning: F-score is ill-defined and being set to 0.0 in labels with no predicted samples.\n",
      "  'precision', 'predicted', average, warn_for)\n",
      "/home/dpalominop/anaconda3/envs/fastai/lib/python3.7/site-packages/sklearn/metrics/classification.py:1437: UndefinedMetricWarning: F-score is ill-defined and being set to 0.0 in labels with no predicted samples.\n",
      "  'precision', 'predicted', average, warn_for)\n",
      "/home/dpalominop/anaconda3/envs/fastai/lib/python3.7/site-packages/sklearn/metrics/classification.py:1437: UndefinedMetricWarning: F-score is ill-defined and being set to 0.0 in labels with no predicted samples.\n",
      "  'precision', 'predicted', average, warn_for)\n",
      "/home/dpalominop/anaconda3/envs/fastai/lib/python3.7/site-packages/sklearn/metrics/classification.py:1437: UndefinedMetricWarning: F-score is ill-defined and being set to 0.0 in labels with no predicted samples.\n",
      "  'precision', 'predicted', average, warn_for)\n",
      "/home/dpalominop/anaconda3/envs/fastai/lib/python3.7/site-packages/sklearn/metrics/classification.py:1437: UndefinedMetricWarning: F-score is ill-defined and being set to 0.0 in labels with no predicted samples.\n",
      "  'precision', 'predicted', average, warn_for)\n",
      "/home/dpalominop/anaconda3/envs/fastai/lib/python3.7/site-packages/sklearn/metrics/classification.py:1437: UndefinedMetricWarning: F-score is ill-defined and being set to 0.0 in labels with no predicted samples.\n",
      "  'precision', 'predicted', average, warn_for)\n",
      "/home/dpalominop/anaconda3/envs/fastai/lib/python3.7/site-packages/sklearn/metrics/classification.py:1439: UndefinedMetricWarning: F-score is ill-defined and being set to 0.0 in labels with no true samples.\n",
      "  'recall', 'true', average, warn_for)\n",
      "/home/dpalominop/anaconda3/envs/fastai/lib/python3.7/site-packages/sklearn/metrics/classification.py:1437: UndefinedMetricWarning: F-score is ill-defined and being set to 0.0 in labels with no predicted samples.\n",
      "  'precision', 'predicted', average, warn_for)\n",
      "/home/dpalominop/anaconda3/envs/fastai/lib/python3.7/site-packages/sklearn/metrics/classification.py:1437: UndefinedMetricWarning: F-score is ill-defined and being set to 0.0 in labels with no predicted samples.\n",
      "  'precision', 'predicted', average, warn_for)\n",
      "/home/dpalominop/anaconda3/envs/fastai/lib/python3.7/site-packages/sklearn/metrics/classification.py:1437: UndefinedMetricWarning: F-score is ill-defined and being set to 0.0 in labels with no predicted samples.\n",
      "  'precision', 'predicted', average, warn_for)\n",
      "/home/dpalominop/anaconda3/envs/fastai/lib/python3.7/site-packages/sklearn/metrics/classification.py:1437: UndefinedMetricWarning: F-score is ill-defined and being set to 0.0 in labels with no predicted samples.\n",
      "  'precision', 'predicted', average, warn_for)\n",
      "/home/dpalominop/anaconda3/envs/fastai/lib/python3.7/site-packages/sklearn/metrics/classification.py:1437: UndefinedMetricWarning: F-score is ill-defined and being set to 0.0 in labels with no predicted samples.\n",
      "  'precision', 'predicted', average, warn_for)\n",
      "/home/dpalominop/anaconda3/envs/fastai/lib/python3.7/site-packages/sklearn/metrics/classification.py:1437: UndefinedMetricWarning: F-score is ill-defined and being set to 0.0 in labels with no predicted samples.\n",
      "  'precision', 'predicted', average, warn_for)\n",
      "/home/dpalominop/anaconda3/envs/fastai/lib/python3.7/site-packages/sklearn/metrics/classification.py:1437: UndefinedMetricWarning: F-score is ill-defined and being set to 0.0 in labels with no predicted samples.\n",
      "  'precision', 'predicted', average, warn_for)\n",
      "/home/dpalominop/anaconda3/envs/fastai/lib/python3.7/site-packages/sklearn/metrics/classification.py:1437: UndefinedMetricWarning: F-score is ill-defined and being set to 0.0 in labels with no predicted samples.\n",
      "  'precision', 'predicted', average, warn_for)\n",
      "/home/dpalominop/anaconda3/envs/fastai/lib/python3.7/site-packages/sklearn/metrics/classification.py:1439: UndefinedMetricWarning: F-score is ill-defined and being set to 0.0 in labels with no true samples.\n",
      "  'recall', 'true', average, warn_for)\n"
     ]
    }
   ],
   "source": [
    "learn_c.freeze_to(-2)\n",
    "learn_c.fit_one_cycle(2, slice(lr/(2.6**4),lr), moms=(0.8,0.7))"
   ]
  },
  {
   "cell_type": "code",
   "execution_count": 36,
   "metadata": {},
   "outputs": [
    {
     "data": {
      "text/html": [
       "<table border=\"1\" class=\"dataframe\">\n",
       "  <thead>\n",
       "    <tr style=\"text-align: left;\">\n",
       "      <th>epoch</th>\n",
       "      <th>train_loss</th>\n",
       "      <th>valid_loss</th>\n",
       "      <th>accuracy</th>\n",
       "      <th>f1</th>\n",
       "      <th>time</th>\n",
       "    </tr>\n",
       "  </thead>\n",
       "  <tbody>\n",
       "    <tr>\n",
       "      <td>0</td>\n",
       "      <td>0.914199</td>\n",
       "      <td>1.018172</td>\n",
       "      <td>0.584192</td>\n",
       "      <td>0.440636</td>\n",
       "      <td>00:02</td>\n",
       "    </tr>\n",
       "    <tr>\n",
       "      <td>1</td>\n",
       "      <td>0.790128</td>\n",
       "      <td>1.018686</td>\n",
       "      <td>0.608247</td>\n",
       "      <td>0.489215</td>\n",
       "      <td>00:02</td>\n",
       "    </tr>\n",
       "  </tbody>\n",
       "</table>"
      ],
      "text/plain": [
       "<IPython.core.display.HTML object>"
      ]
     },
     "metadata": {},
     "output_type": "display_data"
    },
    {
     "name": "stderr",
     "output_type": "stream",
     "text": [
      "/home/dpalominop/anaconda3/envs/fastai/lib/python3.7/site-packages/sklearn/metrics/classification.py:1437: UndefinedMetricWarning: F-score is ill-defined and being set to 0.0 in labels with no predicted samples.\n",
      "  'precision', 'predicted', average, warn_for)\n",
      "/home/dpalominop/anaconda3/envs/fastai/lib/python3.7/site-packages/sklearn/metrics/classification.py:1437: UndefinedMetricWarning: F-score is ill-defined and being set to 0.0 in labels with no predicted samples.\n",
      "  'precision', 'predicted', average, warn_for)\n",
      "/home/dpalominop/anaconda3/envs/fastai/lib/python3.7/site-packages/sklearn/metrics/classification.py:1437: UndefinedMetricWarning: F-score is ill-defined and being set to 0.0 in labels with no predicted samples.\n",
      "  'precision', 'predicted', average, warn_for)\n",
      "/home/dpalominop/anaconda3/envs/fastai/lib/python3.7/site-packages/sklearn/metrics/classification.py:1437: UndefinedMetricWarning: F-score is ill-defined and being set to 0.0 in labels with no predicted samples.\n",
      "  'precision', 'predicted', average, warn_for)\n",
      "/home/dpalominop/anaconda3/envs/fastai/lib/python3.7/site-packages/sklearn/metrics/classification.py:1437: UndefinedMetricWarning: F-score is ill-defined and being set to 0.0 in labels with no predicted samples.\n",
      "  'precision', 'predicted', average, warn_for)\n",
      "/home/dpalominop/anaconda3/envs/fastai/lib/python3.7/site-packages/sklearn/metrics/classification.py:1437: UndefinedMetricWarning: F-score is ill-defined and being set to 0.0 in labels with no predicted samples.\n",
      "  'precision', 'predicted', average, warn_for)\n",
      "/home/dpalominop/anaconda3/envs/fastai/lib/python3.7/site-packages/sklearn/metrics/classification.py:1439: UndefinedMetricWarning: F-score is ill-defined and being set to 0.0 in labels with no true samples.\n",
      "  'recall', 'true', average, warn_for)\n",
      "/home/dpalominop/anaconda3/envs/fastai/lib/python3.7/site-packages/sklearn/metrics/classification.py:1437: UndefinedMetricWarning: F-score is ill-defined and being set to 0.0 in labels with no predicted samples.\n",
      "  'precision', 'predicted', average, warn_for)\n",
      "/home/dpalominop/anaconda3/envs/fastai/lib/python3.7/site-packages/sklearn/metrics/classification.py:1437: UndefinedMetricWarning: F-score is ill-defined and being set to 0.0 in labels with no predicted samples.\n",
      "  'precision', 'predicted', average, warn_for)\n",
      "/home/dpalominop/anaconda3/envs/fastai/lib/python3.7/site-packages/sklearn/metrics/classification.py:1439: UndefinedMetricWarning: F-score is ill-defined and being set to 0.0 in labels with no true samples.\n",
      "  'recall', 'true', average, warn_for)\n"
     ]
    }
   ],
   "source": [
    "learn_c.freeze_to(-3)\n",
    "learn_c.fit_one_cycle(2, slice(lr/2/(2.6**4),lr/2), moms=(0.8,0.7))"
   ]
  },
  {
   "cell_type": "code",
   "execution_count": 37,
   "metadata": {},
   "outputs": [
    {
     "data": {
      "text/html": [
       "<table border=\"1\" class=\"dataframe\">\n",
       "  <thead>\n",
       "    <tr style=\"text-align: left;\">\n",
       "      <th>epoch</th>\n",
       "      <th>train_loss</th>\n",
       "      <th>valid_loss</th>\n",
       "      <th>accuracy</th>\n",
       "      <th>f1</th>\n",
       "      <th>time</th>\n",
       "    </tr>\n",
       "  </thead>\n",
       "  <tbody>\n",
       "    <tr>\n",
       "      <td>0</td>\n",
       "      <td>0.667983</td>\n",
       "      <td>1.064429</td>\n",
       "      <td>0.610538</td>\n",
       "      <td>0.491812</td>\n",
       "      <td>00:03</td>\n",
       "    </tr>\n",
       "  </tbody>\n",
       "</table>"
      ],
      "text/plain": [
       "<IPython.core.display.HTML object>"
      ]
     },
     "metadata": {},
     "output_type": "display_data"
    },
    {
     "name": "stderr",
     "output_type": "stream",
     "text": [
      "/home/dpalominop/anaconda3/envs/fastai/lib/python3.7/site-packages/sklearn/metrics/classification.py:1437: UndefinedMetricWarning: F-score is ill-defined and being set to 0.0 in labels with no predicted samples.\n",
      "  'precision', 'predicted', average, warn_for)\n",
      "/home/dpalominop/anaconda3/envs/fastai/lib/python3.7/site-packages/sklearn/metrics/classification.py:1437: UndefinedMetricWarning: F-score is ill-defined and being set to 0.0 in labels with no predicted samples.\n",
      "  'precision', 'predicted', average, warn_for)\n",
      "/home/dpalominop/anaconda3/envs/fastai/lib/python3.7/site-packages/sklearn/metrics/classification.py:1439: UndefinedMetricWarning: F-score is ill-defined and being set to 0.0 in labels with no true samples.\n",
      "  'recall', 'true', average, warn_for)\n"
     ]
    }
   ],
   "source": [
    "learn_c.unfreeze()\n",
    "learn_c.fit_one_cycle(1, slice(lr/10/(2.6**4),lr/10), moms=(0.8,0.7))"
   ]
  },
  {
   "cell_type": "code",
   "execution_count": 20,
   "metadata": {},
   "outputs": [],
   "source": [
    "learn_c.save(f'{lang}clas_bwd')"
   ]
  },
  {
   "cell_type": "code",
   "execution_count": null,
   "metadata": {},
   "outputs": [],
   "source": []
  },
  {
   "cell_type": "code",
   "execution_count": 21,
   "metadata": {},
   "outputs": [],
   "source": [
    "df = pd.read_csv(path/'test_labels.csv')"
   ]
  },
  {
   "cell_type": "code",
   "execution_count": 22,
   "metadata": {},
   "outputs": [],
   "source": [
    "test_df['label']=df['label'].replace(['N','P','NEU','NONE'],[0,1,2,3])"
   ]
  },
  {
   "cell_type": "code",
   "execution_count": 23,
   "metadata": {},
   "outputs": [
    {
     "data": {
      "text/html": [
       "<div>\n",
       "<style scoped>\n",
       "    .dataframe tbody tr th:only-of-type {\n",
       "        vertical-align: middle;\n",
       "    }\n",
       "\n",
       "    .dataframe tbody tr th {\n",
       "        vertical-align: top;\n",
       "    }\n",
       "\n",
       "    .dataframe thead th {\n",
       "        text-align: right;\n",
       "    }\n",
       "</style>\n",
       "<table border=\"1\" class=\"dataframe\">\n",
       "  <thead>\n",
       "    <tr style=\"text-align: right;\">\n",
       "      <th></th>\n",
       "      <th>label</th>\n",
       "      <th>tweet</th>\n",
       "    </tr>\n",
       "  </thead>\n",
       "  <tbody>\n",
       "    <tr>\n",
       "      <td>0</td>\n",
       "      <td>0</td>\n",
       "      <td>@LonelySoad mientras que no te pillen la prime...</td>\n",
       "    </tr>\n",
       "    <tr>\n",
       "      <td>1</td>\n",
       "      <td>1</td>\n",
       "      <td>@ceemeese ya era hora de volver al csgo y deja...</td>\n",
       "    </tr>\n",
       "    <tr>\n",
       "      <td>2</td>\n",
       "      <td>1</td>\n",
       "      <td>@mireiaescribano justo cuando se terminan las ...</td>\n",
       "    </tr>\n",
       "    <tr>\n",
       "      <td>3</td>\n",
       "      <td>0</td>\n",
       "      <td>@LuisMartinez22_ pensba q iba a hacer @wxplosi...</td>\n",
       "    </tr>\n",
       "    <tr>\n",
       "      <td>4</td>\n",
       "      <td>1</td>\n",
       "      <td>@Vic_Phantomhive Si lo encuentro, sin compañer...</td>\n",
       "    </tr>\n",
       "  </tbody>\n",
       "</table>\n",
       "</div>"
      ],
      "text/plain": [
       "   label                                              tweet\n",
       "0      0  @LonelySoad mientras que no te pillen la prime...\n",
       "1      1  @ceemeese ya era hora de volver al csgo y deja...\n",
       "2      1  @mireiaescribano justo cuando se terminan las ...\n",
       "3      0  @LuisMartinez22_ pensba q iba a hacer @wxplosi...\n",
       "4      1  @Vic_Phantomhive Si lo encuentro, sin compañer..."
      ]
     },
     "execution_count": 23,
     "metadata": {},
     "output_type": "execute_result"
    }
   ],
   "source": [
    "test_df.head()"
   ]
  },
  {
   "cell_type": "code",
   "execution_count": 77,
   "metadata": {},
   "outputs": [],
   "source": [
    "data_clas_bwd = (TextList.from_df(pd.concat([train_df, val_df, gen_df]), path, vocab=data_lm.vocab, cols='tweet')\n",
    "    .split_by_rand_pct(0.1, seed=42)\n",
    "    .label_from_df(cols='label')\n",
    "# .add_test(ItemList.from_df(test_df, path, cols='tweet').split_none().label_from_df(cols='label').databunch())\n",
    "                 .add_test(test_db)    \n",
    "#                  .label_from_df(cols='label')\n",
    ".databunch(bs=bs, num_workers=1, backwards=True))"
   ]
  },
  {
   "cell_type": "code",
   "execution_count": null,
   "metadata": {},
   "outputs": [],
   "source": []
  },
  {
   "cell_type": "code",
   "execution_count": 74,
   "metadata": {},
   "outputs": [
    {
     "data": {
      "text/plain": [
       "1899"
      ]
     },
     "execution_count": 74,
     "metadata": {},
     "output_type": "execute_result"
    }
   ],
   "source": [
    "test_db  = TextList.from_df(test_df, path, cols='tweet')\n",
    "len(test_db)"
   ]
  },
  {
   "cell_type": "code",
   "execution_count": 25,
   "metadata": {},
   "outputs": [],
   "source": [
    "# data_clas_bwd = load_data(path, f'{lang}_textlist_class_bwd', bs=bs, num_workers=1, backwards=True)"
   ]
  },
  {
   "cell_type": "code",
   "execution_count": 59,
   "metadata": {},
   "outputs": [
    {
     "data": {
      "text/plain": [
       "RNNLearner(data=TextClasDataBunch;\n",
       "\n",
       "Train: LabelList (7859 items)\n",
       "x: TextList\n",
       "xxbos -me caes muy bien \n",
       "  xxunk que jugar más partidas al lol con xxmaj xxunk y conmigo \n",
       "  xxunk qué tan xxmaj xxunk , deja de ser xxunk \n",
       "  xxunk si me muero,xxbos xxunk xxunk que puto mal escribo \n",
       " \n",
       "  b. me sigo xxunk help \n",
       " \n",
       "  3 . ha quedado raro el \" xxunk \" ahí xxup jajajaja,xxbos xxunk jajajaja la tuya y la d mucha gente seguro ! ! xxmaj pero yo no puedo sin mi melena me muero,xxbos xxmaj quiero xxunk a xxunk pero sobretodo por lo rápido que contesta a los xxunk,xxbos xxmaj vale he visto la tia xxunk su regla y me xxunk dado xxunk xxunk\n",
       "y: CategoryList\n",
       "3,0,0,1,0\n",
       "Path: /home/dpalominop/.fastai/data/eswiki;\n",
       "\n",
       "Valid: LabelList (873 items)\n",
       "x: TextList\n",
       "xxbos xxmaj salimos hacia xxmaj madrid porque mañana hay parlamento a primera hora . xxmaj por la tarde debate de empleo y mañana xxunk al repago en sanidad .,xxbos xxup gracias . xxmaj por xxunk en # xxunk xxunk medio mundo . xxmaj amigos d xxunk nos xxunk el pasado viernes desde ¡ ¡ xxunk países ! ! # sevillahoy,xxbos xxmaj uff . xxmaj ni idea . xxup rt xxunk : @alejandrosanz donde fue esta foto ? :) http : / / t.co / xxunk,xxbos xxmaj hoy en xxunk xxunk de xxmaj bildu amenaza a sus vecinos por ir contra el proceso xxunk : / / t.co / xxunk vía @larazon_es,xxbos xxunk eso dice mucho de él ... así que nada , xxunk tu tiempo que cuando estés preparado , todo llegará\n",
       "y: CategoryList\n",
       "0,1,3,0,2\n",
       "Path: /home/dpalominop/.fastai/data/eswiki;\n",
       "\n",
       "Test: LabelList (1899 items)\n",
       "x: TextList\n",
       "xxbos xxunk mientras que no te xxunk la primera semana que es cuando tienes la xxunk como un xxunk,xxbos xxunk ya era hora de volver al xxunk y xxunk el xxunk bienvenida,xxbos xxunk justo cuando se xxunk las fiestas de verano , me viene genial,xxbos xxunk _ xxunk q iba a hacer xxunk una xxunk profunda de las q me hace a mi pero,xxbos xxunk xxmaj si lo encuentro , sin compañeros y barato , me iría hasta ahora mismo\n",
       "y: EmptyLabelList\n",
       ",,,,\n",
       "Path: /home/dpalominop/.fastai/data/eswiki, model=SequentialRNN(\n",
       "  (0): MultiBatchEncoder(\n",
       "    (module): AWD_LSTM(\n",
       "      (encoder): Embedding(5576, 400, padding_idx=1)\n",
       "      (encoder_dp): EmbeddingDropout(\n",
       "        (emb): Embedding(5576, 400, padding_idx=1)\n",
       "      )\n",
       "      (rnns): ModuleList(\n",
       "        (0): WeightDropout(\n",
       "          (module): LSTM(400, 1152, batch_first=True)\n",
       "        )\n",
       "        (1): WeightDropout(\n",
       "          (module): LSTM(1152, 1152, batch_first=True)\n",
       "        )\n",
       "        (2): WeightDropout(\n",
       "          (module): LSTM(1152, 400, batch_first=True)\n",
       "        )\n",
       "      )\n",
       "      (input_dp): RNNDropout()\n",
       "      (hidden_dps): ModuleList(\n",
       "        (0): RNNDropout()\n",
       "        (1): RNNDropout()\n",
       "        (2): RNNDropout()\n",
       "      )\n",
       "    )\n",
       "  )\n",
       "  (1): PoolingLinearClassifier(\n",
       "    (layers): Sequential(\n",
       "      (0): BatchNorm1d(1200, eps=1e-05, momentum=0.1, affine=True, track_running_stats=True)\n",
       "      (1): Dropout(p=0.2, inplace=False)\n",
       "      (2): Linear(in_features=1200, out_features=50, bias=True)\n",
       "      (3): ReLU(inplace=True)\n",
       "      (4): BatchNorm1d(50, eps=1e-05, momentum=0.1, affine=True, track_running_stats=True)\n",
       "      (5): Dropout(p=0.1, inplace=False)\n",
       "      (6): Linear(in_features=50, out_features=4, bias=True)\n",
       "    )\n",
       "  )\n",
       "), opt_func=functools.partial(<class 'torch.optim.adam.Adam'>, betas=(0.9, 0.99)), loss_func=FlattenedLoss of CrossEntropyLoss(), metrics=[<function accuracy at 0x7f9d94ef4bf8>, <function f1 at 0x7f9ddf4b9730>], true_wd=True, bn_wd=True, wd=0.01, train_bn=True, path=PosixPath('/home/dpalominop/.fastai/data/eswiki'), model_dir='models', callback_fns=[functools.partial(<class 'fastai.basic_train.Recorder'>, add_time=True, silent=False)], callbacks=[RNNTrainer\n",
       "learn: ...\n",
       "alpha: 2.0\n",
       "beta: 1.0, MixedPrecision\n",
       "learn: ...\n",
       "loss_scale: 65536\n",
       "max_noskip: 1000\n",
       "dynamic: True\n",
       "clip: None\n",
       "flat_master: False\n",
       "max_scale: 16777216], layer_groups=[Sequential(\n",
       "  (0): Embedding(5576, 400, padding_idx=1)\n",
       "  (1): EmbeddingDropout(\n",
       "    (emb): Embedding(5576, 400, padding_idx=1)\n",
       "  )\n",
       "), Sequential(\n",
       "  (0): WeightDropout(\n",
       "    (module): LSTM(400, 1152, batch_first=True)\n",
       "  )\n",
       "  (1): RNNDropout()\n",
       "), Sequential(\n",
       "  (0): WeightDropout(\n",
       "    (module): LSTM(1152, 1152, batch_first=True)\n",
       "  )\n",
       "  (1): RNNDropout()\n",
       "), Sequential(\n",
       "  (0): WeightDropout(\n",
       "    (module): LSTM(1152, 400, batch_first=True)\n",
       "  )\n",
       "  (1): RNNDropout()\n",
       "), Sequential(\n",
       "  (0): PoolingLinearClassifier(\n",
       "    (layers): Sequential(\n",
       "      (0): BatchNorm1d(1200, eps=1e-05, momentum=0.1, affine=True, track_running_stats=True)\n",
       "      (1): Dropout(p=0.2, inplace=False)\n",
       "      (2): Linear(in_features=1200, out_features=50, bias=True)\n",
       "      (3): ReLU(inplace=True)\n",
       "      (4): BatchNorm1d(50, eps=1e-05, momentum=0.1, affine=True, track_running_stats=True)\n",
       "      (5): Dropout(p=0.1, inplace=False)\n",
       "      (6): Linear(in_features=50, out_features=4, bias=True)\n",
       "    )\n",
       "  )\n",
       ")], add_time=True, silent=False, cb_fns_registered=False)"
      ]
     },
     "execution_count": 59,
     "metadata": {},
     "output_type": "execute_result"
    }
   ],
   "source": [
    "learn_c_bwd = text_classifier_learner(data_clas_bwd, AWD_LSTM, drop_mult=0.5, metrics=[accuracy,f1]).to_fp16()\n",
    "learn_c_bwd.load(f'{lang}clas_bwd', purge=False)"
   ]
  },
  {
   "cell_type": "code",
   "execution_count": 68,
   "metadata": {},
   "outputs": [],
   "source": [
    "preds_b,targs_b = learn_c_bwd.get_preds(ds_type=DatasetType.Test, ordered=False)"
   ]
  },
  {
   "cell_type": "code",
   "execution_count": 69,
   "metadata": {},
   "outputs": [
    {
     "data": {
      "text/plain": [
       "1899"
      ]
     },
     "execution_count": 69,
     "metadata": {},
     "output_type": "execute_result"
    }
   ],
   "source": [
    "len(preds_b)"
   ]
  },
  {
   "cell_type": "code",
   "execution_count": 75,
   "metadata": {},
   "outputs": [
    {
     "data": {
      "text/plain": [
       "tensor([[9.1445e-01, 3.2458e-02, 4.3998e-02, 9.0972e-03],\n",
       "        [7.5463e-01, 1.0197e-01, 5.0434e-02, 9.2966e-02],\n",
       "        [7.7005e-01, 1.0163e-01, 7.7711e-02, 5.0617e-02],\n",
       "        [4.0142e-03, 9.2273e-01, 9.3515e-03, 6.3906e-02],\n",
       "        [7.7756e-01, 8.3499e-02, 1.2427e-01, 1.4679e-02],\n",
       "        [7.3476e-01, 7.2009e-02, 8.7029e-02, 1.0620e-01],\n",
       "        [2.6451e-03, 9.8691e-01, 7.6913e-03, 2.7558e-03],\n",
       "        [3.9044e-01, 4.7419e-01, 1.1760e-01, 1.7768e-02],\n",
       "        [5.6709e-01, 6.9948e-02, 1.2342e-01, 2.3954e-01],\n",
       "        [6.6408e-01, 1.1378e-01, 1.8649e-01, 3.5645e-02],\n",
       "        [7.9298e-01, 7.7587e-02, 1.2214e-01, 7.2889e-03],\n",
       "        [9.4747e-01, 2.3440e-03, 1.9607e-02, 3.0583e-02],\n",
       "        [7.2789e-01, 1.9735e-01, 5.3064e-02, 2.1703e-02],\n",
       "        [5.0541e-03, 9.1904e-01, 4.1493e-03, 7.1757e-02],\n",
       "        [6.9498e-01, 7.6747e-02, 1.9271e-01, 3.5560e-02],\n",
       "        [1.8525e-01, 6.5818e-01, 1.0718e-01, 4.9384e-02],\n",
       "        [1.0768e-03, 9.6375e-01, 1.5214e-03, 3.3653e-02],\n",
       "        [2.8803e-01, 4.3392e-01, 1.6955e-01, 1.0849e-01],\n",
       "        [2.1077e-01, 5.4023e-01, 1.5275e-01, 9.6245e-02],\n",
       "        [1.7884e-01, 4.7894e-01, 1.4068e-01, 2.0155e-01],\n",
       "        [3.3354e-01, 2.0872e-01, 1.4888e-01, 3.0885e-01],\n",
       "        [6.5355e-01, 3.8678e-02, 2.7511e-01, 3.2665e-02],\n",
       "        [5.4012e-01, 1.0241e-01, 2.4026e-01, 1.1721e-01],\n",
       "        [1.8342e-04, 9.9783e-01, 9.7619e-04, 1.0072e-03],\n",
       "        [6.4898e-03, 9.3537e-01, 8.9401e-03, 4.9205e-02],\n",
       "        [1.0701e-01, 5.4613e-01, 3.6445e-02, 3.1041e-01],\n",
       "        [1.7432e-02, 9.1752e-01, 6.4420e-02, 6.2786e-04],\n",
       "        [8.0905e-01, 9.8139e-02, 7.2282e-02, 2.0533e-02],\n",
       "        [1.1745e-01, 8.0329e-01, 6.9934e-02, 9.3337e-03],\n",
       "        [2.7936e-02, 9.3055e-01, 1.4006e-02, 2.7503e-02],\n",
       "        [6.1467e-01, 7.5006e-02, 2.5005e-01, 6.0269e-02],\n",
       "        [1.9654e-01, 3.7287e-01, 4.1719e-01, 1.3397e-02],\n",
       "        [3.3438e-02, 8.5819e-01, 3.2001e-02, 7.6373e-02],\n",
       "        [5.2681e-03, 9.6735e-01, 6.7843e-03, 2.0593e-02],\n",
       "        [7.5633e-01, 5.3676e-02, 1.4648e-01, 4.3511e-02],\n",
       "        [3.2446e-01, 4.5267e-01, 1.4829e-01, 7.4585e-02],\n",
       "        [1.7635e-01, 2.8868e-01, 2.1841e-02, 5.1313e-01],\n",
       "        [2.7832e-02, 9.1806e-01, 1.6474e-02, 3.7635e-02],\n",
       "        [6.5436e-01, 1.8686e-01, 6.9612e-02, 8.9166e-02],\n",
       "        [5.1107e-01, 3.6793e-01, 9.7468e-02, 2.3532e-02],\n",
       "        [1.4646e-01, 5.2306e-01, 8.1916e-02, 2.4856e-01],\n",
       "        [4.5899e-01, 2.6799e-01, 8.3997e-02, 1.8903e-01],\n",
       "        [8.5797e-01, 3.0737e-02, 7.0534e-02, 4.0760e-02],\n",
       "        [2.0973e-03, 9.8728e-01, 4.2783e-03, 6.3476e-03],\n",
       "        [4.7099e-01, 1.2388e-01, 3.6325e-01, 4.1885e-02],\n",
       "        [9.3654e-02, 6.6453e-01, 5.7110e-02, 1.8470e-01],\n",
       "        [1.0136e-01, 6.7466e-01, 1.0427e-01, 1.1970e-01],\n",
       "        [2.1360e-02, 5.8298e-01, 4.6420e-03, 3.9101e-01],\n",
       "        [9.6181e-03, 1.3135e-01, 5.8279e-03, 8.5320e-01],\n",
       "        [4.4480e-01, 3.0185e-01, 2.4219e-01, 1.1168e-02],\n",
       "        [7.8634e-01, 5.9376e-02, 1.3329e-01, 2.0996e-02],\n",
       "        [1.6055e-01, 5.0588e-01, 1.6589e-01, 1.6768e-01],\n",
       "        [9.2937e-02, 7.7210e-01, 9.9343e-02, 3.5621e-02],\n",
       "        [5.8641e-03, 9.8043e-01, 6.4028e-03, 7.3051e-03],\n",
       "        [2.5353e-01, 3.7512e-01, 1.5395e-01, 2.1741e-01],\n",
       "        [8.2433e-01, 4.4899e-02, 7.4534e-02, 5.6234e-02],\n",
       "        [5.6862e-01, 8.0884e-02, 1.9370e-01, 1.5679e-01],\n",
       "        [3.8571e-01, 3.8855e-01, 1.2101e-01, 1.0473e-01],\n",
       "        [3.2177e-01, 5.1582e-01, 9.7967e-02, 6.4437e-02],\n",
       "        [3.4538e-01, 4.5047e-01, 1.8096e-01, 2.3185e-02],\n",
       "        [5.3540e-02, 8.5101e-01, 9.3725e-02, 1.7250e-03],\n",
       "        [6.1901e-02, 1.8545e-02, 2.5606e-03, 9.1699e-01],\n",
       "        [4.3172e-04, 9.9641e-01, 3.1085e-03, 4.5237e-05],\n",
       "        [6.4634e-01, 7.0458e-02, 1.4317e-01, 1.4003e-01],\n",
       "        [7.2670e-01, 1.0765e-01, 1.6026e-01, 5.3883e-03],\n",
       "        [8.5569e-01, 9.3690e-02, 4.3677e-02, 6.9411e-03],\n",
       "        [7.2809e-01, 2.2508e-02, 1.5692e-01, 9.2481e-02],\n",
       "        [8.0256e-01, 9.4967e-02, 7.0677e-02, 3.1794e-02],\n",
       "        [4.7357e-01, 1.2896e-01, 2.9405e-01, 1.0342e-01],\n",
       "        [4.9771e-01, 2.6023e-01, 9.0639e-02, 1.5142e-01],\n",
       "        [3.8571e-01, 4.3579e-01, 1.3043e-01, 4.8066e-02],\n",
       "        [8.4114e-01, 4.0254e-02, 9.1146e-02, 2.7464e-02],\n",
       "        [2.9844e-01, 3.3999e-01, 3.1368e-01, 4.7893e-02],\n",
       "        [7.2074e-02, 8.4358e-01, 4.4036e-02, 4.0312e-02],\n",
       "        [1.1393e-02, 7.2511e-01, 1.6545e-02, 2.4695e-01],\n",
       "        [8.0113e-01, 9.6727e-02, 9.3940e-02, 8.1989e-03],\n",
       "        [5.9324e-01, 1.0743e-01, 2.4382e-01, 5.5504e-02],\n",
       "        [1.3619e-01, 5.4527e-01, 8.6358e-02, 2.3218e-01],\n",
       "        [3.8338e-01, 5.0419e-01, 6.8838e-02, 4.3585e-02],\n",
       "        [6.1517e-01, 1.9244e-01, 1.1949e-01, 7.2900e-02],\n",
       "        [8.5913e-02, 7.0440e-01, 1.9299e-01, 1.6696e-02],\n",
       "        [2.2341e-01, 1.7783e-01, 1.2605e-01, 4.7271e-01],\n",
       "        [1.4536e-03, 9.1721e-01, 3.0475e-03, 7.8288e-02],\n",
       "        [6.8157e-01, 5.7218e-02, 1.8688e-01, 7.4335e-02],\n",
       "        [4.1214e-05, 9.9897e-01, 9.8352e-04, 8.5216e-06],\n",
       "        [1.5564e-01, 7.3591e-01, 5.6471e-02, 5.1973e-02],\n",
       "        [8.4888e-01, 4.5631e-02, 9.7548e-02, 7.9410e-03],\n",
       "        [4.7400e-01, 4.3327e-01, 7.7453e-02, 1.5281e-02],\n",
       "        [4.4752e-01, 2.2176e-01, 3.2646e-01, 4.2690e-03],\n",
       "        [4.9589e-01, 1.7046e-01, 5.5205e-02, 2.7844e-01],\n",
       "        [5.3664e-02, 8.6949e-01, 4.9704e-02, 2.7143e-02],\n",
       "        [5.1704e-04, 9.9512e-01, 1.5988e-03, 2.7679e-03],\n",
       "        [8.8311e-01, 7.7127e-02, 2.3511e-02, 1.6254e-02],\n",
       "        [8.1713e-01, 4.1082e-02, 8.7473e-02, 5.4318e-02],\n",
       "        [1.1627e-02, 7.9855e-01, 5.6278e-03, 1.8420e-01],\n",
       "        [2.0646e-01, 4.4504e-01, 1.6884e-01, 1.7966e-01],\n",
       "        [8.5232e-01, 1.5826e-02, 1.0457e-01, 2.7291e-02],\n",
       "        [2.5771e-01, 4.0485e-01, 3.3432e-01, 3.1153e-03],\n",
       "        [7.5002e-03, 9.7373e-01, 1.7782e-02, 9.8669e-04],\n",
       "        [2.9440e-01, 5.4440e-01, 1.5372e-01, 7.4825e-03]])"
      ]
     },
     "execution_count": 75,
     "metadata": {},
     "output_type": "execute_result"
    }
   ],
   "source": [
    "preds_b[:100]"
   ]
  },
  {
   "cell_type": "code",
   "execution_count": 72,
   "metadata": {},
   "outputs": [
    {
     "data": {
      "text/plain": [
       "tensor([0, 0, 0, 0, 0, 0, 0, 0, 0, 0, 0, 0, 0, 0, 0, 0, 0, 0, 0, 0, 0, 0, 0, 0,\n",
       "        0, 0, 0, 0, 0, 0, 0, 0, 0, 0, 0, 0, 0, 0, 0, 0, 0, 0, 0, 0, 0, 0, 0, 0,\n",
       "        0, 0, 0, 0, 0, 0, 0, 0, 0, 0, 0, 0, 0, 0, 0, 0, 0, 0, 0, 0, 0, 0, 0, 0,\n",
       "        0, 0, 0, 0, 0, 0, 0, 0, 0, 0, 0, 0, 0, 0, 0, 0, 0, 0, 0, 0, 0, 0, 0, 0,\n",
       "        0, 0, 0, 0, 0, 0, 0, 0, 0, 0, 0, 0, 0, 0, 0, 0, 0, 0, 0, 0, 0, 0, 0, 0,\n",
       "        0, 0, 0, 0, 0, 0, 0, 0, 0, 0, 0, 0, 0, 0, 0, 0, 0, 0, 0, 0, 0, 0, 0, 0,\n",
       "        0, 0, 0, 0, 0, 0, 0, 0, 0, 0, 0, 0, 0, 0, 0, 0, 0, 0, 0, 0, 0, 0, 0, 0,\n",
       "        0, 0, 0, 0, 0, 0, 0, 0, 0, 0, 0, 0, 0, 0, 0, 0, 0, 0, 0, 0, 0, 0, 0, 0,\n",
       "        0, 0, 0, 0, 0, 0, 0, 0, 0, 0, 0, 0, 0, 0, 0, 0, 0, 0, 0, 0, 0, 0, 0, 0,\n",
       "        0, 0, 0, 0, 0, 0, 0, 0, 0, 0, 0, 0, 0, 0, 0, 0, 0, 0, 0, 0, 0, 0, 0, 0,\n",
       "        0, 0, 0, 0, 0, 0, 0, 0, 0, 0, 0, 0, 0, 0, 0, 0, 0, 0, 0, 0, 0, 0, 0, 0,\n",
       "        0, 0, 0, 0, 0, 0, 0, 0, 0, 0, 0, 0, 0, 0, 0, 0, 0, 0, 0, 0, 0, 0, 0, 0,\n",
       "        0, 0, 0, 0, 0, 0, 0, 0, 0, 0, 0, 0, 0, 0, 0, 0, 0, 0, 0, 0, 0, 0, 0, 0,\n",
       "        0, 0, 0, 0, 0, 0, 0, 0, 0, 0, 0, 0, 0, 0, 0, 0, 0, 0, 0, 0, 0, 0, 0, 0,\n",
       "        0, 0, 0, 0, 0, 0, 0, 0, 0, 0, 0, 0, 0, 0, 0, 0, 0, 0, 0, 0, 0, 0, 0, 0,\n",
       "        0, 0, 0, 0, 0, 0, 0, 0, 0, 0, 0, 0, 0, 0, 0, 0, 0, 0, 0, 0, 0, 0, 0, 0,\n",
       "        0, 0, 0, 0, 0, 0, 0, 0, 0, 0, 0, 0, 0, 0, 0, 0, 0, 0, 0, 0, 0, 0, 0, 0,\n",
       "        0, 0, 0, 0, 0, 0, 0, 0, 0, 0, 0, 0, 0, 0, 0, 0, 0, 0, 0, 0, 0, 0, 0, 0,\n",
       "        0, 0, 0, 0, 0, 0, 0, 0, 0, 0, 0, 0, 0, 0, 0, 0, 0, 0, 0, 0, 0, 0, 0, 0,\n",
       "        0, 0, 0, 0, 0, 0, 0, 0, 0, 0, 0, 0, 0, 0, 0, 0, 0, 0, 0, 0, 0, 0, 0, 0,\n",
       "        0, 0, 0, 0, 0, 0, 0, 0, 0, 0, 0, 0, 0, 0, 0, 0, 0, 0, 0, 0, 0, 0, 0, 0,\n",
       "        0, 0, 0, 0, 0, 0, 0, 0, 0, 0, 0, 0, 0, 0, 0, 0, 0, 0, 0, 0, 0, 0, 0, 0,\n",
       "        0, 0, 0, 0, 0, 0, 0, 0, 0, 0, 0, 0, 0, 0, 0, 0, 0, 0, 0, 0, 0, 0, 0, 0,\n",
       "        0, 0, 0, 0, 0, 0, 0, 0, 0, 0, 0, 0, 0, 0, 0, 0, 0, 0, 0, 0, 0, 0, 0, 0,\n",
       "        0, 0, 0, 0, 0, 0, 0, 0, 0, 0, 0, 0, 0, 0, 0, 0, 0, 0, 0, 0, 0, 0, 0, 0,\n",
       "        0, 0, 0, 0, 0, 0, 0, 0, 0, 0, 0, 0, 0, 0, 0, 0, 0, 0, 0, 0, 0, 0, 0, 0,\n",
       "        0, 0, 0, 0, 0, 0, 0, 0, 0, 0, 0, 0, 0, 0, 0, 0, 0, 0, 0, 0, 0, 0, 0, 0,\n",
       "        0, 0, 0, 0, 0, 0, 0, 0, 0, 0, 0, 0, 0, 0, 0, 0, 0, 0, 0, 0, 0, 0, 0, 0,\n",
       "        0, 0, 0, 0, 0, 0, 0, 0, 0, 0, 0, 0, 0, 0, 0, 0, 0, 0, 0, 0, 0, 0, 0, 0,\n",
       "        0, 0, 0, 0, 0, 0, 0, 0, 0, 0, 0, 0, 0, 0, 0, 0, 0, 0, 0, 0, 0, 0, 0, 0,\n",
       "        0, 0, 0, 0, 0, 0, 0, 0, 0, 0, 0, 0, 0, 0, 0, 0, 0, 0, 0, 0, 0, 0, 0, 0,\n",
       "        0, 0, 0, 0, 0, 0, 0, 0, 0, 0, 0, 0, 0, 0, 0, 0, 0, 0, 0, 0, 0, 0, 0, 0,\n",
       "        0, 0, 0, 0, 0, 0, 0, 0, 0, 0, 0, 0, 0, 0, 0, 0, 0, 0, 0, 0, 0, 0, 0, 0,\n",
       "        0, 0, 0, 0, 0, 0, 0, 0, 0, 0, 0, 0, 0, 0, 0, 0, 0, 0, 0, 0, 0, 0, 0, 0,\n",
       "        0, 0, 0, 0, 0, 0, 0, 0, 0, 0, 0, 0, 0, 0, 0, 0, 0, 0, 0, 0, 0, 0, 0, 0,\n",
       "        0, 0, 0, 0, 0, 0, 0, 0, 0, 0, 0, 0, 0, 0, 0, 0, 0, 0, 0, 0, 0, 0, 0, 0,\n",
       "        0, 0, 0, 0, 0, 0, 0, 0, 0, 0, 0, 0, 0, 0, 0, 0, 0, 0, 0, 0, 0, 0, 0, 0,\n",
       "        0, 0, 0, 0, 0, 0, 0, 0, 0, 0, 0, 0, 0, 0, 0, 0, 0, 0, 0, 0, 0, 0, 0, 0,\n",
       "        0, 0, 0, 0, 0, 0, 0, 0, 0, 0, 0, 0, 0, 0, 0, 0, 0, 0, 0, 0, 0, 0, 0, 0,\n",
       "        0, 0, 0, 0, 0, 0, 0, 0, 0, 0, 0, 0, 0, 0, 0, 0, 0, 0, 0, 0, 0, 0, 0, 0,\n",
       "        0, 0, 0, 0, 0, 0, 0, 0, 0, 0, 0, 0, 0, 0, 0, 0, 0, 0, 0, 0, 0, 0, 0, 0,\n",
       "        0, 0, 0, 0, 0, 0, 0, 0, 0, 0, 0, 0, 0, 0, 0, 0])"
      ]
     },
     "execution_count": 72,
     "metadata": {},
     "output_type": "execute_result"
    }
   ],
   "source": [
    "targs_b[:1000]"
   ]
  },
  {
   "cell_type": "code",
   "execution_count": 83,
   "metadata": {},
   "outputs": [
    {
     "data": {
      "text/plain": [
       "(tensor(0.3407), tensor(0.2423))"
      ]
     },
     "execution_count": 83,
     "metadata": {},
     "output_type": "execute_result"
    }
   ],
   "source": [
    "accuracy(preds_b,targs_b),f1(preds_b,targs_b)"
   ]
  },
  {
   "cell_type": "code",
   "execution_count": null,
   "metadata": {},
   "outputs": [],
   "source": [
    "preds_b,targs_b = learn_c_bwd.get_preds(ordered=True)\n",
    "accuracy(preds_b,targs_b),f1(preds_b,targs_b)"
   ]
  },
  {
   "cell_type": "code",
   "execution_count": 43,
   "metadata": {},
   "outputs": [
    {
     "data": {
      "text/plain": [
       "7859"
      ]
     },
     "execution_count": 43,
     "metadata": {},
     "output_type": "execute_result"
    }
   ],
   "source": [
    "len(preds_b)"
   ]
  },
  {
   "cell_type": "code",
   "execution_count": 82,
   "metadata": {},
   "outputs": [],
   "source": [
    "targs_b = tensor(test_df['label'].to_numpy())"
   ]
  },
  {
   "cell_type": "code",
   "execution_count": 84,
   "metadata": {},
   "outputs": [
    {
     "data": {
      "text/plain": [
       "tensor([0, 1, 1,  ..., 0, 0, 0])"
      ]
     },
     "execution_count": 84,
     "metadata": {},
     "output_type": "execute_result"
    }
   ],
   "source": [
    "targs_b"
   ]
  },
  {
   "cell_type": "code",
   "execution_count": null,
   "metadata": {},
   "outputs": [],
   "source": []
  }
 ],
 "metadata": {
  "kernelspec": {
   "display_name": "Python 3",
   "language": "python",
   "name": "python3"
  },
  "language_info": {
   "codemirror_mode": {
    "name": "ipython",
    "version": 3
   },
   "file_extension": ".py",
   "mimetype": "text/x-python",
   "name": "python",
   "nbconvert_exporter": "python",
   "pygments_lexer": "ipython3",
   "version": "3.7.3"
  }
 },
 "nbformat": 4,
 "nbformat_minor": 4
}
