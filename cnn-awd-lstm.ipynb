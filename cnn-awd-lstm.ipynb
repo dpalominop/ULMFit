{
 "cells": [
  {
   "cell_type": "markdown",
   "metadata": {},
   "source": [
    "# Sentiment Analysis usando Deep Learning para español en textos cortos"
   ]
  },
  {
   "cell_type": "markdown",
   "metadata": {},
   "source": [
    "# 1. Data Cleaning "
   ]
  },
  {
   "cell_type": "markdown",
   "metadata": {},
   "source": [
    "We work on a dataset of tweets labelled as positive or negative, more information about the dataset \n",
    "can be found on http://www.sepln.org/workshops/tass/. "
   ]
  },
  {
   "cell_type": "markdown",
   "metadata": {},
   "source": [
    "# 2. Vocabulary"
   ]
  },
  {
   "cell_type": "markdown",
   "metadata": {},
   "source": [
    "## 2.2 Getting train, validation and test subsets"
   ]
  },
  {
   "cell_type": "code",
   "execution_count": 1,
   "metadata": {},
   "outputs": [],
   "source": [
    "import lib.xmlreader as xml\n",
    "import lib.utils as ut\n",
    "import numpy as np\n",
    "import pandas as pd\n",
    "from sklearn.feature_extraction.text import CountVectorizer\n",
    "import gensim.models.word2vec"
   ]
  },
  {
   "cell_type": "markdown",
   "metadata": {},
   "source": [
    "# New Getting Datasets"
   ]
  },
  {
   "cell_type": "code",
   "execution_count": 2,
   "metadata": {},
   "outputs": [],
   "source": [
    "%reload_ext autoreload\n",
    "%autoreload 2\n",
    "%matplotlib inline\n",
    "\n",
    "import sys\n",
    "import os\n",
    "sys.path.insert(0, os.getcwd()+'/fastai/')\n",
    "from fastai.text import *\n",
    "import html\n",
    "import json\n",
    "\n",
    "import pandas as pd\n",
    "import numpy as np\n",
    "from google_drive_downloader import GoogleDriveDownloader as gdd\n",
    "from sklearn.model_selection import train_test_split\n",
    "from sklearn.metrics import f1_score, confusion_matrix\n",
    "\n",
    "np.random.seed(52)"
   ]
  },
  {
   "cell_type": "code",
   "execution_count": 3,
   "metadata": {},
   "outputs": [],
   "source": [
    "YEAR='2017'\n",
    "DATA_PATH=Path('./DATA/'+YEAR)\n",
    "# DATA_PATH=Path('./data/election_tweets')\n",
    "\n",
    "WIKILM_PATH=Path('./WIKI_LM/es/models')\n",
    "PRE_FINETUNE_PATH=Path('./FINETUNE/'+YEAR)\n",
    "\n",
    "TWEETSLM_PATH=Path('./TWEETS_LM/'+YEAR)\n",
    "CLAS_PATH=Path('./TWEETS_CLAS/'+YEAR)\n",
    "\n",
    "BOS = 'xbos'  # beginning-of-sentence tag\n",
    "FLD = 'xfld'  # data field tag"
   ]
  },
  {
   "cell_type": "code",
   "execution_count": 4,
   "metadata": {},
   "outputs": [],
   "source": [
    "def flattern(A):\n",
    "    'Source: https://stackoverflow.com/a/17867797/7273299'\n",
    "    \n",
    "    'Flattens a list of lists and strings into a list.'\n",
    "    rt = []\n",
    "    for i in A:\n",
    "        if isinstance(i,list): rt.extend(flattern(i))\n",
    "        else: rt.append(i)\n",
    "    return rt\n",
    "\n",
    "def isInt(v):\n",
    "    'Source: https://stackoverflow.com/a/9859202/7273299'\n",
    "    \n",
    "    'Checks if a string is a number.'\n",
    "    try:     i = int(v)\n",
    "    except:  return False\n",
    "    return True\n",
    "\n",
    "def char_count(word, chars, lbound=2):\n",
    "    char_count = [word.count(char) for char in chars]\n",
    "    return all(i >= lbound for i in char_count)\n",
    "\n",
    "def replace_lol(repl_str, texts):\n",
    "    for string, chars in repl_str:\n",
    "        texts = [[[string] if char_count(i, set(chars), 2) else i for i in text.split()] for text in texts]\n",
    "        texts = np.array([flattern(text) for text in texts])\n",
    "        texts = np.array([' '.join(text) for text in texts])\n",
    "    return texts\n",
    "\n",
    "import unicodedata\n",
    "\n",
    "def strip_accents(text):\n",
    "    \"\"\"\n",
    "    Strip accents from input String.\n",
    "\n",
    "    :param text: The input string.\n",
    "    :type text: String.\n",
    "\n",
    "    :returns: The processed String.\n",
    "    :rtype: String.\n",
    "    \"\"\"\n",
    "    try:\n",
    "        text = unicode(text, 'utf-8')\n",
    "    except (TypeError, NameError): # unicode is a default on python 3 \n",
    "        pass\n",
    "    text = unicodedata.normalize('NFD', text)\n",
    "    text = text.encode('ascii', 'ignore')\n",
    "    text = text.decode(\"utf-8\")\n",
    "    return str(text)\n",
    "\n",
    "def preprocess_tweets(tweets):\n",
    "    \"\"\"\n",
    "    twitter specific text processing and shuffle\n",
    "    \"\"\"\n",
    "    # Remove \\n\n",
    "    tweets = np.array([str(i).replace('\\n','. ') for i in tweets])\n",
    "    tweets = np.array([str(i).replace('&lt;',' ') for i in tweets])\n",
    "    tweets = np.array([str(i).replace('&gt;',' ') for i in tweets])\n",
    "    tweets = np.array([str(i).replace('\\xa0',' ') for i in tweets])\n",
    "    \n",
    "    # Remove accents\n",
    "    tweets = np.array([strip_accents(i) for i in tweets])\n",
    "    \n",
    "    # Placeholders for hyperlinks and user references\n",
    "    tweets = [['hyp_link' if i.startswith('http') \n",
    "               else 'hyp_link' if i.startswith('.http') \n",
    "               else 'user_ref' if i.startswith('@')\n",
    "               else 'hash_tag' if i.startswith('#')\n",
    "               else i for i in tweet.split()] for tweet in tweets]\n",
    "    tweets = np.array([' '.join(i) for i in tweets])\n",
    "\n",
    "    # Prefix for integers\n",
    "    tweets = [[['int_string'] if isInt(i) \n",
    "               else i for i in tweet.split()] for tweet in tweets]\n",
    "    tweets = np.array([flattern(tweet) for tweet in tweets])\n",
    "    tweets = np.array([' '.join(i) for i in tweets])\n",
    "\n",
    "    # Prefix for slang\n",
    "    tweets = [[['que'] if i in ['q', 'k', 'qu', 'ke', 'qe'] \n",
    "               else ['por'] if i=='x' \n",
    "               else ['porque'] if i in ['xq', 'pq', 'porq'] \n",
    "               else ['de'] if i=='d' \n",
    "               else ['te'] if i=='t'\n",
    "               else ['también'] if i=='tb'\n",
    "               else ['Que'] if i in ['Q', 'K', 'Qu','Ke', 'Qe'] \n",
    "               else ['Por'] if i=='X'\n",
    "               else ['Porque'] if i in ['Xq', 'Pq', 'Porq'] \n",
    "               else ['De'] if i=='D' \n",
    "               else ['Te'] if i=='T'\n",
    "               else ['También'] if i=='Tb'\n",
    "               else i for i in tweet.split()] for tweet in tweets]\n",
    "    tweets = np.array([flattern(tweet) for tweet in tweets])\n",
    "    tweets = np.array([' '.join(i) for i in tweets])\n",
    "\n",
    "    # Lol type characters\n",
    "    repl_str = [('risa_ja','ja'), ('risa_ji','ji'), ('risa_je','je'), ('risa_jo','jo'), ('risa_ju', 'ju'),\n",
    "               ('risa_ja','aj'), ('risa_ji','ij'), ('risa_ju', 'uj'), ('risa_ja', 'lol')]\n",
    "\n",
    "    # Adding prefix to lol type characters\n",
    "    tweets = replace_lol(repl_str, tweets)\n",
    "\n",
    "    return tweets\n"
   ]
  },
  {
   "cell_type": "code",
   "execution_count": 5,
   "metadata": {},
   "outputs": [],
   "source": [
    "#!python -m spacy download es\n",
    "import spacy\n",
    "spacy.prefer_gpu()\n",
    "re1 = re.compile(r'  +')\n",
    "\n",
    "def fixup(x):\n",
    "    x = x.replace('#39;', \"'\").replace('amp;', '&').replace('#146;', \"'\").replace(\n",
    "        'nbsp;', ' ').replace('#36;', '$').replace('\\\\n', \"\\n\").replace('quot;', \"'\").replace(\n",
    "        '<br />', \"\\n\").replace('\\\\\"', '\"').replace('<unk>','u_n').replace(' @.@ ','.').replace(\n",
    "        ' @-@ ','-').replace('\\\\', ' \\\\ ')\n",
    "    return re1.sub(' ', html.unescape(x))\n",
    "\n",
    "def get_texts(df):\n",
    "    labels = df[0].values.astype(np.int64)\n",
    "    texts = f'{BOS} ' + df[1].astype(str)\n",
    "    texts = texts.apply(fixup).values.astype(str)\n",
    "\n",
    "    tok = Tokenizer(lang='es').proc_all_mp(partition_by_cores(texts), lang='es')\n",
    "    return tok, list(labels)\n",
    "\n",
    "def get_all(df):\n",
    "    tok, labels = [], []\n",
    "    tok_, labels_ = get_texts(df)\n",
    "    tok += tok_;\n",
    "    labels += labels_\n",
    "    return tok, labels"
   ]
  },
  {
   "cell_type": "code",
   "execution_count": 6,
   "metadata": {},
   "outputs": [],
   "source": [
    "df_trn = pd.read_csv(DATA_PATH/'train.csv', header=None)\n",
    "df_val = pd.read_csv(DATA_PATH/'validation.csv', header=None)\n",
    "df_tst = pd.read_csv(DATA_PATH/'test.csv', header=None)\n",
    "df_gen = pd.read_csv(DATA_PATH/'general.csv', header=None)"
   ]
  },
  {
   "cell_type": "code",
   "execution_count": 7,
   "metadata": {},
   "outputs": [
    {
     "data": {
      "text/plain": [
       "array([[3,\n",
       "        '-Me caes muy bien \\n-Tienes que jugar más partidas al lol con Russel y conmigo\\n-Por qué tan Otako, deja de ser otako\\n-Haber si me muero'],\n",
       "       [0,\n",
       "        '@myendlesshazza a. que puto mal escribo\\n\\nb. me sigo surrando help \\n\\n3. ha quedado raro el \"cómetelo\" ahí JAJAJAJA'],\n",
       "       [0,\n",
       "        '@estherct209 jajajaja la tuya y la d mucha gente seguro!! Pero yo no puedo sin mi melena me muero '],\n",
       "       [1, 'Quiero mogollón a @AlbaBenito99 pero sobretodo por lo rápido que contesta a los wasaps '],\n",
       "       [0, 'Vale he visto la tia bebiendose su regla y me hs dado muchs grima ']], dtype=object)"
      ]
     },
     "execution_count": 7,
     "metadata": {},
     "output_type": "execute_result"
    }
   ],
   "source": [
    "tweets_trn = np.concatenate([df_trn.values, df_gen.values]) #df_gen[df_gen[0]==2].values, df_gen[df_gen[0]==3].values]) #, df_gen.values])\n",
    "tweets_val = np.concatenate([df_val.values])\n",
    "tweets_tst = np.concatenate([df_tst.values])\n",
    "del df_trn, df_val, df_tst, df_gen\n",
    "\n",
    "tweets_trn[:5]"
   ]
  },
  {
   "cell_type": "code",
   "execution_count": 8,
   "metadata": {},
   "outputs": [],
   "source": [
    "tweets_trn[:,1] = preprocess_tweets(tweets_trn[:,1])\n",
    "tweets_val[:,1] = preprocess_tweets(tweets_val[:,1])\n",
    "tweets_tst[:,1] = preprocess_tweets(tweets_tst[:,1])"
   ]
  },
  {
   "cell_type": "code",
   "execution_count": 9,
   "metadata": {},
   "outputs": [],
   "source": [
    "col_names = ['label', 'tweet']\n",
    "\n",
    "df_trn = pd.DataFrame({'tweet':tweets_trn[:,1], 'label':tweets_trn[:,0]}, columns=col_names)\n",
    "df_val = pd.DataFrame({'tweet':tweets_val[:,1], 'label':tweets_val[:,0]}, columns=col_names)\n",
    "df_tst = pd.DataFrame({'tweet':tweets_tst[:,1], 'label':tweets_tst[:,0]}, columns=col_names)\n",
    "\n",
    "del tweets_trn, tweets_val, tweets_tst"
   ]
  },
  {
   "cell_type": "code",
   "execution_count": 10,
   "metadata": {},
   "outputs": [
    {
     "name": "stdout",
     "output_type": "stream",
     "text": [
      "1    3202\n",
      "0    2600\n",
      "3    1621\n",
      "2     803\n",
      "Name: label, dtype: int64\n",
      "0    219\n",
      "1    156\n",
      "2     69\n",
      "3     62\n",
      "Name: label, dtype: int64\n",
      "Series([], Name: label, dtype: int64)\n"
     ]
    }
   ],
   "source": [
    "print(df_trn['label'].value_counts())\n",
    "print(df_val['label'].value_counts())\n",
    "print(df_tst['label'].value_counts())"
   ]
  },
  {
   "cell_type": "code",
   "execution_count": 11,
   "metadata": {},
   "outputs": [
    {
     "name": "stdout",
     "output_type": "stream",
     "text": [
      "3    3202\n",
      "2    3202\n",
      "1    3202\n",
      "0    3202\n",
      "Name: label, dtype: int64\n",
      "0    219\n",
      "1    156\n",
      "2     69\n",
      "3     62\n",
      "Name: label, dtype: int64\n",
      "Series([], Name: label, dtype: int64)\n"
     ]
    }
   ],
   "source": [
    "def balance_df(df):\n",
    "    lst = [df]\n",
    "    max_size = df['label'].value_counts().max()\n",
    "    for class_index, group in df.groupby('label'):\n",
    "        lst.append(group.sample(max_size-len(group), replace=True))\n",
    "    df = pd.concat(lst)\n",
    "    return df\n",
    "\n",
    "df_trn = balance_df(df_trn)\n",
    "# df_val = balance_df(df_val)\n",
    "\n",
    "print(df_trn['label'].value_counts())\n",
    "print(df_val['label'].value_counts())\n",
    "print(df_tst['label'].value_counts())"
   ]
  },
  {
   "cell_type": "code",
   "execution_count": 12,
   "metadata": {},
   "outputs": [],
   "source": [
    "df_trn.to_csv(CLAS_PATH/'train.csv', header=False, index=False)\n",
    "df_val.to_csv(CLAS_PATH/'validation.csv', header=False, index=False)\n",
    "df_tst.to_csv(CLAS_PATH/'test.csv', header=False, index=False)\n",
    "df_trn.shape, df_val.shape\n",
    "\n",
    "del df_trn, df_val, df_tst"
   ]
  },
  {
   "cell_type": "markdown",
   "metadata": {},
   "source": [
    "## Classifier tokens"
   ]
  },
  {
   "cell_type": "code",
   "execution_count": 13,
   "metadata": {},
   "outputs": [],
   "source": [
    "df_trn = pd.read_csv(CLAS_PATH/'train.csv', header=None)\n",
    "df_val = pd.read_csv(CLAS_PATH/'validation.csv', header=None)\n",
    "df_tst = pd.read_csv(CLAS_PATH/'test.csv', header=None)"
   ]
  },
  {
   "cell_type": "code",
   "execution_count": 14,
   "metadata": {},
   "outputs": [],
   "source": [
    "tok_trn, trn_labels = get_all(df_trn)\n",
    "tok_val, val_labels = get_all(df_val)\n",
    "tok_tst, tst_labels = get_all(df_tst)"
   ]
  },
  {
   "cell_type": "code",
   "execution_count": 15,
   "metadata": {},
   "outputs": [],
   "source": [
    "(CLAS_PATH/'tmp').mkdir(exist_ok=True)"
   ]
  },
  {
   "cell_type": "code",
   "execution_count": 16,
   "metadata": {},
   "outputs": [],
   "source": [
    "np.save(CLAS_PATH/'tmp'/'tok_trn.npy', tok_trn)\n",
    "np.save(CLAS_PATH/'tmp'/'tok_val.npy', tok_val)\n",
    "np.save(CLAS_PATH/'tmp'/'tok_tst.npy', tok_tst)"
   ]
  },
  {
   "cell_type": "code",
   "execution_count": 17,
   "metadata": {},
   "outputs": [],
   "source": [
    "np.save(CLAS_PATH/'tmp'/'trn_labels.npy', trn_labels)\n",
    "np.save(CLAS_PATH/'tmp'/'val_labels.npy', val_labels)\n",
    "# np.save(CLAS_PATH/'tmp'/'tst_labels.npy', tst_labels)\n",
    "\n",
    "# df = pd.read_csv(CLAS_PATH/'test_labels.csv')\n",
    "# df['label']=df['label'].replace(['N','P','NEU','NONE'],[0,1,2,3])\n",
    "# np.save(CLAS_PATH/'tmp'/'tst_labels.npy', df['label'].values)"
   ]
  },
  {
   "cell_type": "code",
   "execution_count": 18,
   "metadata": {},
   "outputs": [],
   "source": [
    "tok_trn = np.load(CLAS_PATH/'tmp'/'tok_trn.npy')\n",
    "tok_val = np.load(CLAS_PATH/'tmp'/'tok_val.npy')\n",
    "tok_tst = np.load(CLAS_PATH/'tmp'/'tok_tst.npy')"
   ]
  },
  {
   "cell_type": "code",
   "execution_count": 19,
   "metadata": {},
   "outputs": [
    {
     "data": {
      "text/plain": [
       "40113"
      ]
     },
     "execution_count": 19,
     "metadata": {},
     "output_type": "execute_result"
    }
   ],
   "source": [
    "itos = pickle.load((TWEETSLM_PATH/'tmp'/'itos.pkl').open('rb'))\n",
    "stoi = collections.defaultdict(lambda:0, {v:k for k,v in enumerate(itos)})\n",
    "len(itos)"
   ]
  },
  {
   "cell_type": "code",
   "execution_count": 20,
   "metadata": {},
   "outputs": [],
   "source": [
    "trn_clas = np.array([[stoi[o] for o in p] for p in tok_trn])\n",
    "val_clas = np.array([[stoi[o] for o in p] for p in tok_val])\n",
    "tst_clas = np.array([[stoi[o] for o in p] for p in tok_tst])"
   ]
  },
  {
   "cell_type": "code",
   "execution_count": 21,
   "metadata": {},
   "outputs": [],
   "source": [
    "np.save(CLAS_PATH/'tmp'/'trn_ids.npy', trn_clas)\n",
    "np.save(CLAS_PATH/'tmp'/'val_ids.npy', val_clas)\n",
    "np.save(CLAS_PATH/'tmp'/'tst_ids.npy', tst_clas)"
   ]
  },
  {
   "cell_type": "markdown",
   "metadata": {},
   "source": [
    "## Charge Token and Embedding"
   ]
  },
  {
   "cell_type": "code",
   "execution_count": 22,
   "metadata": {},
   "outputs": [],
   "source": [
    "trn_clas = np.load(CLAS_PATH/'tmp'/'trn_ids.npy')\n",
    "val_clas = np.load(CLAS_PATH/'tmp'/'val_ids.npy')\n",
    "trn_labels = np.squeeze(np.load(CLAS_PATH/'tmp'/'trn_labels.npy'))\n",
    "val_labels = np.squeeze(np.load(CLAS_PATH/'tmp'/'val_labels.npy'))\n",
    "\n",
    "tst_clas = np.load(CLAS_PATH/'tmp/tst_ids.npy')\n",
    "tst_labels = np.load(CLAS_PATH/'tmp/tst_labels.npy').flatten()\n",
    "\n",
    "itos = pickle.load((TWEETSLM_PATH/'tmp'/'itos.pkl').open('rb'))\n",
    "stoi = collections.defaultdict(lambda:0, {v:k for k,v in enumerate(itos)})"
   ]
  },
  {
   "cell_type": "code",
   "execution_count": 23,
   "metadata": {},
   "outputs": [
    {
     "name": "stdout",
     "output_type": "stream",
     "text": [
      "(12808,)\n",
      "(506,)\n"
     ]
    }
   ],
   "source": [
    "print(trn_clas.shape)\n",
    "print(val_clas.shape)"
   ]
  },
  {
   "cell_type": "code",
   "execution_count": 24,
   "metadata": {},
   "outputs": [
    {
     "data": {
      "text/plain": [
       "28"
      ]
     },
     "execution_count": 24,
     "metadata": {},
     "output_type": "execute_result"
    }
   ],
   "source": [
    "len(trn_clas[1])"
   ]
  },
  {
   "cell_type": "code",
   "execution_count": 25,
   "metadata": {},
   "outputs": [],
   "source": [
    "BACKBONE_MODEL = TWEETSLM_PATH/'models/lm3_wgts.h5'"
   ]
  },
  {
   "cell_type": "code",
   "execution_count": 26,
   "metadata": {},
   "outputs": [],
   "source": [
    "wgts = torch.load(BACKBONE_MODEL, map_location=lambda storage, loc: storage)"
   ]
  },
  {
   "cell_type": "code",
   "execution_count": 27,
   "metadata": {},
   "outputs": [],
   "source": [
    "embedding_matrix = to_np(wgts['0.encoder.weight'])\n",
    "row_m = embedding_matrix.mean(0)"
   ]
  },
  {
   "cell_type": "code",
   "execution_count": 28,
   "metadata": {},
   "outputs": [
    {
     "name": "stdout",
     "output_type": "stream",
     "text": [
      "(40113, 400)\n",
      "torch.Size([40113, 400])\n"
     ]
    }
   ],
   "source": [
    "print(embedding_matrix.shape)\n",
    "print(wgts['1.decoder.weight'].shape)"
   ]
  },
  {
   "cell_type": "markdown",
   "metadata": {},
   "source": [
    "# 3. Preparing Data"
   ]
  },
  {
   "cell_type": "code",
   "execution_count": 31,
   "metadata": {},
   "outputs": [
    {
     "data": {
      "text/plain": [
       "(400,)"
      ]
     },
     "execution_count": 31,
     "metadata": {},
     "output_type": "execute_result"
    }
   ],
   "source": [
    "embedding_matrix[stoi['hola']].shape"
   ]
  },
  {
   "cell_type": "code",
   "execution_count": 32,
   "metadata": {},
   "outputs": [
    {
     "name": "stderr",
     "output_type": "stream",
     "text": [
      "Using TensorFlow backend.\n"
     ]
    },
    {
     "name": "stdout",
     "output_type": "stream",
     "text": [
      "Shape of data train tensor: (12808, 32)\n",
      "Shape of data val  tensor: (506, 32)\n",
      "Shape of data test  tensor: (1899, 32)\n"
     ]
    }
   ],
   "source": [
    "# !conda install keras -y\n",
    "from keras.preprocessing.sequence import pad_sequences\n",
    "x_train_seq = pad_sequences(trn_clas, maxlen=32)\n",
    "x_val_seq   = pad_sequences(val_clas, maxlen=32)\n",
    "x_test_seq  = pad_sequences(tst_clas, maxlen=32)\n",
    "print('Shape of data train tensor:', x_train_seq.shape)\n",
    "print('Shape of data val  tensor:', x_val_seq.shape)\n",
    "print('Shape of data test  tensor:', x_test_seq.shape)"
   ]
  },
  {
   "cell_type": "code",
   "execution_count": 33,
   "metadata": {},
   "outputs": [
    {
     "data": {
      "text/plain": [
       "array([    2,  4888,  2786,    80,    86,     5,     0,     6,   458,    39,  7678,    40,  3127,    24,\n",
       "           0,    14,   390,     5, 12772,     6,   104, 33759,     8,   387,     4,    61, 33759,     5,\n",
       "           0,    34,    19,  1069], dtype=int32)"
      ]
     },
     "execution_count": 33,
     "metadata": {},
     "output_type": "execute_result"
    }
   ],
   "source": [
    "x_train_seq[0]"
   ]
  },
  {
   "cell_type": "markdown",
   "metadata": {},
   "source": [
    "# Model: Convolutional Neural Network"
   ]
  },
  {
   "cell_type": "code",
   "execution_count": 34,
   "metadata": {},
   "outputs": [
    {
     "name": "stdout",
     "output_type": "stream",
     "text": [
      "[]\n",
      "WARNING:tensorflow:From /home/dpalominop/anaconda3/envs/fastai_v07/lib/python3.6/site-packages/tensorflow/python/framework/op_def_library.py:263: colocate_with (from tensorflow.python.framework.ops) is deprecated and will be removed in a future version.\n",
      "Instructions for updating:\n",
      "Colocations handled automatically by placer.\n",
      "WARNING:tensorflow:From /home/dpalominop/anaconda3/envs/fastai_v07/lib/python3.6/site-packages/keras/backend/tensorflow_backend.py:3445: calling dropout (from tensorflow.python.ops.nn_ops) with keep_prob is deprecated and will be removed in a future version.\n",
      "Instructions for updating:\n",
      "Please use `rate` instead of `keep_prob`. Rate should be set to `rate = 1 - keep_prob`.\n",
      "__________________________________________________________________________________________________\n",
      "Layer (type)                    Output Shape         Param #     Connected to                     \n",
      "==================================================================================================\n",
      "input_1 (InputLayer)            (None, 32)           0                                            \n",
      "__________________________________________________________________________________________________\n",
      "embedding_1 (Embedding)         (None, 32, 400)      16045200    input_1[0][0]                    \n",
      "__________________________________________________________________________________________________\n",
      "conv1d_1 (Conv1D)               (None, 31, 100)      80100       embedding_1[0][0]                \n",
      "__________________________________________________________________________________________________\n",
      "conv1d_2 (Conv1D)               (None, 30, 100)      120100      embedding_1[0][0]                \n",
      "__________________________________________________________________________________________________\n",
      "global_max_pooling1d_1 (GlobalM (None, 100)          0           conv1d_1[0][0]                   \n",
      "__________________________________________________________________________________________________\n",
      "global_max_pooling1d_2 (GlobalM (None, 100)          0           conv1d_2[0][0]                   \n",
      "__________________________________________________________________________________________________\n",
      "dropout_1 (Dropout)             (None, 100)          0           global_max_pooling1d_1[0][0]     \n",
      "__________________________________________________________________________________________________\n",
      "dropout_2 (Dropout)             (None, 100)          0           global_max_pooling1d_2[0][0]     \n",
      "__________________________________________________________________________________________________\n",
      "concatenate_1 (Concatenate)     (None, 200)          0           dropout_1[0][0]                  \n",
      "                                                                 dropout_2[0][0]                  \n",
      "__________________________________________________________________________________________________\n",
      "dense_1 (Dense)                 (None, 64)           12864       concatenate_1[0][0]              \n",
      "__________________________________________________________________________________________________\n",
      "dropout_3 (Dropout)             (None, 64)           0           dense_1[0][0]                    \n",
      "__________________________________________________________________________________________________\n",
      "dense_2 (Dense)                 (None, 4)            260         dropout_3[0][0]                  \n",
      "__________________________________________________________________________________________________\n",
      "activation_1 (Activation)       (None, 4)            0           dense_2[0][0]                    \n",
      "==================================================================================================\n",
      "Total params: 16,258,524\n",
      "Trainable params: 213,324\n",
      "Non-trainable params: 16,045,200\n",
      "__________________________________________________________________________________________________\n"
     ]
    }
   ],
   "source": [
    "import tensorflow as tf\n",
    "import keras \n",
    "from keras import losses\n",
    "\n",
    "from keras import backend as K\n",
    "print(K.tensorflow_backend._get_available_gpus())\n",
    "\n",
    "\n",
    "config = tf.ConfigProto(intra_op_parallelism_threads=4, \\\n",
    "                        inter_op_parallelism_threads=4, \\\n",
    "                        allow_soft_placement=True,\\\n",
    "                        device_count = {'CPU' : 1, 'GPU' : 0})\n",
    "\n",
    "sess = tf.Session(config=config)\n",
    "K.set_session(sess)\n",
    "    \n",
    "seed = 0\n",
    "\n",
    "from keras.models import Sequential\n",
    "from keras.layers import Dense, Dropout\n",
    "from keras.layers import Flatten\n",
    "from keras.layers.embeddings import Embedding\n",
    "\n",
    "from keras.layers import Input, Dense, concatenate, Activation\n",
    "from keras.models import Model\n",
    "from keras.layers import Conv1D, GlobalMaxPooling1D\n",
    "\n",
    "tweet_input = Input(shape=(32,), dtype='int32')\n",
    "\n",
    "tweet_encoder   = Embedding(len(stoi), 400, weights=[embedding_matrix], input_length=32, trainable=False)(tweet_input)\n",
    "bigram_branch   = Conv1D(filters=100, kernel_size=2, padding='valid', activation='relu', strides=1)(tweet_encoder)\n",
    "bigram_branch   = GlobalMaxPooling1D()(bigram_branch)\n",
    "bigram_branch   = Dropout(0.7)(bigram_branch)\n",
    "trigram_branch  = Conv1D(filters=100, kernel_size=3, padding='valid', activation='relu', strides=1)(tweet_encoder)\n",
    "trigram_branch  = GlobalMaxPooling1D()(trigram_branch)\n",
    "trigram_branch   = Dropout(0.7)(trigram_branch)\n",
    "#fourgram_branch = Conv1D(filters=100, kernel_size=4, padding='valid', activation='relu', strides=1)(tweet_encoder)\n",
    "#fourgram_branch = GlobalMaxPooling1D()(fourgram_branch)\n",
    "# merged = concatenate([bigram_branch, trigram_branch, fourgram_branch], axis=1)\n",
    "\n",
    "merged = concatenate([bigram_branch, trigram_branch], axis=1)\n",
    "merged = Dense(64, activation='relu')(merged)\n",
    "merged = Dropout(0.7)(merged)\n",
    "\n",
    "merged = Dense(4)(merged)\n",
    "output = Activation('softmax')(merged)\n",
    "model = Model(inputs=[tweet_input], outputs=[output])\n",
    "model.compile(loss='categorical_crossentropy',\n",
    "                  optimizer='adam',\n",
    "                  metrics=['accuracy'])\n",
    "model.summary()"
   ]
  },
  {
   "cell_type": "code",
   "execution_count": 35,
   "metadata": {},
   "outputs": [],
   "source": [
    "import numpy as np\n",
    "from keras.callbacks import Callback\n",
    "from sklearn.metrics import confusion_matrix, f1_score, precision_score, recall_score\n",
    "\n",
    "class Metrics(Callback):\n",
    "\n",
    "    def on_train_begin(self, logs={}):\n",
    "        self.val_f1s = []\n",
    "        self.val_recalls = []\n",
    "        self.val_precisions = []\n",
    "\n",
    "    def on_epoch_end(self, epoch, logs={}):\n",
    "        val_predict = np.argmax(self.model.predict(self.validation_data[0]), axis=1)\n",
    "        val_targ = np.argmax(self.validation_data[1], axis=1)\n",
    "        _val_f1 = f1_score(val_targ, val_predict, average='macro')\n",
    "        _val_recall = recall_score(val_targ, val_predict, average='macro')\n",
    "        _val_precision = precision_score(val_targ, val_predict, average='macro')\n",
    "        self.val_f1s.append(_val_f1)\n",
    "        self.val_recalls.append(_val_recall)\n",
    "        self.val_precisions.append(_val_precision)\n",
    "        print(\" — val_f1: %f — val_precision: %f — val_recall %f\" %(_val_f1, _val_precision, _val_recall))\n",
    "        return\n",
    " \n",
    "metrics = Metrics()"
   ]
  },
  {
   "cell_type": "code",
   "execution_count": 36,
   "metadata": {},
   "outputs": [
    {
     "name": "stdout",
     "output_type": "stream",
     "text": [
      "WARNING:tensorflow:From /home/dpalominop/anaconda3/envs/fastai_v07/lib/python3.6/site-packages/tensorflow/python/ops/math_ops.py:3066: to_int32 (from tensorflow.python.ops.math_ops) is deprecated and will be removed in a future version.\n",
      "Instructions for updating:\n",
      "Use tf.cast instead.\n",
      "WARNING:tensorflow:From /home/dpalominop/anaconda3/envs/fastai_v07/lib/python3.6/site-packages/tensorflow/python/ops/math_grad.py:102: div (from tensorflow.python.ops.math_ops) is deprecated and will be removed in a future version.\n",
      "Instructions for updating:\n",
      "Deprecated in favor of operator or tf.math.divide.\n",
      "Train on 12808 samples, validate on 506 samples\n",
      "Epoch 1/50\n",
      "12808/12808 [==============================] - 4s 344us/step - loss: 1.6722 - acc: 0.2579 - val_loss: 1.3908 - val_acc: 0.1225\n",
      "\n",
      "Epoch 00001: saving model to model/CNN_2019_best_weights.01-0.1225.hdf5\n",
      " — val_f1: 0.056245 — val_precision: 0.155318 — val_recall 0.247109\n",
      "Epoch 2/50\n",
      "  768/12808 [>.............................] - ETA: 2s - loss: 1.4067 - acc: 0.2617"
     ]
    },
    {
     "name": "stderr",
     "output_type": "stream",
     "text": [
      "/home/dpalominop/anaconda3/envs/fastai_v07/lib/python3.6/site-packages/sklearn/metrics/classification.py:1437: UndefinedMetricWarning: F-score is ill-defined and being set to 0.0 in labels with no predicted samples.\n",
      "  'precision', 'predicted', average, warn_for)\n",
      "/home/dpalominop/anaconda3/envs/fastai_v07/lib/python3.6/site-packages/sklearn/metrics/classification.py:1437: UndefinedMetricWarning: Precision is ill-defined and being set to 0.0 in labels with no predicted samples.\n",
      "  'precision', 'predicted', average, warn_for)\n"
     ]
    },
    {
     "name": "stdout",
     "output_type": "stream",
     "text": [
      "12808/12808 [==============================] - 3s 230us/step - loss: 1.3924 - acc: 0.2681 - val_loss: 1.3906 - val_acc: 0.1245\n",
      "\n",
      "Epoch 00002: saving model to model/CNN_2019_best_weights.02-0.1245.hdf5\n",
      " — val_f1: 0.060272 — val_precision: 0.196985 — val_recall 0.249173\n",
      "Epoch 3/50\n",
      "  512/12808 [>.............................] - ETA: 3s - loss: 1.3725 - acc: 0.2754"
     ]
    },
    {
     "name": "stderr",
     "output_type": "stream",
     "text": [
      "/home/dpalominop/anaconda3/envs/fastai_v07/lib/python3.6/site-packages/sklearn/metrics/classification.py:1437: UndefinedMetricWarning: F-score is ill-defined and being set to 0.0 in labels with no predicted samples.\n",
      "  'precision', 'predicted', average, warn_for)\n",
      "/home/dpalominop/anaconda3/envs/fastai_v07/lib/python3.6/site-packages/sklearn/metrics/classification.py:1437: UndefinedMetricWarning: Precision is ill-defined and being set to 0.0 in labels with no predicted samples.\n",
      "  'precision', 'predicted', average, warn_for)\n"
     ]
    },
    {
     "name": "stdout",
     "output_type": "stream",
     "text": [
      "12808/12808 [==============================] - 3s 251us/step - loss: 1.3790 - acc: 0.2794 - val_loss: 1.3855 - val_acc: 0.2312\n",
      "\n",
      "Epoch 00003: saving model to model/CNN_2019_best_weights.03-0.2312.hdf5\n",
      " — val_f1: 0.157006 — val_precision: 0.416291 — val_recall 0.272777\n",
      "Epoch 4/50\n",
      "12808/12808 [==============================] - 3s 253us/step - loss: 1.3540 - acc: 0.3125 - val_loss: 1.3635 - val_acc: 0.3577\n",
      "\n",
      "Epoch 00004: saving model to model/CNN_2019_best_weights.04-0.3577.hdf5\n",
      " — val_f1: 0.288061 — val_precision: 0.424482 — val_recall 0.331700\n",
      "Epoch 5/50\n",
      "12808/12808 [==============================] - 3s 222us/step - loss: 1.3229 - acc: 0.3543 - val_loss: 1.3418 - val_acc: 0.4704\n",
      "\n",
      "Epoch 00005: saving model to model/CNN_2019_best_weights.05-0.4704.hdf5\n",
      " — val_f1: 0.371931 — val_precision: 0.403893 — val_recall 0.379339\n",
      "Epoch 6/50\n",
      "12808/12808 [==============================] - 3s 230us/step - loss: 1.2939 - acc: 0.3715 - val_loss: 1.3089 - val_acc: 0.4941\n",
      "\n",
      "Epoch 00006: saving model to model/CNN_2019_best_weights.06-0.4941.hdf5\n",
      " — val_f1: 0.371579 — val_precision: 0.413068 — val_recall 0.378304\n",
      "Epoch 7/50\n",
      "12808/12808 [==============================] - 3s 226us/step - loss: 1.2756 - acc: 0.3882 - val_loss: 1.2965 - val_acc: 0.3775\n",
      "\n",
      "Epoch 00007: saving model to model/CNN_2019_best_weights.07-0.3775.hdf5\n",
      " — val_f1: 0.347049 — val_precision: 0.430566 — val_recall 0.359281\n",
      "Epoch 8/50\n",
      "12808/12808 [==============================] - 3s 219us/step - loss: 1.2461 - acc: 0.4083 - val_loss: 1.2820 - val_acc: 0.3340\n",
      "\n",
      "Epoch 00008: saving model to model/CNN_2019_best_weights.08-0.3340.hdf5\n",
      " — val_f1: 0.329470 — val_precision: 0.402163 — val_recall 0.360495\n",
      "Epoch 9/50\n",
      "12808/12808 [==============================] - 3s 245us/step - loss: 1.2106 - acc: 0.4343 - val_loss: 1.2569 - val_acc: 0.3893\n",
      "\n",
      "Epoch 00009: saving model to model/CNN_2019_best_weights.09-0.3893.hdf5\n",
      " — val_f1: 0.366584 — val_precision: 0.469772 — val_recall 0.382688\n",
      "Epoch 10/50\n",
      "12808/12808 [==============================] - 3s 249us/step - loss: 1.1844 - acc: 0.4574 - val_loss: 1.2322 - val_acc: 0.5040\n",
      "\n",
      "Epoch 00010: saving model to model/CNN_2019_best_weights.10-0.5040.hdf5\n",
      " — val_f1: 0.433406 — val_precision: 0.470279 — val_recall 0.436955\n",
      "Epoch 11/50\n",
      "12808/12808 [==============================] - 3s 223us/step - loss: 1.1675 - acc: 0.4593 - val_loss: 1.2251 - val_acc: 0.4723\n",
      "\n",
      "Epoch 00011: saving model to model/CNN_2019_best_weights.11-0.4723.hdf5\n",
      " — val_f1: 0.424200 — val_precision: 0.484084 — val_recall 0.427005\n",
      "Epoch 12/50\n",
      "12808/12808 [==============================] - 3s 223us/step - loss: 1.1313 - acc: 0.4809 - val_loss: 1.1960 - val_acc: 0.5356\n",
      "\n",
      "Epoch 00012: saving model to model/CNN_2019_best_weights.12-0.5356.hdf5\n",
      " — val_f1: 0.450409 — val_precision: 0.487235 — val_recall 0.441256\n",
      "Epoch 13/50\n",
      "12808/12808 [==============================] - 3s 266us/step - loss: 1.1095 - acc: 0.4995 - val_loss: 1.1849 - val_acc: 0.5375\n",
      "\n",
      "Epoch 00013: saving model to model/CNN_2019_best_weights.13-0.5375.hdf5\n",
      " — val_f1: 0.444209 — val_precision: 0.473200 — val_recall 0.435361\n",
      "Epoch 14/50\n",
      "12808/12808 [==============================] - 3s 242us/step - loss: 1.0995 - acc: 0.5062 - val_loss: 1.1694 - val_acc: 0.5553\n",
      "\n",
      "Epoch 00014: saving model to model/CNN_2019_best_weights.14-0.5553.hdf5\n",
      " — val_f1: 0.488504 — val_precision: 0.526362 — val_recall 0.483040\n",
      "Epoch 15/50\n",
      "12808/12808 [==============================] - 3s 246us/step - loss: 1.0710 - acc: 0.5298 - val_loss: 1.1648 - val_acc: 0.5277\n",
      "\n",
      "Epoch 00015: saving model to model/CNN_2019_best_weights.15-0.5277.hdf5\n",
      " — val_f1: 0.460351 — val_precision: 0.472394 — val_recall 0.462432\n",
      "Epoch 16/50\n",
      "12808/12808 [==============================] - 3s 253us/step - loss: 1.0739 - acc: 0.5221 - val_loss: 1.1728 - val_acc: 0.4526\n",
      "\n",
      "Epoch 00016: saving model to model/CNN_2019_best_weights.16-0.4526.hdf5\n",
      " — val_f1: 0.423942 — val_precision: 0.477405 — val_recall 0.444150\n",
      "Epoch 17/50\n",
      "12808/12808 [==============================] - 3s 238us/step - loss: 1.0357 - acc: 0.5469 - val_loss: 1.1512 - val_acc: 0.5257\n",
      "\n",
      "Epoch 00017: saving model to model/CNN_2019_best_weights.17-0.5257.hdf5\n",
      " — val_f1: 0.465375 — val_precision: 0.484435 — val_recall 0.467834\n",
      "Epoch 18/50\n",
      "12808/12808 [==============================] - 3s 207us/step - loss: 1.0183 - acc: 0.5600 - val_loss: 1.1613 - val_acc: 0.4901\n",
      "\n",
      "Epoch 00018: saving model to model/CNN_2019_best_weights.18-0.4901.hdf5\n",
      " — val_f1: 0.448203 — val_precision: 0.488270 — val_recall 0.456783\n",
      "Epoch 19/50\n",
      "12808/12808 [==============================] - 3s 260us/step - loss: 0.9914 - acc: 0.5698 - val_loss: 1.1436 - val_acc: 0.5119\n",
      "\n",
      "Epoch 00019: saving model to model/CNN_2019_best_weights.19-0.5119.hdf5\n",
      " — val_f1: 0.453064 — val_precision: 0.461712 — val_recall 0.458211\n",
      "Epoch 20/50\n",
      "12808/12808 [==============================] - 3s 237us/step - loss: 0.9903 - acc: 0.5723 - val_loss: 1.1580 - val_acc: 0.4881\n",
      "\n",
      "Epoch 00020: saving model to model/CNN_2019_best_weights.20-0.4881.hdf5\n",
      " — val_f1: 0.445813 — val_precision: 0.485519 — val_recall 0.452823\n",
      "Epoch 21/50\n",
      "12808/12808 [==============================] - 3s 224us/step - loss: 0.9887 - acc: 0.5739 - val_loss: 1.1483 - val_acc: 0.4822\n",
      "\n",
      "Epoch 00021: saving model to model/CNN_2019_best_weights.21-0.4822.hdf5\n",
      " — val_f1: 0.444212 — val_precision: 0.476222 — val_recall 0.454418\n",
      "Epoch 22/50\n",
      "12808/12808 [==============================] - 3s 249us/step - loss: 0.9602 - acc: 0.5913 - val_loss: 1.1377 - val_acc: 0.5277\n",
      "\n",
      "Epoch 00022: saving model to model/CNN_2019_best_weights.22-0.5277.hdf5\n",
      " — val_f1: 0.463068 — val_precision: 0.479559 — val_recall 0.461354\n",
      "Epoch 23/50\n",
      "12808/12808 [==============================] - 3s 227us/step - loss: 0.9424 - acc: 0.6020 - val_loss: 1.1374 - val_acc: 0.5296\n",
      "\n",
      "Epoch 00023: saving model to model/CNN_2019_best_weights.23-0.5296.hdf5\n",
      " — val_f1: 0.464007 — val_precision: 0.476429 — val_recall 0.465241\n",
      "Epoch 24/50\n",
      "12808/12808 [==============================] - 3s 240us/step - loss: 0.9229 - acc: 0.6104 - val_loss: 1.1215 - val_acc: 0.5514\n",
      "\n",
      "Epoch 00024: saving model to model/CNN_2019_best_weights.24-0.5514.hdf5\n",
      " — val_f1: 0.494699 — val_precision: 0.506179 — val_recall 0.496293\n",
      "Epoch 25/50\n",
      "12808/12808 [==============================] - 3s 257us/step - loss: 0.9016 - acc: 0.6220 - val_loss: 1.1287 - val_acc: 0.5356\n",
      "\n",
      "Epoch 00025: saving model to model/CNN_2019_best_weights.25-0.5356.hdf5\n",
      " — val_f1: 0.470837 — val_precision: 0.484740 — val_recall 0.471733\n",
      "Epoch 26/50\n",
      "12808/12808 [==============================] - 3s 234us/step - loss: 0.8889 - acc: 0.6287 - val_loss: 1.1328 - val_acc: 0.5316\n",
      "\n",
      "Epoch 00026: saving model to model/CNN_2019_best_weights.26-0.5316.hdf5\n",
      " — val_f1: 0.466269 — val_precision: 0.477180 — val_recall 0.464667\n",
      "Epoch 27/50\n",
      "12808/12808 [==============================] - 3s 245us/step - loss: 0.8792 - acc: 0.6351 - val_loss: 1.1375 - val_acc: 0.5119\n",
      "\n",
      "Epoch 00027: saving model to model/CNN_2019_best_weights.27-0.5119.hdf5\n",
      " — val_f1: 0.465349 — val_precision: 0.494608 — val_recall 0.471364\n",
      "Epoch 28/50\n",
      "12808/12808 [==============================] - 3s 239us/step - loss: 0.8657 - acc: 0.6415 - val_loss: 1.1333 - val_acc: 0.5494\n",
      "\n",
      "Epoch 00028: saving model to model/CNN_2019_best_weights.28-0.5494.hdf5\n",
      " — val_f1: 0.471367 — val_precision: 0.487310 — val_recall 0.471973\n",
      "Epoch 29/50\n",
      "12808/12808 [==============================] - 3s 251us/step - loss: 0.8645 - acc: 0.6419 - val_loss: 1.1641 - val_acc: 0.4901\n",
      "\n",
      "Epoch 00029: saving model to model/CNN_2019_best_weights.29-0.4901.hdf5\n",
      " — val_f1: 0.434515 — val_precision: 0.467344 — val_recall 0.437671\n",
      "Epoch 30/50\n",
      "12808/12808 [==============================] - 3s 235us/step - loss: 0.8474 - acc: 0.6545 - val_loss: 1.1208 - val_acc: 0.5395\n",
      "\n",
      "Epoch 00030: saving model to model/CNN_2019_best_weights.30-0.5395.hdf5\n",
      " — val_f1: 0.471616 — val_precision: 0.473558 — val_recall 0.473968\n",
      "Epoch 31/50\n",
      "12808/12808 [==============================] - 3s 227us/step - loss: 0.8242 - acc: 0.6718 - val_loss: 1.1362 - val_acc: 0.5415\n",
      "\n",
      "Epoch 00031: saving model to model/CNN_2019_best_weights.31-0.5415.hdf5\n",
      " — val_f1: 0.483861 — val_precision: 0.491884 — val_recall 0.487518\n",
      "Epoch 32/50\n",
      "12808/12808 [==============================] - 3s 232us/step - loss: 0.8005 - acc: 0.6819 - val_loss: 1.1632 - val_acc: 0.5237\n",
      "\n",
      "Epoch 00032: saving model to model/CNN_2019_best_weights.32-0.5237.hdf5\n",
      " — val_f1: 0.468156 — val_precision: 0.477232 — val_recall 0.471715\n",
      "Epoch 33/50\n",
      "12808/12808 [==============================] - 3s 249us/step - loss: 0.8075 - acc: 0.6792 - val_loss: 1.1398 - val_acc: 0.5474\n",
      "\n",
      "Epoch 00033: saving model to model/CNN_2019_best_weights.33-0.5474.hdf5\n",
      " — val_f1: 0.475654 — val_precision: 0.508162 — val_recall 0.469397\n",
      "Epoch 34/50\n",
      "12808/12808 [==============================] - 3s 235us/step - loss: 0.7918 - acc: 0.6827 - val_loss: 1.1123 - val_acc: 0.5573\n",
      "\n",
      "Epoch 00034: saving model to model/CNN_2019_best_weights.34-0.5573.hdf5\n",
      " — val_f1: 0.483249 — val_precision: 0.482173 — val_recall 0.485521\n",
      "Epoch 35/50\n",
      "12808/12808 [==============================] - 3s 231us/step - loss: 0.7811 - acc: 0.6969 - val_loss: 1.1244 - val_acc: 0.5652\n",
      "\n",
      "Epoch 00035: saving model to model/CNN_2019_best_weights.35-0.5652.hdf5\n",
      " — val_f1: 0.491350 — val_precision: 0.496369 — val_recall 0.489394\n",
      "Epoch 36/50\n",
      "12808/12808 [==============================] - 3s 238us/step - loss: 0.7743 - acc: 0.6940 - val_loss: 1.1348 - val_acc: 0.5593\n",
      "\n",
      "Epoch 00036: saving model to model/CNN_2019_best_weights.36-0.5593.hdf5\n",
      " — val_f1: 0.478622 — val_precision: 0.484651 — val_recall 0.477401\n",
      "Epoch 37/50\n",
      "12808/12808 [==============================] - 3s 241us/step - loss: 0.7774 - acc: 0.6910 - val_loss: 1.1897 - val_acc: 0.5217\n",
      "\n",
      "Epoch 00037: saving model to model/CNN_2019_best_weights.37-0.5217.hdf5\n",
      " — val_f1: 0.458434 — val_precision: 0.478007 — val_recall 0.461364\n",
      "Epoch 38/50\n",
      "12808/12808 [==============================] - 3s 236us/step - loss: 0.7653 - acc: 0.7053 - val_loss: 1.1501 - val_acc: 0.5514\n",
      "\n",
      "Epoch 00038: saving model to model/CNN_2019_best_weights.38-0.5514.hdf5\n",
      " — val_f1: 0.471013 — val_precision: 0.476178 — val_recall 0.470353\n",
      "Epoch 39/50\n",
      "12808/12808 [==============================] - 3s 227us/step - loss: 0.7434 - acc: 0.7103 - val_loss: 1.1350 - val_acc: 0.5435\n",
      "\n",
      "Epoch 00039: saving model to model/CNN_2019_best_weights.39-0.5435.hdf5\n",
      " — val_f1: 0.470010 — val_precision: 0.472564 — val_recall 0.473464\n",
      "Epoch 40/50\n",
      "12808/12808 [==============================] - 3s 237us/step - loss: 0.7499 - acc: 0.7117 - val_loss: 1.1434 - val_acc: 0.5217\n",
      "\n",
      "Epoch 00040: saving model to model/CNN_2019_best_weights.40-0.5217.hdf5\n",
      " — val_f1: 0.458789 — val_precision: 0.468605 — val_recall 0.462467\n",
      "Epoch 41/50\n",
      "12808/12808 [==============================] - 3s 223us/step - loss: 0.7340 - acc: 0.7187 - val_loss: 1.1719 - val_acc: 0.5138\n",
      "\n",
      "Epoch 00041: saving model to model/CNN_2019_best_weights.41-0.5138.hdf5\n",
      " — val_f1: 0.457544 — val_precision: 0.468495 — val_recall 0.460683\n",
      "Epoch 42/50\n",
      "12808/12808 [==============================] - 3s 237us/step - loss: 0.7311 - acc: 0.7207 - val_loss: 1.1252 - val_acc: 0.5553\n",
      "\n",
      "Epoch 00042: saving model to model/CNN_2019_best_weights.42-0.5553.hdf5\n",
      " — val_f1: 0.478723 — val_precision: 0.483759 — val_recall 0.475936\n",
      "Epoch 43/50\n",
      "12808/12808 [==============================] - 3s 247us/step - loss: 0.6962 - acc: 0.7342 - val_loss: 1.1284 - val_acc: 0.5494\n",
      "\n",
      "Epoch 00043: saving model to model/CNN_2019_best_weights.43-0.5494.hdf5\n",
      " — val_f1: 0.456584 — val_precision: 0.466595 — val_recall 0.451431\n",
      "Epoch 44/50\n",
      "12808/12808 [==============================] - 3s 227us/step - loss: 0.6809 - acc: 0.7381 - val_loss: 1.1650 - val_acc: 0.5415\n",
      "\n",
      "Epoch 00044: saving model to model/CNN_2019_best_weights.44-0.5415.hdf5\n",
      " — val_f1: 0.461290 — val_precision: 0.470577 — val_recall 0.457838\n",
      "Epoch 45/50\n",
      "12808/12808 [==============================] - 3s 250us/step - loss: 0.6833 - acc: 0.7414 - val_loss: 1.1698 - val_acc: 0.5573\n",
      "\n",
      "Epoch 00045: saving model to model/CNN_2019_best_weights.45-0.5573.hdf5\n",
      " — val_f1: 0.456310 — val_precision: 0.465202 — val_recall 0.451956\n",
      "Epoch 46/50\n",
      "12808/12808 [==============================] - 3s 229us/step - loss: 0.6677 - acc: 0.7470 - val_loss: 1.1693 - val_acc: 0.5632\n",
      "\n",
      "Epoch 00046: saving model to model/CNN_2019_best_weights.46-0.5632.hdf5\n",
      " — val_f1: 0.478703 — val_precision: 0.484568 — val_recall 0.475823\n",
      "Epoch 47/50\n",
      "12808/12808 [==============================] - 3s 238us/step - loss: 0.6535 - acc: 0.7535 - val_loss: 1.1968 - val_acc: 0.5692\n",
      "\n",
      "Epoch 00047: saving model to model/CNN_2019_best_weights.47-0.5692.hdf5\n",
      " — val_f1: 0.472354 — val_precision: 0.487525 — val_recall 0.465789\n",
      "Epoch 48/50\n",
      "12808/12808 [==============================] - 3s 231us/step - loss: 0.6428 - acc: 0.7562 - val_loss: 1.1900 - val_acc: 0.5435\n",
      "\n",
      "Epoch 00048: saving model to model/CNN_2019_best_weights.48-0.5435.hdf5\n",
      " — val_f1: 0.444609 — val_precision: 0.451807 — val_recall 0.441255\n",
      "Epoch 49/50\n",
      "12808/12808 [==============================] - 3s 233us/step - loss: 0.6426 - acc: 0.7618 - val_loss: 1.1759 - val_acc: 0.5534\n",
      "\n",
      "Epoch 00049: saving model to model/CNN_2019_best_weights.49-0.5534.hdf5\n",
      " — val_f1: 0.462812 — val_precision: 0.465727 — val_recall 0.460930\n",
      "Epoch 50/50\n",
      "12808/12808 [==============================] - 3s 239us/step - loss: 0.6287 - acc: 0.7619 - val_loss: 1.1677 - val_acc: 0.5613\n",
      "\n",
      "Epoch 00050: saving model to model/CNN_2019_best_weights.50-0.5613.hdf5\n",
      " — val_f1: 0.463928 — val_precision: 0.464296 — val_recall 0.468235\n"
     ]
    },
    {
     "data": {
      "text/plain": [
       "<keras.callbacks.History at 0x7f58ac764978>"
      ]
     },
     "execution_count": 36,
     "metadata": {},
     "output_type": "execute_result"
    }
   ],
   "source": [
    "from keras.callbacks import ModelCheckpoint\n",
    "from keras.utils import to_categorical\n",
    "\n",
    "filepath=\"model/CNN_2019_best_weights.{epoch:02d}-{val_acc:.4f}.hdf5\"\n",
    "checkpoint = ModelCheckpoint(filepath, monitor='val_acc', verbose=1)#, save_best_only=True, mode='max')\n",
    "\n",
    "model.fit(x_train_seq, to_categorical(trn_labels), batch_size=256, epochs=50,\n",
    "                     validation_data=(x_val_seq, to_categorical(val_labels)), shuffle=True, callbacks = [checkpoint, metrics])"
   ]
  },
  {
   "cell_type": "code",
   "execution_count": 37,
   "metadata": {},
   "outputs": [
    {
     "data": {
      "text/plain": [
       "0.4639284574744051"
      ]
     },
     "execution_count": 37,
     "metadata": {},
     "output_type": "execute_result"
    }
   ],
   "source": [
    "from sklearn.metrics import f1_score\n",
    "\n",
    "f1_score(np.argmax(model.predict(x_val_seq), axis=1), val_labels, average='macro')"
   ]
  },
  {
   "cell_type": "code",
   "execution_count": 38,
   "metadata": {},
   "outputs": [
    {
     "name": "stdout",
     "output_type": "stream",
     "text": [
      "506/506 [==============================] - 0s 142us/step\n"
     ]
    },
    {
     "data": {
      "text/plain": [
       "[1.16771805050816, 0.5612648222521831]"
      ]
     },
     "execution_count": 38,
     "metadata": {},
     "output_type": "execute_result"
    }
   ],
   "source": [
    "model.evaluate(x=x_val_seq, y=to_categorical(val_labels))"
   ]
  },
  {
   "cell_type": "code",
   "execution_count": 39,
   "metadata": {},
   "outputs": [
    {
     "name": "stdout",
     "output_type": "stream",
     "text": [
      "F1(macro) =  0.4362032175799696\n"
     ]
    }
   ],
   "source": [
    "f1 = f1_score(tst_labels, np.argmax(model.predict(x_test_seq), axis=1), average='macro')\n",
    "print('F1(macro) = ', f1)"
   ]
  },
  {
   "cell_type": "code",
   "execution_count": 42,
   "metadata": {},
   "outputs": [
    {
     "name": "stdout",
     "output_type": "stream",
     "text": [
      "1899/1899 [==============================] - 0s 199us/step\n"
     ]
    },
    {
     "data": {
      "text/plain": [
       "[1.1817719544970153, 0.545023696808014]"
      ]
     },
     "execution_count": 42,
     "metadata": {},
     "output_type": "execute_result"
    }
   ],
   "source": [
    "from keras.models import load_model\n",
    "\n",
    "loaded_CNN_model = load_model('model/CNN_2019_best_weights.34-0.5573.hdf5')\n",
    "loaded_CNN_model.evaluate(x=x_test_seq, y=to_categorical(tst_labels))"
   ]
  },
  {
   "cell_type": "code",
   "execution_count": 43,
   "metadata": {},
   "outputs": [
    {
     "name": "stdout",
     "output_type": "stream",
     "text": [
      "F1(macro) =  0.4482876701553635\n",
      "Accuracy  =  0.5450236966824644\n"
     ]
    }
   ],
   "source": [
    "f1 = f1_score(tst_labels, np.argmax(loaded_CNN_model.predict(x_test_seq), axis=1), average='macro')\n",
    "print('F1(macro) = ', f1)\n",
    "\n",
    "acc = (np.argmax(loaded_CNN_model.predict(x_test_seq), axis=1) == tst_labels).mean()\n",
    "print('Accuracy  = ', acc)"
   ]
  },
  {
   "cell_type": "code",
   "execution_count": 45,
   "metadata": {},
   "outputs": [],
   "source": [
    "def plot_confusion_matrix(cm, classes,\n",
    "                          normalize=False,\n",
    "                          title='Confusion matrix',\n",
    "                          cmap=plt.cm.Blues):\n",
    "    \"\"\"\n",
    "    This function prints and plots the confusion matrix.\n",
    "    Normalization can be applied by setting `normalize=True`.\n",
    "    \"\"\"\n",
    "    if normalize:\n",
    "        cm = cm.astype('float') / cm.sum(axis=1)[:, np.newaxis]\n",
    "\n",
    "    plt.imshow(cm, interpolation='nearest', cmap=cmap)\n",
    "    plt.title(title)\n",
    "    plt.colorbar()\n",
    "    tick_marks = np.arange(len(classes))\n",
    "    plt.xticks(tick_marks, classes, rotation=45)\n",
    "    plt.yticks(tick_marks, classes)\n",
    "\n",
    "    fmt = '.2f' if normalize else 'd'\n",
    "    thresh = cm.max() / 2.\n",
    "    for i, j in itertools.product(range(cm.shape[0]), range(cm.shape[1])):\n",
    "        plt.text(j, i, format(cm[i, j], fmt),\n",
    "                 horizontalalignment=\"center\",\n",
    "                 color=\"white\" if cm[i, j] > thresh else \"black\")\n",
    "\n",
    "    plt.ylabel('True label')\n",
    "    plt.xlabel('Predicted label')\n",
    "    plt.tight_layout()"
   ]
  },
  {
   "cell_type": "code",
   "execution_count": 46,
   "metadata": {},
   "outputs": [
    {
     "data": {
      "image/png": "[encoded data removed]",
      "text/plain": [
       "<Figure size 432x288 with 2 Axes>"
      ]
     },
     "metadata": {
      "needs_background": "light"
     },
     "output_type": "display_data"
    }
   ],
   "source": [
    "cnf_matrix = confusion_matrix(tst_labels, np.argmax(loaded_CNN_model.predict(x_test_seq), axis=1))\n",
    "plt.figure()\n",
    "plot_confusion_matrix(cnf_matrix, classes=['N', 'P', 'NEU', 'NONE'], title='confusion matrix')\n",
    "plt.show()"
   ]
  },
  {
   "cell_type": "code",
   "execution_count": 47,
   "metadata": {},
   "outputs": [
    {
     "data": {
      "image/png": "[encoded data removed]",
      "text/plain": [
       "<Figure size 432x288 with 2 Axes>"
      ]
     },
     "metadata": {
      "needs_background": "light"
     },
     "output_type": "display_data"
    }
   ],
   "source": [
    "cnf_matrix = confusion_matrix(trn_labels, np.argmax(model.predict(x_train_seq), axis=1))\n",
    "plt.figure()\n",
    "plot_confusion_matrix(cnf_matrix, classes=['N', 'P', 'NEU', 'NONE'], title='confusion matrix')\n",
    "plt.show()"
   ]
  },
  {
   "cell_type": "code",
   "execution_count": null,
   "metadata": {},
   "outputs": [],
   "source": [
    "#from keras.models import load_model\n",
    "\n",
    "#best_model = load_model('model/CNN_best_weights.01-0.7500.hdf5')"
   ]
  },
  {
   "cell_type": "code",
   "execution_count": 56,
   "metadata": {},
   "outputs": [],
   "source": [
    "test_values = np.argmax(loaded_CNN_model.predict(x_test_seq), axis = 1)"
   ]
  },
  {
   "cell_type": "code",
   "execution_count": 54,
   "metadata": {},
   "outputs": [],
   "source": [
    "def getLabel(num):\n",
    "    if num == 0:\n",
    "        return 'N'\n",
    "    elif num == 1:\n",
    "        return 'P'\n",
    "    elif num == 2:\n",
    "        return 'NEU'\n",
    "    elif num == 3:\n",
    "        return 'NONE'"
   ]
  },
  {
   "cell_type": "code",
   "execution_count": 57,
   "metadata": {},
   "outputs": [],
   "source": [
    "import xml.etree.ElementTree as ET\n",
    "\n",
    "def putTestValue(xmlFIle, out):\n",
    "    tree = ET.parse(xmlFIle)\n",
    "    root = tree.getroot()\n",
    "\n",
    "    tweets = []\n",
    "    file = open(out,\"w\") \n",
    "    print(len(test_values))\n",
    "    for i,tweet in enumerate(root.iter('tweet')): \n",
    "        #print(i)\n",
    "        val = getLabel(test_values[i])\n",
    "        #print(val, test_values[i])\n",
    "        ID = tweet.find('tweetid').text\n",
    "        file.write(ID + \"\\t\" + val + \"\\n\")\n",
    "    file.close() "
   ]
  },
  {
   "cell_type": "code",
   "execution_count": 58,
   "metadata": {},
   "outputs": [],
   "source": [
    "#test_values = np.argmax(best_model.predict(x_test_set), axis = 1)"
   ]
  },
  {
   "cell_type": "code",
   "execution_count": 59,
   "metadata": {},
   "outputs": [
    {
     "name": "stdout",
     "output_type": "stream",
     "text": [
      "1428\n"
     ]
    }
   ],
   "source": [
    "putTestValue(\"../database/TASS/TASS2018/task1-Test.xml\", \"output_cnn_alldata_20180408-2.txt\")"
   ]
  },
  {
   "cell_type": "code",
   "execution_count": null,
   "metadata": {},
   "outputs": [],
   "source": []
  },
  {
   "cell_type": "code",
   "execution_count": null,
   "metadata": {},
   "outputs": [],
   "source": []
  }
 ],
 "metadata": {
  "accelerator": "GPU",
  "colab": {
   "collapsed_sections": [],
   "name": "cnn_word2vec.ipynb",
   "provenance": [],
   "version": "0.3.2"
  },
  "kernelspec": {
   "display_name": "Python 3",
   "language": "python",
   "name": "python3"
  },
  "language_info": {
   "codemirror_mode": {
    "name": "ipython",
    "version": 3
   },
   "file_extension": ".py",
   "mimetype": "text/x-python",
   "name": "python",
   "nbconvert_exporter": "python",
   "pygments_lexer": "ipython3",
   "version": "3.6.8"
  }
 },
 "nbformat": 4,
 "nbformat_minor": 2
}
